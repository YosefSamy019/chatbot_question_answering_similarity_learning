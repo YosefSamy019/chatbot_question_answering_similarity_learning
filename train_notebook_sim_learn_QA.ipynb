{
  "cells": [
    {
      "cell_type": "markdown",
      "id": "6a22bc95",
      "metadata": {
        "id": "6a22bc95"
      },
      "source": [
        "# Info"
      ]
    },
    {
      "cell_type": "code",
      "execution_count": 92,
      "id": "6uIVR1j1U69d",
      "metadata": {
        "colab": {
          "base_uri": "https://localhost:8080/"
        },
        "id": "6uIVR1j1U69d",
        "outputId": "80d5be8f-4f19-42ad-c256-7be65d579735"
      },
      "outputs": [
        {
          "output_type": "stream",
          "name": "stdout",
          "text": [
            "Drive already mounted at /content/drive; to attempt to forcibly remount, call drive.mount(\"/content/drive\", force_remount=True).\n"
          ]
        }
      ],
      "source": [
        "from google.colab import drive\n",
        "drive.mount('/content/drive')"
      ]
    },
    {
      "cell_type": "markdown",
      "id": "54a35942",
      "metadata": {
        "id": "54a35942"
      },
      "source": [
        "# Libraries Import"
      ]
    },
    {
      "cell_type": "code",
      "execution_count": 93,
      "id": "2a6b2a97",
      "metadata": {
        "id": "2a6b2a97"
      },
      "outputs": [],
      "source": [
        "import tqdm\n",
        "import kagglehub"
      ]
    },
    {
      "cell_type": "code",
      "execution_count": 94,
      "id": "19de29eb",
      "metadata": {
        "id": "19de29eb"
      },
      "outputs": [],
      "source": [
        "import numpy as np\n",
        "import pandas as pd\n",
        "import matplotlib.pyplot as plt\n",
        "import seaborn as sns\n",
        "import umap.umap_ as umap"
      ]
    },
    {
      "cell_type": "code",
      "execution_count": 95,
      "id": "d203ff5a",
      "metadata": {
        "id": "d203ff5a"
      },
      "outputs": [],
      "source": [
        "import os\n",
        "from collections import Counter\n",
        "import random\n",
        "import re\n",
        "import json\n",
        "import pickle\n",
        "from collections import Counter\n",
        "import math"
      ]
    },
    {
      "cell_type": "code",
      "execution_count": 96,
      "id": "hyIEql5JjUr_",
      "metadata": {
        "id": "hyIEql5JjUr_"
      },
      "outputs": [],
      "source": [
        "from tensorflow.keras.layers import *\n",
        "from tensorflow.keras.models import Model, Sequential\n",
        "from tensorflow.keras.callbacks import EarlyStopping, ModelCheckpoint, ReduceLROnPlateau\n",
        "from tensorflow.keras.callbacks import Callback\n",
        "from tensorflow.keras.utils import Sequence\n",
        "from tensorflow.keras.utils import plot_model\n",
        "import tensorflow as tf\n",
        "from tensorflow.keras import backend as K\n",
        "from tensorflow.keras.preprocessing.text import Tokenizer\n",
        "from tensorflow.keras.preprocessing.sequence import pad_sequences"
      ]
    },
    {
      "cell_type": "code",
      "execution_count": 97,
      "id": "nVzF0UFknN6q",
      "metadata": {
        "id": "nVzF0UFknN6q"
      },
      "outputs": [],
      "source": [
        "from sklearn.model_selection import train_test_split\n",
        "from sklearn.manifold import TSNE\n",
        "from sklearn.metrics import silhouette_score\n",
        "from sklearn.neighbors import KNeighborsClassifier\n",
        "from sklearn.metrics import accuracy_score, silhouette_score\n",
        "\n",
        "from sklearn.preprocessing import LabelEncoder"
      ]
    },
    {
      "cell_type": "markdown",
      "id": "a13c92b0",
      "metadata": {
        "id": "a13c92b0"
      },
      "source": [
        "# Constants"
      ]
    },
    {
      "cell_type": "code",
      "execution_count": 98,
      "id": "2030f621",
      "metadata": {
        "id": "2030f621"
      },
      "outputs": [],
      "source": [
        "BASE_DIR = r'drive/MyDrive/chatbot_answerrr'\n",
        "# BASE_DIR = ''"
      ]
    },
    {
      "cell_type": "code",
      "execution_count": 99,
      "id": "6c2c388a",
      "metadata": {
        "id": "6c2c388a"
      },
      "outputs": [],
      "source": [
        "EPOCHS = 20\n",
        "BATCH_SIZE = 1024"
      ]
    },
    {
      "cell_type": "code",
      "execution_count": 100,
      "id": "adfff51f",
      "metadata": {
        "id": "adfff51f"
      },
      "outputs": [],
      "source": [
        "SENTENCE_MAX_WORDS_LEN = 12\n",
        "OOV_TOKEN = '<OOV>'\n",
        "EMBEDDING_DIM = 64"
      ]
    },
    {
      "cell_type": "code",
      "execution_count": 101,
      "id": "0178e668",
      "metadata": {
        "id": "0178e668"
      },
      "outputs": [],
      "source": [
        "VAL_SPLIT = 0.2\n",
        "TEST_SPLIT = 0.2"
      ]
    },
    {
      "cell_type": "code",
      "execution_count": 102,
      "id": "4b8fce14",
      "metadata": {
        "id": "4b8fce14"
      },
      "outputs": [],
      "source": [
        "RONDOM_STATE = 42\n",
        "np.random.seed(RONDOM_STATE)"
      ]
    },
    {
      "cell_type": "code",
      "execution_count": 103,
      "id": "70f05886",
      "metadata": {
        "id": "70f05886"
      },
      "outputs": [],
      "source": [
        "CACHE_MODELS_DIR_NAME = os.path.join(BASE_DIR, 'train_cache')\n",
        "os.makedirs(CACHE_MODELS_DIR_NAME, exist_ok=True)"
      ]
    },
    {
      "cell_type": "code",
      "execution_count": 104,
      "id": "f371320a",
      "metadata": {
        "id": "f371320a"
      },
      "outputs": [],
      "source": [
        "LOGGING_DIR_NAME = os.path.join(BASE_DIR, 'logging')\n",
        "os.makedirs(LOGGING_DIR_NAME, exist_ok=True)\n",
        "\n",
        "TOKENIZER_WORDS_PATH = os.path.join(LOGGING_DIR_NAME, 'tokenizer_index_word_sample.json')"
      ]
    },
    {
      "cell_type": "code",
      "execution_count": 105,
      "id": "410b675f",
      "metadata": {
        "id": "410b675f"
      },
      "outputs": [],
      "source": [
        "DEPLOYMENST_PATH = os.path.join(BASE_DIR, 'deployments')\n",
        "os.makedirs(DEPLOYMENST_PATH, exist_ok=True)\n",
        "\n",
        "TOKENIZER_PATH = os.path.join(DEPLOYMENST_PATH, 'tokenizer.pkl')"
      ]
    },
    {
      "cell_type": "markdown",
      "id": "4810c546",
      "metadata": {
        "id": "4810c546"
      },
      "source": [
        "# Functions"
      ]
    },
    {
      "cell_type": "code",
      "execution_count": 106,
      "id": "367185f0",
      "metadata": {
        "id": "367185f0"
      },
      "outputs": [],
      "source": [
        "def save_obj(obj, file_name):\n",
        "    with open(file_name, 'wb') as f:\n",
        "        pickle.dump(obj, f)\n",
        "\n",
        "def load_obj(file_name):\n",
        "    with open(file_name, 'rb') as f:\n",
        "        return pickle.load(f)"
      ]
    },
    {
      "cell_type": "code",
      "execution_count": 107,
      "id": "3af5976c",
      "metadata": {
        "id": "3af5976c"
      },
      "outputs": [],
      "source": [
        "def save_obj_json(obj, file_name):\n",
        "    with open(file_name, 'w', encoding='utf-8') as f:\n",
        "        json.dump(obj, f, ensure_ascii=False, indent=4)\n",
        "\n",
        "def load_obj_json(file_name):\n",
        "    with open(file_name, 'r', encoding='utf-8') as f:\n",
        "        return json.load(f)"
      ]
    },
    {
      "cell_type": "code",
      "execution_count": 108,
      "id": "bc42b78c",
      "metadata": {
        "id": "bc42b78c"
      },
      "outputs": [],
      "source": [
        "def count_words_in_sentence(sentence):\n",
        "    words = str(sentence).split(\" \")\n",
        "    words = list(filter(lambda x: x.strip() != \"\", words))\n",
        "    return len(words)"
      ]
    },
    {
      "cell_type": "markdown",
      "id": "2c89f89a",
      "metadata": {
        "id": "2c89f89a"
      },
      "source": [
        "# Dataset Read"
      ]
    },
    {
      "cell_type": "code",
      "execution_count": 109,
      "id": "755ed858",
      "metadata": {
        "colab": {
          "base_uri": "https://localhost:8080/"
        },
        "id": "755ed858",
        "outputId": "59a12ced-9402-4260-bf93-c810c7d66654"
      },
      "outputs": [
        {
          "output_type": "stream",
          "name": "stderr",
          "text": [
            "100%|██████████| 6/6 [00:00<00:00, 317.61it/s]\n"
          ]
        }
      ],
      "source": [
        "DATA_PATH = os.listdir('data')\n",
        "DATA_JSON_PATHS = [os.path.join('data', f) for f in DATA_PATH if f.endswith('.json')]\n",
        "DATA_JSON_PATHS = sorted(DATA_JSON_PATHS)\n",
        "\n",
        "data_entries = []\n",
        "\n",
        "for data_json_path in tqdm.tqdm(DATA_JSON_PATHS):\n",
        "    data_json = load_obj_json(data_json_path)\n",
        "\n",
        "    for intent in  data_json.get('intents'):\n",
        "        tag_i = intent.get('tag')\n",
        "        patterns_i = intent.get('patterns')\n",
        "        responses_i = intent.get('responses')\n",
        "\n",
        "        for pattern in patterns_i:\n",
        "            for response in responses_i:\n",
        "                data_entries.append({\n",
        "                    'tag': str(tag_i),\n",
        "                    'pattern': str(pattern),\n",
        "                    'response': str(response)\n",
        "                })"
      ]
    },
    {
      "cell_type": "code",
      "execution_count": 110,
      "id": "5cd90b24",
      "metadata": {
        "id": "5cd90b24"
      },
      "outputs": [],
      "source": [
        "data_df = pd.DataFrame(data_entries)\n",
        "del data_entries"
      ]
    },
    {
      "cell_type": "markdown",
      "id": "c22020cd",
      "metadata": {
        "id": "c22020cd"
      },
      "source": [
        "# Exploration"
      ]
    },
    {
      "cell_type": "code",
      "execution_count": 111,
      "id": "a8caf8e1",
      "metadata": {
        "colab": {
          "base_uri": "https://localhost:8080/",
          "height": 331
        },
        "id": "a8caf8e1",
        "outputId": "62d4629f-02d3-44c3-f398-f3a537c6dae1"
      },
      "outputs": [
        {
          "output_type": "execute_result",
          "data": {
            "text/plain": [
              "                          tag                                  pattern  \\\n",
              "0                    greeting                                       Hi   \n",
              "1                    greeting                                       Hi   \n",
              "555                    queues  Explain queues in computer programming.   \n",
              "1420                  History                 Recommend a History book   \n",
              "1656                 greeting                                What's up   \n",
              "650   software_process_models        What are Software Process Models?   \n",
              "1442       Literary Criticism                       Literary Criticism   \n",
              "2328                  stories                 Can you tell me a story.   \n",
              "2329                  stories                 Can you tell me a story.   \n",
              "\n",
              "                                               response  \n",
              "0                                            Hey there!  \n",
              "1                          Hello! How can I assist you?  \n",
              "555   A queue is a linear data structure that follow...  \n",
              "1420  {'Book': 'Presidential Power and the Modern Pr...  \n",
              "1656                                      Hello, there.  \n",
              "650   Software Process Models are abstract represent...  \n",
              "1442  {'Book': 'The Writing Life', 'Feedback': 'Anni...  \n",
              "2328              It would be too long for me to speak.  \n",
              "2329                    You would get bored if I do so.  "
            ],
            "text/html": [
              "\n",
              "  <div id=\"df-3a038316-610b-4ec9-9204-89ae6db0cef3\" class=\"colab-df-container\">\n",
              "    <div>\n",
              "<style scoped>\n",
              "    .dataframe tbody tr th:only-of-type {\n",
              "        vertical-align: middle;\n",
              "    }\n",
              "\n",
              "    .dataframe tbody tr th {\n",
              "        vertical-align: top;\n",
              "    }\n",
              "\n",
              "    .dataframe thead th {\n",
              "        text-align: right;\n",
              "    }\n",
              "</style>\n",
              "<table border=\"1\" class=\"dataframe\">\n",
              "  <thead>\n",
              "    <tr style=\"text-align: right;\">\n",
              "      <th></th>\n",
              "      <th>tag</th>\n",
              "      <th>pattern</th>\n",
              "      <th>response</th>\n",
              "    </tr>\n",
              "  </thead>\n",
              "  <tbody>\n",
              "    <tr>\n",
              "      <th>0</th>\n",
              "      <td>greeting</td>\n",
              "      <td>Hi</td>\n",
              "      <td>Hey there!</td>\n",
              "    </tr>\n",
              "    <tr>\n",
              "      <th>1</th>\n",
              "      <td>greeting</td>\n",
              "      <td>Hi</td>\n",
              "      <td>Hello! How can I assist you?</td>\n",
              "    </tr>\n",
              "    <tr>\n",
              "      <th>555</th>\n",
              "      <td>queues</td>\n",
              "      <td>Explain queues in computer programming.</td>\n",
              "      <td>A queue is a linear data structure that follow...</td>\n",
              "    </tr>\n",
              "    <tr>\n",
              "      <th>1420</th>\n",
              "      <td>History</td>\n",
              "      <td>Recommend a History book</td>\n",
              "      <td>{'Book': 'Presidential Power and the Modern Pr...</td>\n",
              "    </tr>\n",
              "    <tr>\n",
              "      <th>1656</th>\n",
              "      <td>greeting</td>\n",
              "      <td>What's up</td>\n",
              "      <td>Hello, there.</td>\n",
              "    </tr>\n",
              "    <tr>\n",
              "      <th>650</th>\n",
              "      <td>software_process_models</td>\n",
              "      <td>What are Software Process Models?</td>\n",
              "      <td>Software Process Models are abstract represent...</td>\n",
              "    </tr>\n",
              "    <tr>\n",
              "      <th>1442</th>\n",
              "      <td>Literary Criticism</td>\n",
              "      <td>Literary Criticism</td>\n",
              "      <td>{'Book': 'The Writing Life', 'Feedback': 'Anni...</td>\n",
              "    </tr>\n",
              "    <tr>\n",
              "      <th>2328</th>\n",
              "      <td>stories</td>\n",
              "      <td>Can you tell me a story.</td>\n",
              "      <td>It would be too long for me to speak.</td>\n",
              "    </tr>\n",
              "    <tr>\n",
              "      <th>2329</th>\n",
              "      <td>stories</td>\n",
              "      <td>Can you tell me a story.</td>\n",
              "      <td>You would get bored if I do so.</td>\n",
              "    </tr>\n",
              "  </tbody>\n",
              "</table>\n",
              "</div>\n",
              "    <div class=\"colab-df-buttons\">\n",
              "\n",
              "  <div class=\"colab-df-container\">\n",
              "    <button class=\"colab-df-convert\" onclick=\"convertToInteractive('df-3a038316-610b-4ec9-9204-89ae6db0cef3')\"\n",
              "            title=\"Convert this dataframe to an interactive table.\"\n",
              "            style=\"display:none;\">\n",
              "\n",
              "  <svg xmlns=\"http://www.w3.org/2000/svg\" height=\"24px\" viewBox=\"0 -960 960 960\">\n",
              "    <path d=\"M120-120v-720h720v720H120Zm60-500h600v-160H180v160Zm220 220h160v-160H400v160Zm0 220h160v-160H400v160ZM180-400h160v-160H180v160Zm440 0h160v-160H620v160ZM180-180h160v-160H180v160Zm440 0h160v-160H620v160Z\"/>\n",
              "  </svg>\n",
              "    </button>\n",
              "\n",
              "  <style>\n",
              "    .colab-df-container {\n",
              "      display:flex;\n",
              "      gap: 12px;\n",
              "    }\n",
              "\n",
              "    .colab-df-convert {\n",
              "      background-color: #E8F0FE;\n",
              "      border: none;\n",
              "      border-radius: 50%;\n",
              "      cursor: pointer;\n",
              "      display: none;\n",
              "      fill: #1967D2;\n",
              "      height: 32px;\n",
              "      padding: 0 0 0 0;\n",
              "      width: 32px;\n",
              "    }\n",
              "\n",
              "    .colab-df-convert:hover {\n",
              "      background-color: #E2EBFA;\n",
              "      box-shadow: 0px 1px 2px rgba(60, 64, 67, 0.3), 0px 1px 3px 1px rgba(60, 64, 67, 0.15);\n",
              "      fill: #174EA6;\n",
              "    }\n",
              "\n",
              "    .colab-df-buttons div {\n",
              "      margin-bottom: 4px;\n",
              "    }\n",
              "\n",
              "    [theme=dark] .colab-df-convert {\n",
              "      background-color: #3B4455;\n",
              "      fill: #D2E3FC;\n",
              "    }\n",
              "\n",
              "    [theme=dark] .colab-df-convert:hover {\n",
              "      background-color: #434B5C;\n",
              "      box-shadow: 0px 1px 3px 1px rgba(0, 0, 0, 0.15);\n",
              "      filter: drop-shadow(0px 1px 2px rgba(0, 0, 0, 0.3));\n",
              "      fill: #FFFFFF;\n",
              "    }\n",
              "  </style>\n",
              "\n",
              "    <script>\n",
              "      const buttonEl =\n",
              "        document.querySelector('#df-3a038316-610b-4ec9-9204-89ae6db0cef3 button.colab-df-convert');\n",
              "      buttonEl.style.display =\n",
              "        google.colab.kernel.accessAllowed ? 'block' : 'none';\n",
              "\n",
              "      async function convertToInteractive(key) {\n",
              "        const element = document.querySelector('#df-3a038316-610b-4ec9-9204-89ae6db0cef3');\n",
              "        const dataTable =\n",
              "          await google.colab.kernel.invokeFunction('convertToInteractive',\n",
              "                                                    [key], {});\n",
              "        if (!dataTable) return;\n",
              "\n",
              "        const docLinkHtml = 'Like what you see? Visit the ' +\n",
              "          '<a target=\"_blank\" href=https://colab.research.google.com/notebooks/data_table.ipynb>data table notebook</a>'\n",
              "          + ' to learn more about interactive tables.';\n",
              "        element.innerHTML = '';\n",
              "        dataTable['output_type'] = 'display_data';\n",
              "        await google.colab.output.renderOutput(dataTable, element);\n",
              "        const docLink = document.createElement('div');\n",
              "        docLink.innerHTML = docLinkHtml;\n",
              "        element.appendChild(docLink);\n",
              "      }\n",
              "    </script>\n",
              "  </div>\n",
              "\n",
              "\n",
              "    <div id=\"df-c76dc1ea-e8b1-4844-a93b-0ebe0ee7c1db\">\n",
              "      <button class=\"colab-df-quickchart\" onclick=\"quickchart('df-c76dc1ea-e8b1-4844-a93b-0ebe0ee7c1db')\"\n",
              "                title=\"Suggest charts\"\n",
              "                style=\"display:none;\">\n",
              "\n",
              "<svg xmlns=\"http://www.w3.org/2000/svg\" height=\"24px\"viewBox=\"0 0 24 24\"\n",
              "     width=\"24px\">\n",
              "    <g>\n",
              "        <path d=\"M19 3H5c-1.1 0-2 .9-2 2v14c0 1.1.9 2 2 2h14c1.1 0 2-.9 2-2V5c0-1.1-.9-2-2-2zM9 17H7v-7h2v7zm4 0h-2V7h2v10zm4 0h-2v-4h2v4z\"/>\n",
              "    </g>\n",
              "</svg>\n",
              "      </button>\n",
              "\n",
              "<style>\n",
              "  .colab-df-quickchart {\n",
              "      --bg-color: #E8F0FE;\n",
              "      --fill-color: #1967D2;\n",
              "      --hover-bg-color: #E2EBFA;\n",
              "      --hover-fill-color: #174EA6;\n",
              "      --disabled-fill-color: #AAA;\n",
              "      --disabled-bg-color: #DDD;\n",
              "  }\n",
              "\n",
              "  [theme=dark] .colab-df-quickchart {\n",
              "      --bg-color: #3B4455;\n",
              "      --fill-color: #D2E3FC;\n",
              "      --hover-bg-color: #434B5C;\n",
              "      --hover-fill-color: #FFFFFF;\n",
              "      --disabled-bg-color: #3B4455;\n",
              "      --disabled-fill-color: #666;\n",
              "  }\n",
              "\n",
              "  .colab-df-quickchart {\n",
              "    background-color: var(--bg-color);\n",
              "    border: none;\n",
              "    border-radius: 50%;\n",
              "    cursor: pointer;\n",
              "    display: none;\n",
              "    fill: var(--fill-color);\n",
              "    height: 32px;\n",
              "    padding: 0;\n",
              "    width: 32px;\n",
              "  }\n",
              "\n",
              "  .colab-df-quickchart:hover {\n",
              "    background-color: var(--hover-bg-color);\n",
              "    box-shadow: 0 1px 2px rgba(60, 64, 67, 0.3), 0 1px 3px 1px rgba(60, 64, 67, 0.15);\n",
              "    fill: var(--button-hover-fill-color);\n",
              "  }\n",
              "\n",
              "  .colab-df-quickchart-complete:disabled,\n",
              "  .colab-df-quickchart-complete:disabled:hover {\n",
              "    background-color: var(--disabled-bg-color);\n",
              "    fill: var(--disabled-fill-color);\n",
              "    box-shadow: none;\n",
              "  }\n",
              "\n",
              "  .colab-df-spinner {\n",
              "    border: 2px solid var(--fill-color);\n",
              "    border-color: transparent;\n",
              "    border-bottom-color: var(--fill-color);\n",
              "    animation:\n",
              "      spin 1s steps(1) infinite;\n",
              "  }\n",
              "\n",
              "  @keyframes spin {\n",
              "    0% {\n",
              "      border-color: transparent;\n",
              "      border-bottom-color: var(--fill-color);\n",
              "      border-left-color: var(--fill-color);\n",
              "    }\n",
              "    20% {\n",
              "      border-color: transparent;\n",
              "      border-left-color: var(--fill-color);\n",
              "      border-top-color: var(--fill-color);\n",
              "    }\n",
              "    30% {\n",
              "      border-color: transparent;\n",
              "      border-left-color: var(--fill-color);\n",
              "      border-top-color: var(--fill-color);\n",
              "      border-right-color: var(--fill-color);\n",
              "    }\n",
              "    40% {\n",
              "      border-color: transparent;\n",
              "      border-right-color: var(--fill-color);\n",
              "      border-top-color: var(--fill-color);\n",
              "    }\n",
              "    60% {\n",
              "      border-color: transparent;\n",
              "      border-right-color: var(--fill-color);\n",
              "    }\n",
              "    80% {\n",
              "      border-color: transparent;\n",
              "      border-right-color: var(--fill-color);\n",
              "      border-bottom-color: var(--fill-color);\n",
              "    }\n",
              "    90% {\n",
              "      border-color: transparent;\n",
              "      border-bottom-color: var(--fill-color);\n",
              "    }\n",
              "  }\n",
              "</style>\n",
              "\n",
              "      <script>\n",
              "        async function quickchart(key) {\n",
              "          const quickchartButtonEl =\n",
              "            document.querySelector('#' + key + ' button');\n",
              "          quickchartButtonEl.disabled = true;  // To prevent multiple clicks.\n",
              "          quickchartButtonEl.classList.add('colab-df-spinner');\n",
              "          try {\n",
              "            const charts = await google.colab.kernel.invokeFunction(\n",
              "                'suggestCharts', [key], {});\n",
              "          } catch (error) {\n",
              "            console.error('Error during call to suggestCharts:', error);\n",
              "          }\n",
              "          quickchartButtonEl.classList.remove('colab-df-spinner');\n",
              "          quickchartButtonEl.classList.add('colab-df-quickchart-complete');\n",
              "        }\n",
              "        (() => {\n",
              "          let quickchartButtonEl =\n",
              "            document.querySelector('#df-c76dc1ea-e8b1-4844-a93b-0ebe0ee7c1db button');\n",
              "          quickchartButtonEl.style.display =\n",
              "            google.colab.kernel.accessAllowed ? 'block' : 'none';\n",
              "        })();\n",
              "      </script>\n",
              "    </div>\n",
              "\n",
              "    </div>\n",
              "  </div>\n"
            ],
            "application/vnd.google.colaboratory.intrinsic+json": {
              "type": "dataframe",
              "summary": "{\n  \"name\": \"])\",\n  \"rows\": 9,\n  \"fields\": [\n    {\n      \"column\": \"tag\",\n      \"properties\": {\n        \"dtype\": \"string\",\n        \"num_unique_values\": 6,\n        \"samples\": [\n          \"greeting\",\n          \"queues\",\n          \"stories\"\n        ],\n        \"semantic_type\": \"\",\n        \"description\": \"\"\n      }\n    },\n    {\n      \"column\": \"pattern\",\n      \"properties\": {\n        \"dtype\": \"string\",\n        \"num_unique_values\": 7,\n        \"samples\": [\n          \"Hi\",\n          \"Explain queues in computer programming.\",\n          \"Literary Criticism\"\n        ],\n        \"semantic_type\": \"\",\n        \"description\": \"\"\n      }\n    },\n    {\n      \"column\": \"response\",\n      \"properties\": {\n        \"dtype\": \"string\",\n        \"num_unique_values\": 9,\n        \"samples\": [\n          \"It would be too long for me to speak.\",\n          \"Hello! How can I assist you?\",\n          \"Software Process Models are abstract representations of the steps, activities, and tasks involved in developing software. They provide a framework for managing the software development process, from initial requirements gathering to final software delivery. Examples of software process models include Waterfall, Agile, Scrum, Spiral, and Iterative models, each with its own set of characteristics, advantages, and disadvantages.\"\n        ],\n        \"semantic_type\": \"\",\n        \"description\": \"\"\n      }\n    }\n  ]\n}"
            }
          },
          "metadata": {},
          "execution_count": 111
        }
      ],
      "source": [
        "pd.concat([\n",
        "    data_df.head(2),\n",
        "    data_df.sample(5),\n",
        "    data_df.tail(2)\n",
        "])"
      ]
    },
    {
      "cell_type": "code",
      "execution_count": 112,
      "id": "73cd4f95",
      "metadata": {
        "colab": {
          "base_uri": "https://localhost:8080/"
        },
        "id": "73cd4f95",
        "outputId": "4e34cf8b-8150-41f6-af97-cea988f87da1"
      },
      "outputs": [
        {
          "output_type": "stream",
          "name": "stdout",
          "text": [
            "<class 'pandas.core.frame.DataFrame'>\n",
            "RangeIndex: 2330 entries, 0 to 2329\n",
            "Data columns (total 3 columns):\n",
            " #   Column    Non-Null Count  Dtype \n",
            "---  ------    --------------  ----- \n",
            " 0   tag       2330 non-null   object\n",
            " 1   pattern   2330 non-null   object\n",
            " 2   response  2330 non-null   object\n",
            "dtypes: object(3)\n",
            "memory usage: 54.7+ KB\n"
          ]
        }
      ],
      "source": [
        "data_df.info()"
      ]
    },
    {
      "cell_type": "code",
      "execution_count": 113,
      "id": "b4b5b474",
      "metadata": {
        "colab": {
          "base_uri": "https://localhost:8080/",
          "height": 175
        },
        "id": "b4b5b474",
        "outputId": "dedcaed0-8eca-43de-b47d-6f8d40230290"
      },
      "outputs": [
        {
          "output_type": "execute_result",
          "data": {
            "text/plain": [
              "             tag pattern                   response\n",
              "count       2330    2330                       2330\n",
              "unique       302    1112                        516\n",
              "top     greeting   Hello  Hi there, how can I help?\n",
              "freq         211      28                         28"
            ],
            "text/html": [
              "\n",
              "  <div id=\"df-3fa4ff08-7ecd-4ce3-a1ae-6e51becf30c9\" class=\"colab-df-container\">\n",
              "    <div>\n",
              "<style scoped>\n",
              "    .dataframe tbody tr th:only-of-type {\n",
              "        vertical-align: middle;\n",
              "    }\n",
              "\n",
              "    .dataframe tbody tr th {\n",
              "        vertical-align: top;\n",
              "    }\n",
              "\n",
              "    .dataframe thead th {\n",
              "        text-align: right;\n",
              "    }\n",
              "</style>\n",
              "<table border=\"1\" class=\"dataframe\">\n",
              "  <thead>\n",
              "    <tr style=\"text-align: right;\">\n",
              "      <th></th>\n",
              "      <th>tag</th>\n",
              "      <th>pattern</th>\n",
              "      <th>response</th>\n",
              "    </tr>\n",
              "  </thead>\n",
              "  <tbody>\n",
              "    <tr>\n",
              "      <th>count</th>\n",
              "      <td>2330</td>\n",
              "      <td>2330</td>\n",
              "      <td>2330</td>\n",
              "    </tr>\n",
              "    <tr>\n",
              "      <th>unique</th>\n",
              "      <td>302</td>\n",
              "      <td>1112</td>\n",
              "      <td>516</td>\n",
              "    </tr>\n",
              "    <tr>\n",
              "      <th>top</th>\n",
              "      <td>greeting</td>\n",
              "      <td>Hello</td>\n",
              "      <td>Hi there, how can I help?</td>\n",
              "    </tr>\n",
              "    <tr>\n",
              "      <th>freq</th>\n",
              "      <td>211</td>\n",
              "      <td>28</td>\n",
              "      <td>28</td>\n",
              "    </tr>\n",
              "  </tbody>\n",
              "</table>\n",
              "</div>\n",
              "    <div class=\"colab-df-buttons\">\n",
              "\n",
              "  <div class=\"colab-df-container\">\n",
              "    <button class=\"colab-df-convert\" onclick=\"convertToInteractive('df-3fa4ff08-7ecd-4ce3-a1ae-6e51becf30c9')\"\n",
              "            title=\"Convert this dataframe to an interactive table.\"\n",
              "            style=\"display:none;\">\n",
              "\n",
              "  <svg xmlns=\"http://www.w3.org/2000/svg\" height=\"24px\" viewBox=\"0 -960 960 960\">\n",
              "    <path d=\"M120-120v-720h720v720H120Zm60-500h600v-160H180v160Zm220 220h160v-160H400v160Zm0 220h160v-160H400v160ZM180-400h160v-160H180v160Zm440 0h160v-160H620v160ZM180-180h160v-160H180v160Zm440 0h160v-160H620v160Z\"/>\n",
              "  </svg>\n",
              "    </button>\n",
              "\n",
              "  <style>\n",
              "    .colab-df-container {\n",
              "      display:flex;\n",
              "      gap: 12px;\n",
              "    }\n",
              "\n",
              "    .colab-df-convert {\n",
              "      background-color: #E8F0FE;\n",
              "      border: none;\n",
              "      border-radius: 50%;\n",
              "      cursor: pointer;\n",
              "      display: none;\n",
              "      fill: #1967D2;\n",
              "      height: 32px;\n",
              "      padding: 0 0 0 0;\n",
              "      width: 32px;\n",
              "    }\n",
              "\n",
              "    .colab-df-convert:hover {\n",
              "      background-color: #E2EBFA;\n",
              "      box-shadow: 0px 1px 2px rgba(60, 64, 67, 0.3), 0px 1px 3px 1px rgba(60, 64, 67, 0.15);\n",
              "      fill: #174EA6;\n",
              "    }\n",
              "\n",
              "    .colab-df-buttons div {\n",
              "      margin-bottom: 4px;\n",
              "    }\n",
              "\n",
              "    [theme=dark] .colab-df-convert {\n",
              "      background-color: #3B4455;\n",
              "      fill: #D2E3FC;\n",
              "    }\n",
              "\n",
              "    [theme=dark] .colab-df-convert:hover {\n",
              "      background-color: #434B5C;\n",
              "      box-shadow: 0px 1px 3px 1px rgba(0, 0, 0, 0.15);\n",
              "      filter: drop-shadow(0px 1px 2px rgba(0, 0, 0, 0.3));\n",
              "      fill: #FFFFFF;\n",
              "    }\n",
              "  </style>\n",
              "\n",
              "    <script>\n",
              "      const buttonEl =\n",
              "        document.querySelector('#df-3fa4ff08-7ecd-4ce3-a1ae-6e51becf30c9 button.colab-df-convert');\n",
              "      buttonEl.style.display =\n",
              "        google.colab.kernel.accessAllowed ? 'block' : 'none';\n",
              "\n",
              "      async function convertToInteractive(key) {\n",
              "        const element = document.querySelector('#df-3fa4ff08-7ecd-4ce3-a1ae-6e51becf30c9');\n",
              "        const dataTable =\n",
              "          await google.colab.kernel.invokeFunction('convertToInteractive',\n",
              "                                                    [key], {});\n",
              "        if (!dataTable) return;\n",
              "\n",
              "        const docLinkHtml = 'Like what you see? Visit the ' +\n",
              "          '<a target=\"_blank\" href=https://colab.research.google.com/notebooks/data_table.ipynb>data table notebook</a>'\n",
              "          + ' to learn more about interactive tables.';\n",
              "        element.innerHTML = '';\n",
              "        dataTable['output_type'] = 'display_data';\n",
              "        await google.colab.output.renderOutput(dataTable, element);\n",
              "        const docLink = document.createElement('div');\n",
              "        docLink.innerHTML = docLinkHtml;\n",
              "        element.appendChild(docLink);\n",
              "      }\n",
              "    </script>\n",
              "  </div>\n",
              "\n",
              "\n",
              "    <div id=\"df-220e91a5-e912-44e0-a2da-eb860103979c\">\n",
              "      <button class=\"colab-df-quickchart\" onclick=\"quickchart('df-220e91a5-e912-44e0-a2da-eb860103979c')\"\n",
              "                title=\"Suggest charts\"\n",
              "                style=\"display:none;\">\n",
              "\n",
              "<svg xmlns=\"http://www.w3.org/2000/svg\" height=\"24px\"viewBox=\"0 0 24 24\"\n",
              "     width=\"24px\">\n",
              "    <g>\n",
              "        <path d=\"M19 3H5c-1.1 0-2 .9-2 2v14c0 1.1.9 2 2 2h14c1.1 0 2-.9 2-2V5c0-1.1-.9-2-2-2zM9 17H7v-7h2v7zm4 0h-2V7h2v10zm4 0h-2v-4h2v4z\"/>\n",
              "    </g>\n",
              "</svg>\n",
              "      </button>\n",
              "\n",
              "<style>\n",
              "  .colab-df-quickchart {\n",
              "      --bg-color: #E8F0FE;\n",
              "      --fill-color: #1967D2;\n",
              "      --hover-bg-color: #E2EBFA;\n",
              "      --hover-fill-color: #174EA6;\n",
              "      --disabled-fill-color: #AAA;\n",
              "      --disabled-bg-color: #DDD;\n",
              "  }\n",
              "\n",
              "  [theme=dark] .colab-df-quickchart {\n",
              "      --bg-color: #3B4455;\n",
              "      --fill-color: #D2E3FC;\n",
              "      --hover-bg-color: #434B5C;\n",
              "      --hover-fill-color: #FFFFFF;\n",
              "      --disabled-bg-color: #3B4455;\n",
              "      --disabled-fill-color: #666;\n",
              "  }\n",
              "\n",
              "  .colab-df-quickchart {\n",
              "    background-color: var(--bg-color);\n",
              "    border: none;\n",
              "    border-radius: 50%;\n",
              "    cursor: pointer;\n",
              "    display: none;\n",
              "    fill: var(--fill-color);\n",
              "    height: 32px;\n",
              "    padding: 0;\n",
              "    width: 32px;\n",
              "  }\n",
              "\n",
              "  .colab-df-quickchart:hover {\n",
              "    background-color: var(--hover-bg-color);\n",
              "    box-shadow: 0 1px 2px rgba(60, 64, 67, 0.3), 0 1px 3px 1px rgba(60, 64, 67, 0.15);\n",
              "    fill: var(--button-hover-fill-color);\n",
              "  }\n",
              "\n",
              "  .colab-df-quickchart-complete:disabled,\n",
              "  .colab-df-quickchart-complete:disabled:hover {\n",
              "    background-color: var(--disabled-bg-color);\n",
              "    fill: var(--disabled-fill-color);\n",
              "    box-shadow: none;\n",
              "  }\n",
              "\n",
              "  .colab-df-spinner {\n",
              "    border: 2px solid var(--fill-color);\n",
              "    border-color: transparent;\n",
              "    border-bottom-color: var(--fill-color);\n",
              "    animation:\n",
              "      spin 1s steps(1) infinite;\n",
              "  }\n",
              "\n",
              "  @keyframes spin {\n",
              "    0% {\n",
              "      border-color: transparent;\n",
              "      border-bottom-color: var(--fill-color);\n",
              "      border-left-color: var(--fill-color);\n",
              "    }\n",
              "    20% {\n",
              "      border-color: transparent;\n",
              "      border-left-color: var(--fill-color);\n",
              "      border-top-color: var(--fill-color);\n",
              "    }\n",
              "    30% {\n",
              "      border-color: transparent;\n",
              "      border-left-color: var(--fill-color);\n",
              "      border-top-color: var(--fill-color);\n",
              "      border-right-color: var(--fill-color);\n",
              "    }\n",
              "    40% {\n",
              "      border-color: transparent;\n",
              "      border-right-color: var(--fill-color);\n",
              "      border-top-color: var(--fill-color);\n",
              "    }\n",
              "    60% {\n",
              "      border-color: transparent;\n",
              "      border-right-color: var(--fill-color);\n",
              "    }\n",
              "    80% {\n",
              "      border-color: transparent;\n",
              "      border-right-color: var(--fill-color);\n",
              "      border-bottom-color: var(--fill-color);\n",
              "    }\n",
              "    90% {\n",
              "      border-color: transparent;\n",
              "      border-bottom-color: var(--fill-color);\n",
              "    }\n",
              "  }\n",
              "</style>\n",
              "\n",
              "      <script>\n",
              "        async function quickchart(key) {\n",
              "          const quickchartButtonEl =\n",
              "            document.querySelector('#' + key + ' button');\n",
              "          quickchartButtonEl.disabled = true;  // To prevent multiple clicks.\n",
              "          quickchartButtonEl.classList.add('colab-df-spinner');\n",
              "          try {\n",
              "            const charts = await google.colab.kernel.invokeFunction(\n",
              "                'suggestCharts', [key], {});\n",
              "          } catch (error) {\n",
              "            console.error('Error during call to suggestCharts:', error);\n",
              "          }\n",
              "          quickchartButtonEl.classList.remove('colab-df-spinner');\n",
              "          quickchartButtonEl.classList.add('colab-df-quickchart-complete');\n",
              "        }\n",
              "        (() => {\n",
              "          let quickchartButtonEl =\n",
              "            document.querySelector('#df-220e91a5-e912-44e0-a2da-eb860103979c button');\n",
              "          quickchartButtonEl.style.display =\n",
              "            google.colab.kernel.accessAllowed ? 'block' : 'none';\n",
              "        })();\n",
              "      </script>\n",
              "    </div>\n",
              "\n",
              "    </div>\n",
              "  </div>\n"
            ],
            "application/vnd.google.colaboratory.intrinsic+json": {
              "type": "dataframe",
              "summary": "{\n  \"name\": \"data_df\",\n  \"rows\": 4,\n  \"fields\": [\n    {\n      \"column\": \"tag\",\n      \"properties\": {\n        \"dtype\": \"string\",\n        \"num_unique_values\": 4,\n        \"samples\": [\n          302,\n          \"211\",\n          \"2330\"\n        ],\n        \"semantic_type\": \"\",\n        \"description\": \"\"\n      }\n    },\n    {\n      \"column\": \"pattern\",\n      \"properties\": {\n        \"dtype\": \"string\",\n        \"num_unique_values\": 4,\n        \"samples\": [\n          1112,\n          \"28\",\n          \"2330\"\n        ],\n        \"semantic_type\": \"\",\n        \"description\": \"\"\n      }\n    },\n    {\n      \"column\": \"response\",\n      \"properties\": {\n        \"dtype\": \"string\",\n        \"num_unique_values\": 4,\n        \"samples\": [\n          516,\n          \"28\",\n          \"2330\"\n        ],\n        \"semantic_type\": \"\",\n        \"description\": \"\"\n      }\n    }\n  ]\n}"
            }
          },
          "metadata": {},
          "execution_count": 113
        }
      ],
      "source": [
        "data_df.describe(include='all')"
      ]
    },
    {
      "cell_type": "code",
      "execution_count": 114,
      "id": "1ee0e50f",
      "metadata": {
        "colab": {
          "base_uri": "https://localhost:8080/"
        },
        "id": "1ee0e50f",
        "outputId": "d4a55df7-949f-4c75-aa8f-caff90c11a66"
      },
      "outputs": [
        {
          "output_type": "stream",
          "name": "stdout",
          "text": [
            "Total samples: 2330\n"
          ]
        }
      ],
      "source": [
        "print(f\"Total samples: {len(data_df)}\")"
      ]
    },
    {
      "cell_type": "markdown",
      "id": "f1102c2d",
      "metadata": {
        "id": "f1102c2d"
      },
      "source": [
        "# Visualization"
      ]
    },
    {
      "cell_type": "code",
      "execution_count": 115,
      "id": "b0e3dae9",
      "metadata": {
        "id": "b0e3dae9"
      },
      "outputs": [],
      "source": [
        "plt.style.use(plt.style.available[12])"
      ]
    },
    {
      "cell_type": "code",
      "execution_count": 116,
      "id": "c3a3f6ba",
      "metadata": {
        "id": "c3a3f6ba"
      },
      "outputs": [],
      "source": [
        "data_df['pattern_words_count'] = data_df['pattern'].apply(count_words_in_sentence)"
      ]
    },
    {
      "cell_type": "code",
      "execution_count": 117,
      "id": "c8737dc8",
      "metadata": {
        "colab": {
          "base_uri": "https://localhost:8080/",
          "height": 541
        },
        "id": "c8737dc8",
        "outputId": "b81b337c-7c79-4e58-87c8-a2eca86b81f4"
      },
      "outputs": [
        {
          "output_type": "execute_result",
          "data": {
            "text/plain": [
              "<Axes: title={'center': 'Distribution of Count words in patterns'}, xlabel='pattern_words_count', ylabel='Count'>"
            ]
          },
          "metadata": {},
          "execution_count": 117
        },
        {
          "output_type": "display_data",
          "data": {
            "text/plain": [
              "<Figure size 800x550 with 1 Axes>"
            ],
            "image/png": "[encoded data removed]"
          },
          "metadata": {}
        }
      ],
      "source": [
        "plt.title('Distribution of Count words in patterns')\n",
        "sns.histplot(data=data_df, x='pattern_words_count', bins=30, kde=True)"
      ]
    },
    {
      "cell_type": "code",
      "execution_count": 118,
      "id": "646edbe6",
      "metadata": {
        "colab": {
          "base_uri": "https://localhost:8080/"
        },
        "id": "646edbe6",
        "outputId": "aba0222a-fe08-45ff-80b8-670e4d609920"
      },
      "outputs": [
        {
          "output_type": "stream",
          "name": "stdout",
          "text": [
            "Unique tags: 302\n",
            "tag\n",
            "greeting    211\n",
            "goodbye     182\n",
            "thanks      125\n",
            "Menu        100\n",
            "hepl        100\n",
            "           ... \n",
            "testing       1\n",
            "lr            1\n",
            "dll           1\n",
            "dt            1\n",
            "bst           1\n",
            "Name: count, Length: 302, dtype: int64\n"
          ]
        }
      ],
      "source": [
        "print(\"Unique tags:\", data_df['tag'].nunique())\n",
        "print(data_df['tag'].value_counts())"
      ]
    },
    {
      "cell_type": "markdown",
      "id": "fc556889",
      "metadata": {
        "id": "fc556889"
      },
      "source": [
        "# Preprocessing"
      ]
    },
    {
      "cell_type": "markdown",
      "id": "a461ef2c",
      "metadata": {
        "id": "a461ef2c"
      },
      "source": [
        "Null values"
      ]
    },
    {
      "cell_type": "code",
      "execution_count": 119,
      "id": "bfc59ca8",
      "metadata": {
        "colab": {
          "base_uri": "https://localhost:8080/"
        },
        "id": "bfc59ca8",
        "outputId": "05a384e5-e1c3-4f0a-f52d-245d4faa22aa"
      },
      "outputs": [
        {
          "output_type": "stream",
          "name": "stdout",
          "text": [
            "N Nulls before: 0\n"
          ]
        }
      ],
      "source": [
        "print(f\"N Nulls before: {data_df.isnull().sum().sum()}\")"
      ]
    },
    {
      "cell_type": "code",
      "execution_count": 120,
      "id": "c77a7d20",
      "metadata": {
        "id": "c77a7d20"
      },
      "outputs": [],
      "source": [
        "data_df.dropna(inplace=True)"
      ]
    },
    {
      "cell_type": "code",
      "execution_count": 121,
      "id": "d4ec9d5f",
      "metadata": {
        "colab": {
          "base_uri": "https://localhost:8080/"
        },
        "id": "d4ec9d5f",
        "outputId": "8b7b8998-187a-49d7-8d86-e98935cdc219"
      },
      "outputs": [
        {
          "output_type": "stream",
          "name": "stdout",
          "text": [
            "N Nulls after: 0\n"
          ]
        }
      ],
      "source": [
        "print(f\"N Nulls after: {data_df.isnull().sum().sum()}\")"
      ]
    },
    {
      "cell_type": "markdown",
      "id": "2dc4a543",
      "metadata": {
        "id": "2dc4a543"
      },
      "source": [
        "Regex"
      ]
    },
    {
      "cell_type": "code",
      "execution_count": 122,
      "id": "eceb01ad",
      "metadata": {
        "id": "eceb01ad"
      },
      "outputs": [],
      "source": [
        "def process_tag(label):\n",
        "    label = str(label).lower().strip()\n",
        "    label = re.sub(r'[^A-Za-z]', ' ', label)\n",
        "    label = re.sub(r'\\s+', ' ', label).strip()\n",
        "    return label"
      ]
    },
    {
      "cell_type": "code",
      "execution_count": 123,
      "id": "00b9affe",
      "metadata": {
        "id": "00b9affe"
      },
      "outputs": [],
      "source": [
        "data_df['tag'] = data_df['tag'].apply(process_tag)"
      ]
    },
    {
      "cell_type": "code",
      "execution_count": 124,
      "id": "551d8473",
      "metadata": {
        "id": "551d8473"
      },
      "outputs": [],
      "source": [
        "def process_pattern(text):\n",
        "    text = str(text).lower().strip()\n",
        "    text = re.sub(r'[^A-Za-z0-9]', ' ', text)\n",
        "\n",
        "    # Replace multiple spaces with a single space\n",
        "    text = re.sub(r'\\s+', ' ', text)\n",
        "\n",
        "    # Separate letters and digits, e.g., \"Room101\" -> \"Room 101\"\n",
        "    text = re.sub(r'([A-Za-z])(\\d)', r'\\1 \\2', text)\n",
        "    text = re.sub(r'(\\d)([A-Za-z])', r'\\1 \\2', text)\n",
        "\n",
        "    # Remove extra spaces\n",
        "    text = re.sub(r'\\s+', ' ', text).strip()\n",
        "\n",
        "    return text"
      ]
    },
    {
      "cell_type": "code",
      "execution_count": 125,
      "id": "fb8479ca",
      "metadata": {
        "id": "fb8479ca"
      },
      "outputs": [],
      "source": [
        "data_df['pattern'] = data_df['pattern'].apply(process_pattern)"
      ]
    },
    {
      "cell_type": "markdown",
      "id": "8cbf6d03",
      "metadata": {
        "id": "8cbf6d03"
      },
      "source": [
        "Duplicates"
      ]
    },
    {
      "cell_type": "code",
      "execution_count": 126,
      "id": "01ee5852",
      "metadata": {
        "colab": {
          "base_uri": "https://localhost:8080/"
        },
        "id": "01ee5852",
        "outputId": "63c2297e-464d-4042-8fa1-51a7ac96fd1b"
      },
      "outputs": [
        {
          "output_type": "stream",
          "name": "stdout",
          "text": [
            "N Duplicates before: 31\n"
          ]
        }
      ],
      "source": [
        "print(\"N Duplicates before:\", data_df.duplicated().sum())"
      ]
    },
    {
      "cell_type": "code",
      "execution_count": 127,
      "id": "37fceb9c",
      "metadata": {
        "id": "37fceb9c"
      },
      "outputs": [],
      "source": [
        "data_df.drop_duplicates(inplace=True)"
      ]
    },
    {
      "cell_type": "code",
      "execution_count": 128,
      "id": "f9d3258e",
      "metadata": {
        "colab": {
          "base_uri": "https://localhost:8080/"
        },
        "id": "f9d3258e",
        "outputId": "a3654cb8-9fc0-4185-a6c4-e62963254981"
      },
      "outputs": [
        {
          "output_type": "stream",
          "name": "stdout",
          "text": [
            "N Duplicates after: 0\n"
          ]
        }
      ],
      "source": [
        "print(\"N Duplicates after:\", data_df.duplicated().sum())"
      ]
    },
    {
      "cell_type": "markdown",
      "id": "bcc40c6f",
      "metadata": {
        "id": "bcc40c6f"
      },
      "source": [
        "Drop too long patterns"
      ]
    },
    {
      "cell_type": "code",
      "execution_count": 129,
      "id": "b3876a7f",
      "metadata": {
        "colab": {
          "base_uri": "https://localhost:8080/"
        },
        "id": "b3876a7f",
        "outputId": "7afd6790-3c4c-4752-ba19-0061f5df2c40"
      },
      "outputs": [
        {
          "output_type": "stream",
          "name": "stdout",
          "text": [
            "Number of samples before: 2299\n",
            "Number of samples after: 2299\n"
          ]
        }
      ],
      "source": [
        "print(\"Number of samples before:\", len(data_df))\n",
        "\n",
        "data_df['pattern_words_count'] = data_df['pattern'].apply(count_words_in_sentence)\n",
        "data_df = data_df[ data_df['pattern_words_count'] <= SENTENCE_MAX_WORDS_LEN ]\n",
        "\n",
        "print(\"Number of samples after:\", len(data_df))"
      ]
    },
    {
      "cell_type": "markdown",
      "id": "42681041",
      "metadata": {
        "id": "42681041"
      },
      "source": [
        "Remove any tags has few numbers of samples"
      ]
    },
    {
      "cell_type": "code",
      "execution_count": 130,
      "id": "c0af07e2",
      "metadata": {
        "colab": {
          "base_uri": "https://localhost:8080/"
        },
        "id": "c0af07e2",
        "outputId": "4beaec90-d86d-44c9-83d0-e92f8406acf0"
      },
      "outputs": [
        {
          "output_type": "stream",
          "name": "stdout",
          "text": [
            "Total Tags Before: 300\n"
          ]
        }
      ],
      "source": [
        "print(f\"Total Tags Before: {data_df['tag'].nunique()}\")"
      ]
    },
    {
      "cell_type": "code",
      "execution_count": 131,
      "id": "d689a606",
      "metadata": {
        "colab": {
          "base_uri": "https://localhost:8080/"
        },
        "id": "d689a606",
        "outputId": "0c8ad50c-94c6-47ac-e83b-a1d2466c1e3b"
      },
      "outputs": [
        {
          "output_type": "stream",
          "name": "stdout",
          "text": [
            "Removing tag: universal quantification with freq: 2\n",
            "Removing tag: one dimensional arrays with freq: 2\n",
            "Removing tag: existential quantification with freq: 2\n",
            "Removing tag: rate of growth of complexity of algorithms with freq: 2\n",
            "Removing tag: asymptotic notations with freq: 2\n",
            "Removing tag: time space trade offs with freq: 2\n",
            "Removing tag: operations on strings with freq: 2\n",
            "Removing tag: word processing with freq: 2\n",
            "Removing tag: pattern matching algorithms with freq: 2\n",
            "Removing tag: oop with freq: 2\n",
            "Removing tag: data abstraction with freq: 2\n",
            "Removing tag: objects classes and methods with freq: 2\n",
            "Removing tag: constructors with freq: 2\n",
            "Removing tag: destructors with freq: 2\n",
            "Removing tag: operator overloading with freq: 2\n",
            "Removing tag: generic programming with freq: 2\n",
            "Removing tag: inheritance with freq: 2\n",
            "Removing tag: multiple inheritance with freq: 2\n",
            "Removing tag: polymorphism with freq: 2\n",
            "Removing tag: aggregation with freq: 2\n",
            "Removing tag: program debugging and testing with freq: 2\n",
            "Removing tag: event logging with freq: 2\n",
            "Removing tag: propositional logic with freq: 2\n",
            "Removing tag: logical connectives with freq: 2\n",
            "Removing tag: truth tables with freq: 2\n",
            "Removing tag: software process models with freq: 2\n",
            "Removing tag: multiple issue architectures with freq: 2\n",
            "Removing tag: branch prediction with freq: 2\n",
            "Removing tag: data level parallelism with freq: 2\n",
            "Removing tag: pipeline hazards with freq: 2\n",
            "Removing tag: instruction level parallelism with freq: 2\n",
            "Removing tag: data warehousing with freq: 2\n",
            "Removing tag: decision support systems with freq: 2\n",
            "Removing tag: distributed databases with freq: 2\n",
            "Removing tag: cap theorem with freq: 2\n",
            "Removing tag: direct memory access with freq: 2\n",
            "Removing tag: interrupt driven io with freq: 2\n",
            "Removing tag: programmed io with freq: 2\n",
            "Removing tag: arbitration schemes with freq: 2\n",
            "Removing tag: bus standards with freq: 2\n",
            "Removing tag: cache memory with freq: 2\n",
            "Removing tag: memory hierarchy with freq: 2\n",
            "Removing tag: amdahls law with freq: 2\n",
            "Removing tag: common pitfalls with freq: 2\n",
            "Removing tag: computer performance with freq: 2\n",
            "Removing tag: instruction encoding with freq: 2\n",
            "Removing tag: register register with freq: 2\n",
            "Removing tag: register memory with freq: 2\n",
            "Removing tag: stack based with freq: 2\n",
            "Removing tag: accumulator based with freq: 2\n",
            "Removing tag: instruction set architecture with freq: 2\n",
            "Removing tag: programmable logic array with freq: 2\n",
            "Removing tag: programmable array logic with freq: 2\n",
            "Removing tag: read only memory with freq: 2\n",
            "Removing tag: state minimization techniques with freq: 2\n",
            "Removing tag: synchronous counters with freq: 2\n",
            "Removing tag: mealy and moore machines with freq: 2\n",
            "Removing tag: asynchronous counters with freq: 2\n",
            "Removing tag: shift registers with freq: 2\n",
            "Removing tag: latches and flip flops with freq: 2\n",
            "Removing tag: binary code converters with freq: 2\n",
            "Removing tag: demultiplexers with freq: 2\n",
            "Removing tag: multiplexers with freq: 2\n",
            "Removing tag: encoders with freq: 2\n",
            "Removing tag: decoders with freq: 2\n",
            "Removing tag: adders with freq: 2\n",
            "Removing tag: fibonacci series with freq: 2\n",
            "Removing tag: factorial calculation with freq: 2\n",
            "Removing tag: priority queues with freq: 2\n",
            "Removing tag: deques with freq: 2\n",
            "Removing tag: quick sort with freq: 2\n",
            "Removing tag: polish notation with freq: 2\n",
            "Removing tag: recursion with freq: 2\n",
            "Removing tag: queues with freq: 2\n",
            "Removing tag: stacks with freq: 2\n",
            "Removing tag: sparse matrices with freq: 2\n",
            "Removing tag: matrix multiplication with freq: 2\n",
            "Removing tag: sorting algorithms for arrays with freq: 2\n",
            "Removing tag: searching algorithms for arrays with freq: 2\n",
            "Removing tag: multi dimensional arrays with freq: 2\n",
            "Removing tag: tcp ip reference model with freq: 2\n",
            "Removing tag: genetic algorithms with freq: 2\n",
            "Removing tag: planning and scheduling with freq: 2\n",
            "Removing tag: risk management with freq: 2\n",
            "Removing tag: software quality assurance with freq: 2\n",
            "Removing tag: cocomo model with freq: 2\n",
            "Removing tag: software maintenance with freq: 2\n",
            "Removing tag: osi reference model with freq: 2\n",
            "Removing tag: requirements engineering process with freq: 2\n",
            "Removing tag: backpropagation algorithm with freq: 2\n",
            "Removing tag: clock generation circuit with freq: 2\n",
            "Removing tag: reset circuit with freq: 2\n",
            "Removing tag: memory interfacing with freq: 2\n",
            "Removing tag: basic io interface with freq: 2\n",
            "Removing tag: programmable peripheral interface with freq: 2\n",
            "Removing tag: programmable interval timer with freq: 2\n",
            "Removing tag: hardware interrupts with freq: 2\n",
            "Removing tag: programmable interrupt controller with freq: 2\n",
            "Removing tag: dma operations with freq: 2\n",
            "Removing tag: training vs testing with freq: 2\n",
            "Removing tag: theory of generalization with freq: 2\n",
            "Removing tag: vc dimension with freq: 2\n",
            "Removing tag: generalization bounds with freq: 2\n",
            "Removing tag: bias variance tradeoff with freq: 2\n",
            "Removing tag: stochastic gradient descent with freq: 2\n",
            "Removing tag: bus cycles with freq: 2\n",
            "Removing tag: evolutionary strategies with freq: 2\n",
            "Removing tag: kernels with freq: 2\n",
            "Removing tag: processes with freq: 2\n",
            "Removing tag: threads with freq: 2\n",
            "Removing tag: deadlock with freq: 2\n",
            "Removing tag: scheduling algorithms with freq: 2\n",
            "Removing tag: memory management with freq: 2\n",
            "Removing tag: secondary storage management with freq: 2\n",
            "Removing tag: file management with freq: 2\n",
            "Removing tag: io management with freq: 2\n",
            "Removing tag: disk scheduling with freq: 2\n",
            "Removing tag: internal bus architecture with freq: 2\n",
            "Removing tag: pin functions with freq: 2\n",
            "Removing tag: memory addressing schemes with freq: 2\n",
            "Removing tag: bus buffering with freq: 2\n",
            "Removing tag: first order logic with freq: 2\n",
            "Removing tag: searching methodologies with freq: 2\n",
            "Removing tag: computational intelligence with freq: 2\n",
            "Removing tag: network routing with freq: 2\n",
            "Removing tag: ip subnetting with freq: 2\n",
            "Removing tag: ip addressing with freq: 2\n",
            "Removing tag: virtual network functions with freq: 2\n",
            "Removing tag: software defined networking with freq: 2\n",
            "Removing tag: political science with freq: 2\n",
            "Removing tag: health fitness with freq: 2\n",
            "Removing tag: english fiction with freq: 2\n",
            "Removing tag: true crime with freq: 2\n",
            "Removing tag: dll with freq: 1\n",
            "Removing tag: dynamic with freq: 1\n",
            "Removing tag: lr with freq: 1\n",
            "Removing tag: bst with freq: 1\n",
            "Removing tag: cm with freq: 1\n",
            "Removing tag: dt with freq: 1\n",
            "Removing tag: dr with freq: 1\n",
            "Removing tag: bias with freq: 1\n",
            "Removing tag: datastructure with freq: 1\n",
            "Removing tag: testing with freq: 1\n",
            "Removing tag: dbms with freq: 1\n",
            "Removing tag: normal with freq: 1\n",
            "Removing tag: bcnf with freq: 1\n",
            "Removing tag: relation with freq: 1\n",
            "Removing tag: ai with freq: 1\n",
            "Removing tag: expert with freq: 1\n",
            "Removing tag: rnn with freq: 1\n",
            "Removing tag: supervised with freq: 1\n",
            "Removing tag: hyperparameters with freq: 1\n",
            "Removing tag: bn with freq: 1\n"
          ]
        }
      ],
      "source": [
        "unqiue_tags = data_df['tag'].value_counts()\n",
        "\n",
        "for tag_i, freq_i in unqiue_tags.items():\n",
        "    if freq_i < 3:\n",
        "        print(f\"Removing tag: {tag_i} with freq: {freq_i}\")\n",
        "        data_df = data_df[data_df['tag'] != tag_i]"
      ]
    },
    {
      "cell_type": "code",
      "execution_count": 132,
      "id": "78584f33",
      "metadata": {
        "colab": {
          "base_uri": "https://localhost:8080/"
        },
        "id": "78584f33",
        "outputId": "9b38d2be-0db2-441e-b90d-53aa9d611aea"
      },
      "outputs": [
        {
          "output_type": "stream",
          "name": "stdout",
          "text": [
            "Total Tags After: 147\n"
          ]
        }
      ],
      "source": [
        "print(f\"Total Tags After: {data_df['tag'].nunique()}\")"
      ]
    },
    {
      "cell_type": "markdown",
      "id": "c1b10351",
      "metadata": {
        "id": "c1b10351"
      },
      "source": [
        "Final"
      ]
    },
    {
      "cell_type": "code",
      "execution_count": 133,
      "id": "58a3e83d",
      "metadata": {
        "id": "58a3e83d"
      },
      "outputs": [],
      "source": [
        "data_df.reset_index(drop=True, inplace=True)"
      ]
    },
    {
      "cell_type": "code",
      "execution_count": 134,
      "id": "f4cb72d5",
      "metadata": {
        "colab": {
          "base_uri": "https://localhost:8080/",
          "height": 331
        },
        "id": "f4cb72d5",
        "outputId": "cc0c0023-c375-4aa4-b5ff-33033c475504"
      },
      "outputs": [
        {
          "output_type": "execute_result",
          "data": {
            "text/plain": [
              "           tag                      pattern  \\\n",
              "0     greeting                           hi   \n",
              "1     greeting                           hi   \n",
              "1572    thanks                      amazing   \n",
              "17    greeting                        howdy   \n",
              "41     weather  tell me the current weather   \n",
              "55     weather          is it going to rain   \n",
              "705     hostel                  hostel fees   \n",
              "2011   stories      can you tell me a story   \n",
              "2012   stories      can you tell me a story   \n",
              "\n",
              "                                               response  pattern_words_count  \n",
              "0                                            Hey there!                    1  \n",
              "1                          Hello! How can I assist you?                    1  \n",
              "1572                       It was the least I could do!                    1  \n",
              "17               Hello! Hope you're having a great day!                    1  \n",
              "41                 The weather is sunny and warm today.                    5  \n",
              "55    Expect a mix of sun and clouds with a chance o...                    5  \n",
              "705   For hostel detail visit <a target=\"_blank\" hre...                    2  \n",
              "2011              It would be too long for me to speak.                    6  \n",
              "2012                    You would get bored if I do so.                    6  "
            ],
            "text/html": [
              "\n",
              "  <div id=\"df-1c2e589a-873c-4dfa-b503-a99d45a5c337\" class=\"colab-df-container\">\n",
              "    <div>\n",
              "<style scoped>\n",
              "    .dataframe tbody tr th:only-of-type {\n",
              "        vertical-align: middle;\n",
              "    }\n",
              "\n",
              "    .dataframe tbody tr th {\n",
              "        vertical-align: top;\n",
              "    }\n",
              "\n",
              "    .dataframe thead th {\n",
              "        text-align: right;\n",
              "    }\n",
              "</style>\n",
              "<table border=\"1\" class=\"dataframe\">\n",
              "  <thead>\n",
              "    <tr style=\"text-align: right;\">\n",
              "      <th></th>\n",
              "      <th>tag</th>\n",
              "      <th>pattern</th>\n",
              "      <th>response</th>\n",
              "      <th>pattern_words_count</th>\n",
              "    </tr>\n",
              "  </thead>\n",
              "  <tbody>\n",
              "    <tr>\n",
              "      <th>0</th>\n",
              "      <td>greeting</td>\n",
              "      <td>hi</td>\n",
              "      <td>Hey there!</td>\n",
              "      <td>1</td>\n",
              "    </tr>\n",
              "    <tr>\n",
              "      <th>1</th>\n",
              "      <td>greeting</td>\n",
              "      <td>hi</td>\n",
              "      <td>Hello! How can I assist you?</td>\n",
              "      <td>1</td>\n",
              "    </tr>\n",
              "    <tr>\n",
              "      <th>1572</th>\n",
              "      <td>thanks</td>\n",
              "      <td>amazing</td>\n",
              "      <td>It was the least I could do!</td>\n",
              "      <td>1</td>\n",
              "    </tr>\n",
              "    <tr>\n",
              "      <th>17</th>\n",
              "      <td>greeting</td>\n",
              "      <td>howdy</td>\n",
              "      <td>Hello! Hope you're having a great day!</td>\n",
              "      <td>1</td>\n",
              "    </tr>\n",
              "    <tr>\n",
              "      <th>41</th>\n",
              "      <td>weather</td>\n",
              "      <td>tell me the current weather</td>\n",
              "      <td>The weather is sunny and warm today.</td>\n",
              "      <td>5</td>\n",
              "    </tr>\n",
              "    <tr>\n",
              "      <th>55</th>\n",
              "      <td>weather</td>\n",
              "      <td>is it going to rain</td>\n",
              "      <td>Expect a mix of sun and clouds with a chance o...</td>\n",
              "      <td>5</td>\n",
              "    </tr>\n",
              "    <tr>\n",
              "      <th>705</th>\n",
              "      <td>hostel</td>\n",
              "      <td>hostel fees</td>\n",
              "      <td>For hostel detail visit &lt;a target=\"_blank\" hre...</td>\n",
              "      <td>2</td>\n",
              "    </tr>\n",
              "    <tr>\n",
              "      <th>2011</th>\n",
              "      <td>stories</td>\n",
              "      <td>can you tell me a story</td>\n",
              "      <td>It would be too long for me to speak.</td>\n",
              "      <td>6</td>\n",
              "    </tr>\n",
              "    <tr>\n",
              "      <th>2012</th>\n",
              "      <td>stories</td>\n",
              "      <td>can you tell me a story</td>\n",
              "      <td>You would get bored if I do so.</td>\n",
              "      <td>6</td>\n",
              "    </tr>\n",
              "  </tbody>\n",
              "</table>\n",
              "</div>\n",
              "    <div class=\"colab-df-buttons\">\n",
              "\n",
              "  <div class=\"colab-df-container\">\n",
              "    <button class=\"colab-df-convert\" onclick=\"convertToInteractive('df-1c2e589a-873c-4dfa-b503-a99d45a5c337')\"\n",
              "            title=\"Convert this dataframe to an interactive table.\"\n",
              "            style=\"display:none;\">\n",
              "\n",
              "  <svg xmlns=\"http://www.w3.org/2000/svg\" height=\"24px\" viewBox=\"0 -960 960 960\">\n",
              "    <path d=\"M120-120v-720h720v720H120Zm60-500h600v-160H180v160Zm220 220h160v-160H400v160Zm0 220h160v-160H400v160ZM180-400h160v-160H180v160Zm440 0h160v-160H620v160ZM180-180h160v-160H180v160Zm440 0h160v-160H620v160Z\"/>\n",
              "  </svg>\n",
              "    </button>\n",
              "\n",
              "  <style>\n",
              "    .colab-df-container {\n",
              "      display:flex;\n",
              "      gap: 12px;\n",
              "    }\n",
              "\n",
              "    .colab-df-convert {\n",
              "      background-color: #E8F0FE;\n",
              "      border: none;\n",
              "      border-radius: 50%;\n",
              "      cursor: pointer;\n",
              "      display: none;\n",
              "      fill: #1967D2;\n",
              "      height: 32px;\n",
              "      padding: 0 0 0 0;\n",
              "      width: 32px;\n",
              "    }\n",
              "\n",
              "    .colab-df-convert:hover {\n",
              "      background-color: #E2EBFA;\n",
              "      box-shadow: 0px 1px 2px rgba(60, 64, 67, 0.3), 0px 1px 3px 1px rgba(60, 64, 67, 0.15);\n",
              "      fill: #174EA6;\n",
              "    }\n",
              "\n",
              "    .colab-df-buttons div {\n",
              "      margin-bottom: 4px;\n",
              "    }\n",
              "\n",
              "    [theme=dark] .colab-df-convert {\n",
              "      background-color: #3B4455;\n",
              "      fill: #D2E3FC;\n",
              "    }\n",
              "\n",
              "    [theme=dark] .colab-df-convert:hover {\n",
              "      background-color: #434B5C;\n",
              "      box-shadow: 0px 1px 3px 1px rgba(0, 0, 0, 0.15);\n",
              "      filter: drop-shadow(0px 1px 2px rgba(0, 0, 0, 0.3));\n",
              "      fill: #FFFFFF;\n",
              "    }\n",
              "  </style>\n",
              "\n",
              "    <script>\n",
              "      const buttonEl =\n",
              "        document.querySelector('#df-1c2e589a-873c-4dfa-b503-a99d45a5c337 button.colab-df-convert');\n",
              "      buttonEl.style.display =\n",
              "        google.colab.kernel.accessAllowed ? 'block' : 'none';\n",
              "\n",
              "      async function convertToInteractive(key) {\n",
              "        const element = document.querySelector('#df-1c2e589a-873c-4dfa-b503-a99d45a5c337');\n",
              "        const dataTable =\n",
              "          await google.colab.kernel.invokeFunction('convertToInteractive',\n",
              "                                                    [key], {});\n",
              "        if (!dataTable) return;\n",
              "\n",
              "        const docLinkHtml = 'Like what you see? Visit the ' +\n",
              "          '<a target=\"_blank\" href=https://colab.research.google.com/notebooks/data_table.ipynb>data table notebook</a>'\n",
              "          + ' to learn more about interactive tables.';\n",
              "        element.innerHTML = '';\n",
              "        dataTable['output_type'] = 'display_data';\n",
              "        await google.colab.output.renderOutput(dataTable, element);\n",
              "        const docLink = document.createElement('div');\n",
              "        docLink.innerHTML = docLinkHtml;\n",
              "        element.appendChild(docLink);\n",
              "      }\n",
              "    </script>\n",
              "  </div>\n",
              "\n",
              "\n",
              "    <div id=\"df-78395aa9-cb3d-472e-837a-fccd0946f9d6\">\n",
              "      <button class=\"colab-df-quickchart\" onclick=\"quickchart('df-78395aa9-cb3d-472e-837a-fccd0946f9d6')\"\n",
              "                title=\"Suggest charts\"\n",
              "                style=\"display:none;\">\n",
              "\n",
              "<svg xmlns=\"http://www.w3.org/2000/svg\" height=\"24px\"viewBox=\"0 0 24 24\"\n",
              "     width=\"24px\">\n",
              "    <g>\n",
              "        <path d=\"M19 3H5c-1.1 0-2 .9-2 2v14c0 1.1.9 2 2 2h14c1.1 0 2-.9 2-2V5c0-1.1-.9-2-2-2zM9 17H7v-7h2v7zm4 0h-2V7h2v10zm4 0h-2v-4h2v4z\"/>\n",
              "    </g>\n",
              "</svg>\n",
              "      </button>\n",
              "\n",
              "<style>\n",
              "  .colab-df-quickchart {\n",
              "      --bg-color: #E8F0FE;\n",
              "      --fill-color: #1967D2;\n",
              "      --hover-bg-color: #E2EBFA;\n",
              "      --hover-fill-color: #174EA6;\n",
              "      --disabled-fill-color: #AAA;\n",
              "      --disabled-bg-color: #DDD;\n",
              "  }\n",
              "\n",
              "  [theme=dark] .colab-df-quickchart {\n",
              "      --bg-color: #3B4455;\n",
              "      --fill-color: #D2E3FC;\n",
              "      --hover-bg-color: #434B5C;\n",
              "      --hover-fill-color: #FFFFFF;\n",
              "      --disabled-bg-color: #3B4455;\n",
              "      --disabled-fill-color: #666;\n",
              "  }\n",
              "\n",
              "  .colab-df-quickchart {\n",
              "    background-color: var(--bg-color);\n",
              "    border: none;\n",
              "    border-radius: 50%;\n",
              "    cursor: pointer;\n",
              "    display: none;\n",
              "    fill: var(--fill-color);\n",
              "    height: 32px;\n",
              "    padding: 0;\n",
              "    width: 32px;\n",
              "  }\n",
              "\n",
              "  .colab-df-quickchart:hover {\n",
              "    background-color: var(--hover-bg-color);\n",
              "    box-shadow: 0 1px 2px rgba(60, 64, 67, 0.3), 0 1px 3px 1px rgba(60, 64, 67, 0.15);\n",
              "    fill: var(--button-hover-fill-color);\n",
              "  }\n",
              "\n",
              "  .colab-df-quickchart-complete:disabled,\n",
              "  .colab-df-quickchart-complete:disabled:hover {\n",
              "    background-color: var(--disabled-bg-color);\n",
              "    fill: var(--disabled-fill-color);\n",
              "    box-shadow: none;\n",
              "  }\n",
              "\n",
              "  .colab-df-spinner {\n",
              "    border: 2px solid var(--fill-color);\n",
              "    border-color: transparent;\n",
              "    border-bottom-color: var(--fill-color);\n",
              "    animation:\n",
              "      spin 1s steps(1) infinite;\n",
              "  }\n",
              "\n",
              "  @keyframes spin {\n",
              "    0% {\n",
              "      border-color: transparent;\n",
              "      border-bottom-color: var(--fill-color);\n",
              "      border-left-color: var(--fill-color);\n",
              "    }\n",
              "    20% {\n",
              "      border-color: transparent;\n",
              "      border-left-color: var(--fill-color);\n",
              "      border-top-color: var(--fill-color);\n",
              "    }\n",
              "    30% {\n",
              "      border-color: transparent;\n",
              "      border-left-color: var(--fill-color);\n",
              "      border-top-color: var(--fill-color);\n",
              "      border-right-color: var(--fill-color);\n",
              "    }\n",
              "    40% {\n",
              "      border-color: transparent;\n",
              "      border-right-color: var(--fill-color);\n",
              "      border-top-color: var(--fill-color);\n",
              "    }\n",
              "    60% {\n",
              "      border-color: transparent;\n",
              "      border-right-color: var(--fill-color);\n",
              "    }\n",
              "    80% {\n",
              "      border-color: transparent;\n",
              "      border-right-color: var(--fill-color);\n",
              "      border-bottom-color: var(--fill-color);\n",
              "    }\n",
              "    90% {\n",
              "      border-color: transparent;\n",
              "      border-bottom-color: var(--fill-color);\n",
              "    }\n",
              "  }\n",
              "</style>\n",
              "\n",
              "      <script>\n",
              "        async function quickchart(key) {\n",
              "          const quickchartButtonEl =\n",
              "            document.querySelector('#' + key + ' button');\n",
              "          quickchartButtonEl.disabled = true;  // To prevent multiple clicks.\n",
              "          quickchartButtonEl.classList.add('colab-df-spinner');\n",
              "          try {\n",
              "            const charts = await google.colab.kernel.invokeFunction(\n",
              "                'suggestCharts', [key], {});\n",
              "          } catch (error) {\n",
              "            console.error('Error during call to suggestCharts:', error);\n",
              "          }\n",
              "          quickchartButtonEl.classList.remove('colab-df-spinner');\n",
              "          quickchartButtonEl.classList.add('colab-df-quickchart-complete');\n",
              "        }\n",
              "        (() => {\n",
              "          let quickchartButtonEl =\n",
              "            document.querySelector('#df-78395aa9-cb3d-472e-837a-fccd0946f9d6 button');\n",
              "          quickchartButtonEl.style.display =\n",
              "            google.colab.kernel.accessAllowed ? 'block' : 'none';\n",
              "        })();\n",
              "      </script>\n",
              "    </div>\n",
              "\n",
              "    </div>\n",
              "  </div>\n"
            ],
            "application/vnd.google.colaboratory.intrinsic+json": {
              "type": "dataframe",
              "summary": "{\n  \"name\": \"])\",\n  \"rows\": 9,\n  \"fields\": [\n    {\n      \"column\": \"tag\",\n      \"properties\": {\n        \"dtype\": \"string\",\n        \"num_unique_values\": 5,\n        \"samples\": [\n          \"thanks\",\n          \"stories\",\n          \"weather\"\n        ],\n        \"semantic_type\": \"\",\n        \"description\": \"\"\n      }\n    },\n    {\n      \"column\": \"pattern\",\n      \"properties\": {\n        \"dtype\": \"string\",\n        \"num_unique_values\": 7,\n        \"samples\": [\n          \"hi\",\n          \"amazing\",\n          \"hostel fees\"\n        ],\n        \"semantic_type\": \"\",\n        \"description\": \"\"\n      }\n    },\n    {\n      \"column\": \"response\",\n      \"properties\": {\n        \"dtype\": \"string\",\n        \"num_unique_values\": 9,\n        \"samples\": [\n          \"It would be too long for me to speak.\",\n          \"Hello! How can I assist you?\",\n          \"Expect a mix of sun and clouds with a chance of rain in the afternoon.\"\n        ],\n        \"semantic_type\": \"\",\n        \"description\": \"\"\n      }\n    },\n    {\n      \"column\": \"pattern_words_count\",\n      \"properties\": {\n        \"dtype\": \"number\",\n        \"std\": 2,\n        \"min\": 1,\n        \"max\": 6,\n        \"num_unique_values\": 4,\n        \"samples\": [\n          5,\n          6,\n          1\n        ],\n        \"semantic_type\": \"\",\n        \"description\": \"\"\n      }\n    }\n  ]\n}"
            }
          },
          "metadata": {},
          "execution_count": 134
        }
      ],
      "source": [
        "pd.concat([\n",
        "    data_df.head(2),\n",
        "    data_df.sample(5),\n",
        "    data_df.tail(2)\n",
        "])"
      ]
    },
    {
      "cell_type": "markdown",
      "id": "eb39e8e1",
      "metadata": {
        "id": "eb39e8e1"
      },
      "source": [
        "# Corpus Extraction"
      ]
    },
    {
      "cell_type": "code",
      "execution_count": 135,
      "id": "0b35f16a",
      "metadata": {
        "id": "0b35f16a"
      },
      "outputs": [],
      "source": [
        "X = data_df['pattern'].values\n",
        "y_str = data_df['tag'].values"
      ]
    },
    {
      "cell_type": "markdown",
      "source": [
        "Label Encoder"
      ],
      "metadata": {
        "id": "aio6bsUhTokN"
      },
      "id": "aio6bsUhTokN"
    },
    {
      "cell_type": "code",
      "source": [
        "class_freq_pairs = list(Counter(y_str).items())\n",
        "\n",
        "class_freq_pairs.sort(key=lambda x: x[1], reverse=True)\n",
        "class_freq_pairs[0:5]"
      ],
      "metadata": {
        "colab": {
          "base_uri": "https://localhost:8080/"
        },
        "id": "UbvZCqTcc51L",
        "outputId": "e65e4cc8-db63-41b6-ce80-c7e9697b8dec"
      },
      "id": "UbvZCqTcc51L",
      "execution_count": 136,
      "outputs": [
        {
          "output_type": "execute_result",
          "data": {
            "text/plain": [
              "[('greeting', 199),\n",
              " ('goodbye', 179),\n",
              " ('thanks', 125),\n",
              " ('menu', 107),\n",
              " ('hepl', 100)]"
            ]
          },
          "metadata": {},
          "execution_count": 136
        }
      ]
    },
    {
      "cell_type": "code",
      "source": [
        "y_label_encoder = LabelEncoder()\n",
        "\n",
        "#store most frequent classes first\n",
        "y_label_encoder.classes_ = np.array([x[0] for x in class_freq_pairs])\n",
        "\n",
        "y_encoded = y_label_encoder.transform(y_str)"
      ],
      "metadata": {
        "id": "6_8pNB0-TqMO"
      },
      "id": "6_8pNB0-TqMO",
      "execution_count": 137,
      "outputs": []
    },
    {
      "cell_type": "markdown",
      "id": "92e2a31a",
      "metadata": {
        "id": "92e2a31a"
      },
      "source": [
        "Tokenizer"
      ]
    },
    {
      "cell_type": "code",
      "execution_count": 138,
      "id": "6c4e1d08",
      "metadata": {
        "colab": {
          "base_uri": "https://localhost:8080/"
        },
        "id": "6c4e1d08",
        "outputId": "2a9f12f2-76f5-4879-fff5-10f51631ad5f"
      },
      "outputs": [
        {
          "output_type": "stream",
          "name": "stdout",
          "text": [
            "⚙️ Creating new tokenizer...\n"
          ]
        }
      ],
      "source": [
        "if os.path.exists(TOKENIZER_PATH):\n",
        "    print(\"📂 Loading tokenizer from cache...\")\n",
        "    x_tokenizer = load_obj(TOKENIZER_PATH)\n",
        "\n",
        "else:\n",
        "    print(\"⚙️ Creating new tokenizer...\")\n",
        "    x_tokenizer = Tokenizer(\n",
        "        num_words=None,\n",
        "        filters='',\n",
        "        lower=None,\n",
        "        split=' ',\n",
        "        oov_token=OOV_TOKEN,\n",
        "        char_level=False\n",
        "    )\n",
        "\n",
        "    x_tokenizer.fit_on_texts(\n",
        "        X\n",
        "    )"
      ]
    },
    {
      "cell_type": "code",
      "execution_count": 139,
      "id": "80e850e1",
      "metadata": {
        "colab": {
          "base_uri": "https://localhost:8080/"
        },
        "id": "80e850e1",
        "outputId": "4149c4b3-94d1-407e-c47d-35b414d20676"
      },
      "outputs": [
        {
          "output_type": "stream",
          "name": "stdout",
          "text": [
            "N Words in vocabulary: 687\n"
          ]
        }
      ],
      "source": [
        "print(\"N Words in vocabulary:\", len(x_tokenizer.word_index))"
      ]
    },
    {
      "cell_type": "code",
      "execution_count": 140,
      "id": "ef713ad5",
      "metadata": {
        "id": "ef713ad5"
      },
      "outputs": [],
      "source": [
        "save_obj_json(x_tokenizer.index_word, TOKENIZER_WORDS_PATH)"
      ]
    },
    {
      "cell_type": "code",
      "execution_count": 141,
      "id": "6e657230",
      "metadata": {
        "id": "6e657230"
      },
      "outputs": [],
      "source": [
        "X = x_tokenizer.texts_to_sequences(X)"
      ]
    },
    {
      "cell_type": "markdown",
      "id": "56f19dcf",
      "metadata": {
        "id": "56f19dcf"
      },
      "source": [
        "Pad Sequence"
      ]
    },
    {
      "cell_type": "code",
      "execution_count": 142,
      "id": "f68872e5",
      "metadata": {
        "id": "f68872e5"
      },
      "outputs": [],
      "source": [
        "X = pad_sequences(X, maxlen=SENTENCE_MAX_WORDS_LEN, padding='post', truncating='post')"
      ]
    },
    {
      "cell_type": "code",
      "execution_count": 143,
      "id": "3734a891",
      "metadata": {
        "colab": {
          "base_uri": "https://localhost:8080/"
        },
        "id": "3734a891",
        "outputId": "e5c196e6-5533-4476-d0da-840f64dbea13"
      },
      "outputs": [
        {
          "output_type": "stream",
          "name": "stdout",
          "text": [
            "Sample:  [21  7  3 40  0  0  0  0  0  0  0  0]\n",
            "Shape:  (2013, 12)\n"
          ]
        }
      ],
      "source": [
        "print(\"Sample: \", X[124])\n",
        "print(\"Shape: \", X.shape)"
      ]
    },
    {
      "cell_type": "markdown",
      "id": "22944781",
      "metadata": {
        "id": "22944781"
      },
      "source": [
        "# Data Split"
      ]
    },
    {
      "cell_type": "code",
      "execution_count": 144,
      "id": "baacaf84",
      "metadata": {
        "colab": {
          "base_uri": "https://localhost:8080/"
        },
        "id": "baacaf84",
        "outputId": "812bb8cb-1d09-4b2b-a649-12bfb123de49"
      },
      "outputs": [
        {
          "output_type": "stream",
          "name": "stdout",
          "text": [
            "X_train.shape = (1207, 12)\n",
            "X_val.shape = (403, 12)\n",
            "X_test.shape = (403, 12)\n",
            "y_encoded_train.shape = (1207,)\n",
            "y_encoded_val.shape = (403,)\n",
            "y_encoded_test.shape = (403,)\n"
          ]
        }
      ],
      "source": [
        "X_train, X_test, y_encoded_train, y_encoded_test = train_test_split(\n",
        "    X, y_encoded,\n",
        "    test_size=TEST_SPLIT + VAL_SPLIT,\n",
        "    random_state=RONDOM_STATE,\n",
        ")\n",
        "\n",
        "X_test, X_val, y_encoded_test, y_encoded_val = train_test_split(\n",
        "    X_test, y_encoded_test,\n",
        "    test_size=VAL_SPLIT / (TEST_SPLIT + VAL_SPLIT),\n",
        "    random_state=RONDOM_STATE,\n",
        ")\n",
        "\n",
        "print(f\"{X_train.shape = }\")\n",
        "print(f\"{X_val.shape = }\")\n",
        "print(f\"{X_test.shape = }\")\n",
        "\n",
        "print(f\"{y_encoded_train.shape = }\")\n",
        "print(f\"{y_encoded_val.shape = }\")\n",
        "print(f\"{y_encoded_test.shape = }\")"
      ]
    },
    {
      "cell_type": "markdown",
      "id": "0c43b128",
      "metadata": {
        "id": "0c43b128"
      },
      "source": [
        "# Data Generators"
      ]
    },
    {
      "cell_type": "markdown",
      "id": "2dc6e2e8",
      "metadata": {
        "id": "2dc6e2e8"
      },
      "source": [
        "## Siamese"
      ]
    },
    {
      "cell_type": "code",
      "execution_count": 145,
      "id": "c59619f8",
      "metadata": {
        "id": "c59619f8"
      },
      "outputs": [],
      "source": [
        "class MyDataGeneratorSiamesePair(Sequence):\n",
        "    def __init__(self, X, y, batch_size=32, feature_extractor_model=None, shuffle=True, hard_negative_prob=0.8):\n",
        "        self.X = np.array(X)\n",
        "        self.y = np.array(y)\n",
        "        self.batch_size = batch_size\n",
        "        self.shuffle = shuffle\n",
        "        self.hard_negative_prob = hard_negative_prob\n",
        "\n",
        "        self.feature_extractor_model = feature_extractor_model\n",
        "        self.embeddings = None\n",
        "        self.dist_matrix = None\n",
        "\n",
        "        self.on_epoch_end()\n",
        "\n",
        "    def __len__(self):\n",
        "        \"\"\"Approximate number of batches per epoch.\"\"\"\n",
        "        return int(np.ceil(len(self.X) ** 2 / self.batch_size))\n",
        "\n",
        "    def __getitem__(self, idx):\n",
        "        \"\"\"Return one batch of pairs.\"\"\"\n",
        "        x1, x2, labels = self._generate_pairs(self.batch_size)\n",
        "        return (x1, x2), np.array(labels)\n",
        "\n",
        "    def on_epoch_end(self):\n",
        "        \"\"\"Shuffle data and refresh embeddings if extractor is available.\"\"\"\n",
        "        self.indices = np.arange(len(self.X))\n",
        "        if self.shuffle:\n",
        "            np.random.shuffle(self.indices)\n",
        "            self.X = self.X[self.indices]\n",
        "            self.y = self.y[self.indices]\n",
        "\n",
        "        # If a feature extractor exists, recompute embeddings and distances\n",
        "        if self.feature_extractor_model is not None:\n",
        "            self.embeddings = self.feature_extractor_model.predict(self.X, verbose=0)\n",
        "            # Normalize embeddings (optional, for cosine-like distance)\n",
        "            self.embeddings = self.embeddings / np.linalg.norm(self.embeddings, axis=1, keepdims=True)\n",
        "            # Pairwise distance matrix\n",
        "            self.dist_matrix = np.linalg.norm(\n",
        "                self.embeddings[:, None, :] - self.embeddings[None, :, :],\n",
        "                axis=-1\n",
        "            )\n",
        "\n",
        "    def set_feature_extractor(self, model):\n",
        "        \"\"\"Setter for external feature extractor model.\"\"\"\n",
        "        self.feature_extractor_model = model\n",
        "        self.embeddings = None\n",
        "        self.dist_matrix = None\n",
        "\n",
        "    def _generate_pairs(self, batch_size):\n",
        "        \"\"\"Generate pairs of samples (positive & negative).\"\"\"\n",
        "        batch_x1, batch_x2, batch_labels = [], [], []\n",
        "\n",
        "        for _ in range(batch_size):\n",
        "            idx1 = np.random.randint(0, len(self.X))\n",
        "            label1 = self.y[idx1]\n",
        "\n",
        "            if np.random.rand() > 0.5:\n",
        "                # Positive pair\n",
        "                candidates = np.where(self.y == label1)[0]\n",
        "                idx2 = np.random.choice(candidates)\n",
        "                label = 1\n",
        "            else:\n",
        "                # Negative pair\n",
        "                candidates = np.where(self.y != label1)[0]\n",
        "\n",
        "                if self.feature_extractor_model is not None and self.dist_matrix is not None:\n",
        "                    if np.random.rand() < self.hard_negative_prob:\n",
        "                        # Hardest negative (closest embedding but different class)\n",
        "                        dists = self.dist_matrix[idx1, candidates]\n",
        "                        idx2 = candidates[np.argmin(dists)]\n",
        "                    else:\n",
        "                        # Random negative\n",
        "                        idx2 = np.random.choice(candidates)\n",
        "                else:\n",
        "                    # No extractor → random negative\n",
        "                    idx2 = np.random.choice(candidates)\n",
        "\n",
        "                label = 0\n",
        "\n",
        "            batch_x1.append(self.X[idx1])\n",
        "            batch_x2.append(self.X[idx2])\n",
        "            batch_labels.append(label)\n",
        "\n",
        "        return np.array(batch_x1), np.array(batch_x2), batch_labels"
      ]
    },
    {
      "cell_type": "code",
      "execution_count": 146,
      "id": "bcbc4bf0",
      "metadata": {
        "id": "bcbc4bf0"
      },
      "outputs": [],
      "source": [
        "train_siamese_generator = MyDataGeneratorSiamesePair(X_train, y_encoded_train,\n",
        "                                       batch_size=BATCH_SIZE,\n",
        "                                       shuffle=True)\n",
        "\n",
        "val_siamese_generator = MyDataGeneratorSiamesePair(X_val, y_encoded_val,\n",
        "                                     batch_size=BATCH_SIZE,\n",
        "                                     shuffle=False)\n",
        "\n",
        "test_siamese_generator = MyDataGeneratorSiamesePair(X_test, y_encoded_test,\n",
        "                                      batch_size=BATCH_SIZE,\n",
        "                                      shuffle=False)"
      ]
    },
    {
      "cell_type": "code",
      "execution_count": 147,
      "id": "0d2760bb",
      "metadata": {
        "colab": {
          "base_uri": "https://localhost:8080/"
        },
        "id": "0d2760bb",
        "outputId": "1496ad97-447c-44e1-9dd1-ebdb69f24987"
      },
      "outputs": [
        {
          "output_type": "stream",
          "name": "stdout",
          "text": [
            "Pair 1:\n",
            " Sentence 1: how s your day\n",
            " Sentence 2: got any plans for the weekend\n",
            "  Similarity: Similar\n",
            "--------------------\n",
            "Pair 2:\n",
            " Sentence 1: recommend a book in music\n",
            " Sentence 2: recommend a book in literary criticism\n",
            "  Similarity: Not Similar\n",
            "--------------------\n",
            "Pair 3:\n",
            " Sentence 1: the mouse is dead\n",
            " Sentence 2: mouse issues\n",
            "  Similarity: Similar\n",
            "--------------------\n",
            "Pair 4:\n",
            " Sentence 1: do you serve drinks\n",
            " Sentence 2: have a great day\n",
            "  Similarity: Not Similar\n",
            "--------------------\n",
            "Pair 5:\n",
            " Sentence 1: thanks\n",
            " Sentence 2: any joke for me\n",
            "  Similarity: Not Similar\n",
            "--------------------\n",
            "Pair 6:\n",
            " Sentence 1: recommend me something to read\n",
            " Sentence 2: which jedi can help me in this mission\n",
            "  Similarity: Not Similar\n",
            "--------------------\n",
            "Pair 7:\n",
            " Sentence 1: mouse issues\n",
            " Sentence 2: what are the thing you can do\n",
            "  Similarity: Not Similar\n",
            "--------------------\n",
            "Pair 8:\n",
            " Sentence 1: computer engineering\n",
            " Sentence 2: recommend a book in american fiction\n",
            "  Similarity: Not Similar\n",
            "--------------------\n",
            "Pair 9:\n",
            " Sentence 1: random\n",
            " Sentence 2: random\n",
            "  Similarity: Similar\n",
            "--------------------\n",
            "Pair 10:\n",
            " Sentence 1: hello\n",
            " Sentence 2: i am looking for the best jedi in galaxi\n",
            "  Similarity: Not Similar\n",
            "--------------------\n"
          ]
        }
      ],
      "source": [
        "N_ROWS = 10\n",
        "COUNTER_i = 0\n",
        "\n",
        "(batch_x1, batch_x2), batch_y = train_siamese_generator[0]\n",
        "\n",
        "for x1, x2, y in zip(batch_x1, batch_x2, batch_y):\n",
        "    if COUNTER_i >= N_ROWS:\n",
        "        break\n",
        "    else:\n",
        "        COUNTER_i += 1\n",
        "\n",
        "    print(f\"Pair {COUNTER_i}:\")\n",
        "    print(\" Sentence 1:\", \" \".join([x_tokenizer.index_word.get(idx, '') for idx in x1 if idx > 0]))\n",
        "    print(\" Sentence 2:\", \" \".join([x_tokenizer.index_word.get(idx, '') for idx in x2 if idx > 0]))\n",
        "    print(\"  Similarity:\", \"Similar\" if y == 1 else \"Not Similar\")\n",
        "    print('-' * 20)"
      ]
    },
    {
      "cell_type": "markdown",
      "id": "f5f73034",
      "metadata": {
        "id": "f5f73034"
      },
      "source": [
        "## Triplet"
      ]
    },
    {
      "cell_type": "code",
      "execution_count": 148,
      "id": "54fd08c3",
      "metadata": {
        "id": "54fd08c3"
      },
      "outputs": [],
      "source": [
        "class MyDataGeneratorTriplet(Sequence):\n",
        "    def __init__(self, X, y, batch_size=32, shuffle=True, hard_negative_prob=0.8):\n",
        "        self.X = np.array(X)\n",
        "        self.y = np.array(y)\n",
        "        self.batch_size = batch_size\n",
        "        self.shuffle = shuffle\n",
        "        self.hard_negative_prob = hard_negative_prob\n",
        "\n",
        "        self.feature_extractor = None   # external model (can be set later)\n",
        "        self.embeddings = None          # cached embeddings\n",
        "        self.dist_matrix = None         # cached distance matrix\n",
        "\n",
        "        self.on_epoch_end()\n",
        "\n",
        "    def set_feature_extractor(self, model):\n",
        "        \"\"\"Setter for external feature extractor model.\"\"\"\n",
        "        self.feature_extractor = model\n",
        "        self.embeddings = None\n",
        "        self.dist_matrix = None\n",
        "\n",
        "    def __len__(self):\n",
        "        \"\"\"Approximate number of batches per epoch.\"\"\"\n",
        "        return int(np.ceil(len(self.X) ** 2 / self.batch_size))\n",
        "\n",
        "    def __getitem__(self, idx):\n",
        "        \"\"\"Generate one batch of triplets.\"\"\"\n",
        "        batch_a, batch_p, batch_n, batch_labels = self._generate_triplets(self.batch_size)\n",
        "        return (batch_a, batch_p, batch_n), batch_labels\n",
        "\n",
        "    def on_epoch_end(self):\n",
        "        \"\"\"Shuffle dataset and recompute embeddings if feature extractor is available.\"\"\"\n",
        "        self.indices = np.arange(len(self.X))\n",
        "        if self.shuffle:\n",
        "            np.random.shuffle(self.indices)\n",
        "            self.X = self.X[self.indices]\n",
        "            self.y = self.y[self.indices]\n",
        "\n",
        "        # If a feature extractor is available, compute embeddings and distances\n",
        "        if self.feature_extractor is not None:\n",
        "            self.embeddings = self.feature_extractor.predict(self.X, verbose=0)\n",
        "            # Normalize embeddings (optional but useful for cosine distance)\n",
        "            self.embeddings = self.embeddings / np.linalg.norm(self.embeddings, axis=1, keepdims=True)\n",
        "            # Compute distance matrix (symmetric, NxN)\n",
        "            self.dist_matrix = np.linalg.norm(\n",
        "                self.embeddings[:, None, :] - self.embeddings[None, :, :],\n",
        "                axis=-1\n",
        "            )\n",
        "\n",
        "    def _generate_triplets(self, batch_size):\n",
        "        \"\"\"Generate a batch of triplets with optional hard negative mining.\"\"\"\n",
        "        batch_a, batch_p, batch_n, batch_labels = [], [], [], []\n",
        "        classes = np.unique(self.y)\n",
        "\n",
        "        for _ in range(batch_size):\n",
        "            # Choose anchor class and negative class\n",
        "            anchor_class, negative_class = np.random.choice(classes, 2, replace=False)\n",
        "\n",
        "            # Anchor and Positive\n",
        "            pos_candidates = np.where(self.y == anchor_class)[0]\n",
        "            anchor_idx, pos_idx = np.random.choice(pos_candidates, 2, replace=True)\n",
        "\n",
        "            # Negative (random vs hard)\n",
        "            neg_candidates = np.where(self.y == negative_class)[0]\n",
        "\n",
        "            if self.feature_extractor is not None and self.dist_matrix is not None:\n",
        "                if np.random.rand() < self.hard_negative_prob:\n",
        "                    # Pick hardest negative = min distance among neg_candidates\n",
        "                    dists = self.dist_matrix[anchor_idx, neg_candidates]\n",
        "                    neg_idx = neg_candidates[np.argmin(dists)]\n",
        "                else:\n",
        "                    # Fallback: random negative\n",
        "                    neg_idx = np.random.choice(neg_candidates)\n",
        "            else:\n",
        "                # No extractor: random negative\n",
        "                neg_idx = np.random.choice(neg_candidates)\n",
        "\n",
        "            # Append triplet\n",
        "            batch_a.append(self.X[anchor_idx])\n",
        "            batch_p.append(self.X[pos_idx])\n",
        "            batch_n.append(self.X[neg_idx])\n",
        "            batch_labels.append(0)  # Dummy label\n",
        "\n",
        "        return (\n",
        "            np.array(batch_a),\n",
        "            np.array(batch_p),\n",
        "            np.array(batch_n),\n",
        "            np.array(batch_labels),\n",
        "        )\n"
      ]
    },
    {
      "cell_type": "code",
      "execution_count": 149,
      "id": "cea986ee",
      "metadata": {
        "id": "cea986ee"
      },
      "outputs": [],
      "source": [
        "train_triplet_generator = MyDataGeneratorTriplet(X_train, y_encoded_train,\n",
        "                                       batch_size=BATCH_SIZE,\n",
        "                                       shuffle=True)\n",
        "\n",
        "val_triplet_generator = MyDataGeneratorTriplet(X_val, y_encoded_val,\n",
        "                                     batch_size=BATCH_SIZE,\n",
        "                                     shuffle=False)\n",
        "\n",
        "test_triplet_generator = MyDataGeneratorTriplet(X_test, y_encoded_test,\n",
        "                                      batch_size=BATCH_SIZE,\n",
        "                                      shuffle=False)"
      ]
    },
    {
      "cell_type": "code",
      "execution_count": 150,
      "id": "18f55367",
      "metadata": {
        "colab": {
          "base_uri": "https://localhost:8080/"
        },
        "id": "18f55367",
        "outputId": "8c3057ba-e027-4bc2-ba57-6c1e2a1904db"
      },
      "outputs": [
        {
          "output_type": "stream",
          "name": "stdout",
          "text": [
            "Triplet 1:\n",
            " Anchor: recommend a book in architecture\n",
            " Positive: recommend a book in architecture\n",
            " Negative: recommend a book in science\n",
            "--------------------\n",
            "Triplet 2:\n",
            " Anchor: available scholarships\n",
            " Positive: civil scholarship\n",
            " Negative: can you tell me a story\n",
            "--------------------\n",
            "Triplet 3:\n",
            " Anchor: recommend a book in language arts disciplines\n",
            " Positive: recommend a book in language arts disciplines\n",
            " Negative: do you know a joke\n",
            "--------------------\n",
            "Triplet 4:\n",
            " Anchor: explain the 3 vs of big data\n",
            " Positive: what is big data\n",
            " Negative: who can assist me with my mission\n",
            "--------------------\n",
            "Triplet 5:\n",
            " Anchor: can you figure out 25 divided by 5 plus 3\n",
            " Positive: what s the missing number in this sequence 2 4 6 10\n",
            " Negative: can you recommend a book\n",
            "--------------------\n",
            "Triplet 6:\n",
            " Anchor: tell me a story\n",
            " Positive: can you tell me a story\n",
            " Negative: building size\n",
            "--------------------\n",
            "Triplet 7:\n",
            " Anchor: recommend a book in fiction\n",
            " Positive: recommend a fiction book\n",
            " Negative: recommend a comics graphic novels book\n",
            "--------------------\n",
            "Triplet 8:\n",
            " Anchor: detective and mystery stories\n",
            " Positive: recommend a detective and mystery stories book\n",
            " Negative: recommend a book in games\n",
            "--------------------\n",
            "Triplet 9:\n",
            " Anchor: location\n",
            " Positive: where is college located\n",
            " Negative: any movie recommendations\n",
            "--------------------\n",
            "Triplet 10:\n",
            " Anchor: what facilities college provide\n",
            " Positive: facilities provided\n",
            " Negative: computer keeps shutting down\n",
            "--------------------\n"
          ]
        }
      ],
      "source": [
        "N_ROWS = 10\n",
        "COUNTER_i = 0\n",
        "\n",
        "(batch_a, batch_p, batch_n), batch_y = train_triplet_generator[0]\n",
        "\n",
        "for a_i, p_i, n_i, y in zip(batch_a, batch_p, batch_n, batch_y):\n",
        "    if COUNTER_i >= N_ROWS:\n",
        "        break\n",
        "    else:\n",
        "        COUNTER_i += 1\n",
        "\n",
        "    print(f\"Triplet {COUNTER_i}:\")\n",
        "    print(\" Anchor:\", \" \".join([x_tokenizer.index_word.get(idx, '') for idx in a_i if idx > 0]))\n",
        "    print(\" Positive:\", \" \".join([x_tokenizer.index_word.get(idx, '') for idx in p_i if idx > 0]))\n",
        "    print(\" Negative:\", \" \".join([x_tokenizer.index_word.get(idx, '') for idx in n_i if idx > 0]))\n",
        "    print('-' * 20)"
      ]
    },
    {
      "cell_type": "markdown",
      "id": "bC12heZVjQ4I",
      "metadata": {
        "id": "bC12heZVjQ4I"
      },
      "source": [
        "# Model Encapsulation"
      ]
    },
    {
      "cell_type": "code",
      "execution_count": 151,
      "id": "0ce8e13d",
      "metadata": {
        "id": "0ce8e13d"
      },
      "outputs": [],
      "source": [
        "class HistoryCheckpoint(Callback):\n",
        "    def __init__(self, model_name):\n",
        "        super().__init__()\n",
        "        self.model_name = model_name\n",
        "        self.filepath = os.path.join(CACHE_MODELS_DIR_NAME, f'{model_name}.history.json')\n",
        "        self.history = {}\n",
        "\n",
        "        if os.path.exists(self.filepath):\n",
        "            with open(self.filepath, 'r') as f:\n",
        "                self.history = json.load(f)\n",
        "                print(F'Model {self.model_name} history loaded from cache')\n",
        "        else:\n",
        "            self.history = {}\n",
        "\n",
        "    def on_epoch_end(self, epoch, logs=None):\n",
        "        logs = logs or {}\n",
        "        for key, value in logs.items():\n",
        "            self.history.setdefault(key, []).append(float(value))\n",
        "\n",
        "        with open(self.filepath, 'w') as f:\n",
        "            json.dump(self.history, f)\n",
        "\n",
        "    def get_history(self):\n",
        "        return self.history"
      ]
    },
    {
      "cell_type": "code",
      "execution_count": 152,
      "id": "c904893a",
      "metadata": {
        "id": "c904893a"
      },
      "outputs": [],
      "source": [
        "class CustomModel:\n",
        "    def __init__(self, name, training_model, feature_extractor_model, train_type, data_gens, metric):\n",
        "        self.name = re.sub('[^A-Za-z0-9]', '_', str(name)).lower()\n",
        "\n",
        "        self.feature_extractor_keras_path = CACHE_MODELS_DIR_NAME + '/' + self.name + '_feature_extractor.keras'\n",
        "        self.training_model_weights_path = CACHE_MODELS_DIR_NAME + '/' + self.name + '_training.weights.h5'\n",
        "\n",
        "        self.training_model = training_model\n",
        "        self.feature_extractor_model = feature_extractor_model\n",
        "        self.data_gens = data_gens\n",
        "\n",
        "        self.train_type = train_type\n",
        "\n",
        "        self.metric = metric\n",
        "\n",
        "        self._history = {}\n",
        "        self.load()\n",
        "\n",
        "    def fit(self, data_gen, validation_data, epochs, batch_size=None, force_train=False,):\n",
        "\n",
        "        es = EarlyStopping(monitor='val_loss', patience=3, verbose=1, restore_best_weights=True)\n",
        "\n",
        "        mcp = ModelCheckpoint(filepath=self.training_model_weights_path,\n",
        "                              monitor='val_loss',\n",
        "                              save_best_only=True,\n",
        "                              save_weights_only=True,\n",
        "                              mode='min',\n",
        "                              verbose=1)\n",
        "\n",
        "        rop = ReduceLROnPlateau(monitor='val_loss', factor=0.1, patience=2)\n",
        "\n",
        "        hcp = HistoryCheckpoint(self.name)\n",
        "\n",
        "        if self.trained == False or force_train:\n",
        "\n",
        "            self.training_model.fit(\n",
        "                data_gen,\n",
        "                validation_data=validation_data,\n",
        "                callbacks=[es, mcp, rop, hcp],\n",
        "                epochs=epochs,\n",
        "                batch_size=batch_size\n",
        "            )\n",
        "\n",
        "            self.trained = True\n",
        "            self._history = hcp.get_history()\n",
        "\n",
        "            self.save_feature_extractor()\n",
        "        else:\n",
        "            self._history = hcp.get_history()\n",
        "\n",
        "    @property\n",
        "    def history(self):\n",
        "        return self._history\n",
        "\n",
        "    def save_feature_extractor(self):\n",
        "        self.feature_extractor_model.save(self.feature_extractor_keras_path)\n",
        "\n",
        "    def load(self):\n",
        "        if os.path.exists(self.training_model_weights_path):\n",
        "            self.training_model.load_weights(self.training_model_weights_path)\n",
        "            self.trained = True\n",
        "            print(F'Model {self.name} weights loaded from cache')\n",
        "        else:\n",
        "            self.trained = False\n",
        "            print(F'Model {self.name} weights not found in cache, training required')\n",
        "\n",
        "        hcp = HistoryCheckpoint(self.name)\n",
        "        self._history = hcp.get_history()"
      ]
    },
    {
      "cell_type": "markdown",
      "id": "f965ea8d",
      "metadata": {
        "id": "f965ea8d"
      },
      "source": [
        "# Models Loss"
      ]
    },
    {
      "cell_type": "code",
      "execution_count": 153,
      "id": "e021df98",
      "metadata": {
        "id": "e021df98"
      },
      "outputs": [],
      "source": [
        "def contrastive_loss(margin):\n",
        "    def c_loss(y_true, y_pred):\n",
        "        y1, y2 = y_pred[:, 0, :], y_pred[:, 1, :]\n",
        "\n",
        "        distances = K.sqrt(K.sum(K.square(y1 - y2), axis=1, keepdims=True) + K.epsilon())\n",
        "        loss_val = y_true * K.square(distances) + (1 - y_true) * K.square(K.maximum(margin - distances, 0))\n",
        "\n",
        "        return K.mean(loss_val)\n",
        "    return c_loss"
      ]
    },
    {
      "cell_type": "code",
      "execution_count": 154,
      "id": "2a442542",
      "metadata": {
        "id": "2a442542"
      },
      "outputs": [],
      "source": [
        "def triplet_loss(margin):\n",
        "    def t_loss(y_true, y_pred):\n",
        "        ya, yp, yn = y_pred[:, 0, :], y_pred[:, 1, :], y_pred[:, 2, :]\n",
        "\n",
        "        d_ap = K.sum(K.square(ya - yp), axis=1)\n",
        "        d_an = K.sum(K.square(ya - yn), axis=1)\n",
        "\n",
        "        loss = K.maximum(d_ap - d_an + margin ** 2, 0)\n",
        "\n",
        "        return K.mean(loss)\n",
        "\n",
        "    return t_loss"
      ]
    },
    {
      "cell_type": "code",
      "source": [
        "def triplet_cosine_loss(margin):\n",
        "    def t_cosine_loss(y_true, y_pred):\n",
        "        ya, yp, yn = y_pred[:, 0, :], y_pred[:, 1, :], y_pred[:, 2, :]\n",
        "\n",
        "        # Normalize embeddings\n",
        "        ya = K.l2_normalize(ya, axis=-1)\n",
        "        yp = K.l2_normalize(yp, axis=-1)\n",
        "        yn = K.l2_normalize(yn, axis=-1)\n",
        "\n",
        "        # Cosine similarity\n",
        "        sim_ap = K.sum(ya * yp, axis=-1)\n",
        "        sim_an = K.sum(ya * yn, axis=-1)\n",
        "\n",
        "        loss = K.maximum(sim_an - sim_ap + margin, 0.0)\n",
        "\n",
        "        return K.mean(loss)\n",
        "\n",
        "    return t_cosine_loss"
      ],
      "metadata": {
        "id": "_B7L-nkzSWOA"
      },
      "id": "_B7L-nkzSWOA",
      "execution_count": 155,
      "outputs": []
    },
    {
      "cell_type": "code",
      "execution_count": 156,
      "id": "ecdd1bde",
      "metadata": {
        "id": "ecdd1bde"
      },
      "outputs": [],
      "source": [
        "siamese_data_gen = [\n",
        "    train_siamese_generator,\n",
        "    val_siamese_generator,\n",
        "    test_siamese_generator\n",
        "]\n",
        "\n",
        "triplet_data_gen = [\n",
        "    train_triplet_generator,\n",
        "    val_triplet_generator,\n",
        "    test_triplet_generator\n",
        "]"
      ]
    },
    {
      "cell_type": "markdown",
      "id": "7a4598be",
      "metadata": {
        "id": "7a4598be"
      },
      "source": [
        "# Models Arch"
      ]
    },
    {
      "cell_type": "markdown",
      "id": "L6HTpmIwPyhu",
      "metadata": {
        "id": "L6HTpmIwPyhu"
      },
      "source": [
        "## Custom Layer"
      ]
    },
    {
      "cell_type": "code",
      "execution_count": 157,
      "id": "1f74e1fd",
      "metadata": {
        "id": "1f74e1fd"
      },
      "outputs": [],
      "source": [
        "def get_embedding_layer():\n",
        "    return Embedding(\n",
        "        input_dim = len(x_tokenizer.word_index) + 1,\n",
        "        output_dim = EMBEDDING_DIM,\n",
        "        trainable=True\n",
        "    )"
      ]
    },
    {
      "cell_type": "markdown",
      "id": "lFsDjI8qP0jj",
      "metadata": {
        "id": "lFsDjI8qP0jj"
      },
      "source": [
        "## Models"
      ]
    },
    {
      "cell_type": "code",
      "execution_count": 158,
      "id": "0cf49e21",
      "metadata": {
        "id": "0cf49e21"
      },
      "outputs": [],
      "source": [
        "models_list = list()"
      ]
    },
    {
      "cell_type": "code",
      "execution_count": 159,
      "id": "7de643ce",
      "metadata": {
        "colab": {
          "base_uri": "https://localhost:8080/",
          "height": 314
        },
        "id": "7de643ce",
        "outputId": "6a6e8884-b45d-4db1-9eff-666bcc435917"
      },
      "outputs": [
        {
          "output_type": "display_data",
          "data": {
            "text/plain": [
              "\u001b[1mModel: \"lstm_shallow_v1_feature_extractor\"\u001b[0m\n"
            ],
            "text/html": [
              "<pre style=\"white-space:pre;overflow-x:auto;line-height:normal;font-family:Menlo,'DejaVu Sans Mono',consolas,'Courier New',monospace\"><span style=\"font-weight: bold\">Model: \"lstm_shallow_v1_feature_extractor\"</span>\n",
              "</pre>\n"
            ]
          },
          "metadata": {}
        },
        {
          "output_type": "display_data",
          "data": {
            "text/plain": [
              "┏━━━━━━━━━━━━━━━━━━━━━━━━━━━━━━━━━┳━━━━━━━━━━━━━━━━━━━━━━━━┳━━━━━━━━━━━━━━━┓\n",
              "┃\u001b[1m \u001b[0m\u001b[1mLayer (type)                   \u001b[0m\u001b[1m \u001b[0m┃\u001b[1m \u001b[0m\u001b[1mOutput Shape          \u001b[0m\u001b[1m \u001b[0m┃\u001b[1m \u001b[0m\u001b[1m      Param #\u001b[0m\u001b[1m \u001b[0m┃\n",
              "┡━━━━━━━━━━━━━━━━━━━━━━━━━━━━━━━━━╇━━━━━━━━━━━━━━━━━━━━━━━━╇━━━━━━━━━━━━━━━┩\n",
              "│ input_layer_20 (\u001b[38;5;33mInputLayer\u001b[0m)     │ (\u001b[38;5;45mNone\u001b[0m, \u001b[38;5;34m12\u001b[0m)             │             \u001b[38;5;34m0\u001b[0m │\n",
              "├─────────────────────────────────┼────────────────────────┼───────────────┤\n",
              "│ embedding_6 (\u001b[38;5;33mEmbedding\u001b[0m)         │ (\u001b[38;5;45mNone\u001b[0m, \u001b[38;5;34m12\u001b[0m, \u001b[38;5;34m64\u001b[0m)         │        \u001b[38;5;34m44,032\u001b[0m │\n",
              "├─────────────────────────────────┼────────────────────────┼───────────────┤\n",
              "│ lstm_7 (\u001b[38;5;33mLSTM\u001b[0m)                   │ (\u001b[38;5;45mNone\u001b[0m, \u001b[38;5;34m64\u001b[0m)             │        \u001b[38;5;34m33,024\u001b[0m │\n",
              "└─────────────────────────────────┴────────────────────────┴───────────────┘\n"
            ],
            "text/html": [
              "<pre style=\"white-space:pre;overflow-x:auto;line-height:normal;font-family:Menlo,'DejaVu Sans Mono',consolas,'Courier New',monospace\">┏━━━━━━━━━━━━━━━━━━━━━━━━━━━━━━━━━┳━━━━━━━━━━━━━━━━━━━━━━━━┳━━━━━━━━━━━━━━━┓\n",
              "┃<span style=\"font-weight: bold\"> Layer (type)                    </span>┃<span style=\"font-weight: bold\"> Output Shape           </span>┃<span style=\"font-weight: bold\">       Param # </span>┃\n",
              "┡━━━━━━━━━━━━━━━━━━━━━━━━━━━━━━━━━╇━━━━━━━━━━━━━━━━━━━━━━━━╇━━━━━━━━━━━━━━━┩\n",
              "│ input_layer_20 (<span style=\"color: #0087ff; text-decoration-color: #0087ff\">InputLayer</span>)     │ (<span style=\"color: #00d7ff; text-decoration-color: #00d7ff\">None</span>, <span style=\"color: #00af00; text-decoration-color: #00af00\">12</span>)             │             <span style=\"color: #00af00; text-decoration-color: #00af00\">0</span> │\n",
              "├─────────────────────────────────┼────────────────────────┼───────────────┤\n",
              "│ embedding_6 (<span style=\"color: #0087ff; text-decoration-color: #0087ff\">Embedding</span>)         │ (<span style=\"color: #00d7ff; text-decoration-color: #00d7ff\">None</span>, <span style=\"color: #00af00; text-decoration-color: #00af00\">12</span>, <span style=\"color: #00af00; text-decoration-color: #00af00\">64</span>)         │        <span style=\"color: #00af00; text-decoration-color: #00af00\">44,032</span> │\n",
              "├─────────────────────────────────┼────────────────────────┼───────────────┤\n",
              "│ lstm_7 (<span style=\"color: #0087ff; text-decoration-color: #0087ff\">LSTM</span>)                   │ (<span style=\"color: #00d7ff; text-decoration-color: #00d7ff\">None</span>, <span style=\"color: #00af00; text-decoration-color: #00af00\">64</span>)             │        <span style=\"color: #00af00; text-decoration-color: #00af00\">33,024</span> │\n",
              "└─────────────────────────────────┴────────────────────────┴───────────────┘\n",
              "</pre>\n"
            ]
          },
          "metadata": {}
        },
        {
          "output_type": "display_data",
          "data": {
            "text/plain": [
              "\u001b[1m Total params: \u001b[0m\u001b[38;5;34m77,056\u001b[0m (301.00 KB)\n"
            ],
            "text/html": [
              "<pre style=\"white-space:pre;overflow-x:auto;line-height:normal;font-family:Menlo,'DejaVu Sans Mono',consolas,'Courier New',monospace\"><span style=\"font-weight: bold\"> Total params: </span><span style=\"color: #00af00; text-decoration-color: #00af00\">77,056</span> (301.00 KB)\n",
              "</pre>\n"
            ]
          },
          "metadata": {}
        },
        {
          "output_type": "display_data",
          "data": {
            "text/plain": [
              "\u001b[1m Trainable params: \u001b[0m\u001b[38;5;34m77,056\u001b[0m (301.00 KB)\n"
            ],
            "text/html": [
              "<pre style=\"white-space:pre;overflow-x:auto;line-height:normal;font-family:Menlo,'DejaVu Sans Mono',consolas,'Courier New',monospace\"><span style=\"font-weight: bold\"> Trainable params: </span><span style=\"color: #00af00; text-decoration-color: #00af00\">77,056</span> (301.00 KB)\n",
              "</pre>\n"
            ]
          },
          "metadata": {}
        },
        {
          "output_type": "display_data",
          "data": {
            "text/plain": [
              "\u001b[1m Non-trainable params: \u001b[0m\u001b[38;5;34m0\u001b[0m (0.00 B)\n"
            ],
            "text/html": [
              "<pre style=\"white-space:pre;overflow-x:auto;line-height:normal;font-family:Menlo,'DejaVu Sans Mono',consolas,'Courier New',monospace\"><span style=\"font-weight: bold\"> Non-trainable params: </span><span style=\"color: #00af00; text-decoration-color: #00af00\">0</span> (0.00 B)\n",
              "</pre>\n"
            ]
          },
          "metadata": {}
        },
        {
          "output_type": "stream",
          "name": "stdout",
          "text": [
            "Model lstm_shallow_v1 weights loaded from cache\n",
            "Model lstm_shallow_v1 history loaded from cache\n"
          ]
        },
        {
          "output_type": "stream",
          "name": "stderr",
          "text": [
            "/usr/local/lib/python3.12/dist-packages/keras/src/saving/saving_lib.py:802: UserWarning: Skipping variable loading for optimizer 'adam', because it has 2 variables whereas the saved optimizer has 10 variables. \n",
            "  saveable.load_own_variables(weights_store.get(inner_path))\n"
          ]
        }
      ],
      "source": [
        "def build_model_1():\n",
        "    global models_list\n",
        "    NAME = \"lstm_shallow_v1\"\n",
        "\n",
        "    #--- Feature Extractor ---\n",
        "    feature_extractor_input = Input(shape=(SENTENCE_MAX_WORDS_LEN,))\n",
        "\n",
        "    x = get_embedding_layer()(feature_extractor_input)\n",
        "    x = LSTM(64, return_sequences=False)(x)\n",
        "\n",
        "    feature_extractor = Model(feature_extractor_input, x, name=NAME + \"_feature_extractor\")\n",
        "    feature_extractor.summary()\n",
        "\n",
        "\n",
        "    #--- Train System ---\n",
        "    train_model_input_1 = Input(shape=(SENTENCE_MAX_WORDS_LEN,))\n",
        "    train_model_input_2 = Input(shape=(SENTENCE_MAX_WORDS_LEN,))\n",
        "\n",
        "    encoded_1 = feature_extractor(train_model_input_1)\n",
        "    encoded_2 = feature_extractor(train_model_input_2)\n",
        "\n",
        "    merged = Lambda(lambda x: K.stack(x, axis=1))([encoded_1, encoded_2])\n",
        "\n",
        "    train_model = Model([train_model_input_1, train_model_input_2], merged, name=NAME + \"_train_model\")\n",
        "\n",
        "    train_model.compile(optimizer='adam', loss= contrastive_loss(margin=1.0))\n",
        "\n",
        "    custom_model =  CustomModel(NAME, train_model, feature_extractor, 'Siamese_Loss (Margin=1.0)', siamese_data_gen, metric='euclidean')\n",
        "\n",
        "    models_list.append(custom_model)\n",
        "\n",
        "build_model_1()"
      ]
    },
    {
      "cell_type": "code",
      "source": [
        "def build_model_2():\n",
        "    global models_list\n",
        "    NAME = \"lstm_deep_v1\"\n",
        "\n",
        "    #--- Feature Extractor ---\n",
        "    feature_extractor_input = Input(shape=(SENTENCE_MAX_WORDS_LEN,))\n",
        "\n",
        "    x = get_embedding_layer()(feature_extractor_input)\n",
        "    x = LSTM(96, return_sequences=True)(x)\n",
        "    x = LSTM(96, return_sequences=False)(x)\n",
        "\n",
        "    feature_extractor = Model(feature_extractor_input, x, name=NAME + \"_feature_extractor\")\n",
        "    feature_extractor.summary()\n",
        "\n",
        "    #--- Train System ---\n",
        "    train_model_input_1 = Input(shape=(SENTENCE_MAX_WORDS_LEN,))\n",
        "    train_model_input_2 = Input(shape=(SENTENCE_MAX_WORDS_LEN,))\n",
        "\n",
        "    encoded_1 = feature_extractor(train_model_input_1)\n",
        "    encoded_2 = feature_extractor(train_model_input_2)\n",
        "\n",
        "    merged = Lambda(lambda x: K.stack(x, axis=1))([encoded_1, encoded_2])\n",
        "\n",
        "    train_model = Model([train_model_input_1, train_model_input_2], merged, name=NAME + \"_train_model\")\n",
        "\n",
        "    train_model.compile(optimizer='adam', loss=contrastive_loss(margin=1.0))\n",
        "\n",
        "    custom_model =  CustomModel(NAME, train_model, feature_extractor, 'Siamese_Loss (Margin=1.0)', siamese_data_gen, metric='euclidean')\n",
        "\n",
        "    models_list.append(custom_model)\n",
        "\n",
        "build_model_2()"
      ],
      "metadata": {
        "colab": {
          "base_uri": "https://localhost:8080/",
          "height": 346
        },
        "id": "ekY9JcKfeafP",
        "outputId": "abf2e8f0-5858-4c0e-c398-cf2a747d3a02"
      },
      "id": "ekY9JcKfeafP",
      "execution_count": 160,
      "outputs": [
        {
          "output_type": "display_data",
          "data": {
            "text/plain": [
              "\u001b[1mModel: \"lstm_deep_v1_feature_extractor\"\u001b[0m\n"
            ],
            "text/html": [
              "<pre style=\"white-space:pre;overflow-x:auto;line-height:normal;font-family:Menlo,'DejaVu Sans Mono',consolas,'Courier New',monospace\"><span style=\"font-weight: bold\">Model: \"lstm_deep_v1_feature_extractor\"</span>\n",
              "</pre>\n"
            ]
          },
          "metadata": {}
        },
        {
          "output_type": "display_data",
          "data": {
            "text/plain": [
              "┏━━━━━━━━━━━━━━━━━━━━━━━━━━━━━━━━━┳━━━━━━━━━━━━━━━━━━━━━━━━┳━━━━━━━━━━━━━━━┓\n",
              "┃\u001b[1m \u001b[0m\u001b[1mLayer (type)                   \u001b[0m\u001b[1m \u001b[0m┃\u001b[1m \u001b[0m\u001b[1mOutput Shape          \u001b[0m\u001b[1m \u001b[0m┃\u001b[1m \u001b[0m\u001b[1m      Param #\u001b[0m\u001b[1m \u001b[0m┃\n",
              "┡━━━━━━━━━━━━━━━━━━━━━━━━━━━━━━━━━╇━━━━━━━━━━━━━━━━━━━━━━━━╇━━━━━━━━━━━━━━━┩\n",
              "│ input_layer_23 (\u001b[38;5;33mInputLayer\u001b[0m)     │ (\u001b[38;5;45mNone\u001b[0m, \u001b[38;5;34m12\u001b[0m)             │             \u001b[38;5;34m0\u001b[0m │\n",
              "├─────────────────────────────────┼────────────────────────┼───────────────┤\n",
              "│ embedding_7 (\u001b[38;5;33mEmbedding\u001b[0m)         │ (\u001b[38;5;45mNone\u001b[0m, \u001b[38;5;34m12\u001b[0m, \u001b[38;5;34m64\u001b[0m)         │        \u001b[38;5;34m44,032\u001b[0m │\n",
              "├─────────────────────────────────┼────────────────────────┼───────────────┤\n",
              "│ lstm_8 (\u001b[38;5;33mLSTM\u001b[0m)                   │ (\u001b[38;5;45mNone\u001b[0m, \u001b[38;5;34m12\u001b[0m, \u001b[38;5;34m96\u001b[0m)         │        \u001b[38;5;34m61,824\u001b[0m │\n",
              "├─────────────────────────────────┼────────────────────────┼───────────────┤\n",
              "│ lstm_9 (\u001b[38;5;33mLSTM\u001b[0m)                   │ (\u001b[38;5;45mNone\u001b[0m, \u001b[38;5;34m96\u001b[0m)             │        \u001b[38;5;34m74,112\u001b[0m │\n",
              "└─────────────────────────────────┴────────────────────────┴───────────────┘\n"
            ],
            "text/html": [
              "<pre style=\"white-space:pre;overflow-x:auto;line-height:normal;font-family:Menlo,'DejaVu Sans Mono',consolas,'Courier New',monospace\">┏━━━━━━━━━━━━━━━━━━━━━━━━━━━━━━━━━┳━━━━━━━━━━━━━━━━━━━━━━━━┳━━━━━━━━━━━━━━━┓\n",
              "┃<span style=\"font-weight: bold\"> Layer (type)                    </span>┃<span style=\"font-weight: bold\"> Output Shape           </span>┃<span style=\"font-weight: bold\">       Param # </span>┃\n",
              "┡━━━━━━━━━━━━━━━━━━━━━━━━━━━━━━━━━╇━━━━━━━━━━━━━━━━━━━━━━━━╇━━━━━━━━━━━━━━━┩\n",
              "│ input_layer_23 (<span style=\"color: #0087ff; text-decoration-color: #0087ff\">InputLayer</span>)     │ (<span style=\"color: #00d7ff; text-decoration-color: #00d7ff\">None</span>, <span style=\"color: #00af00; text-decoration-color: #00af00\">12</span>)             │             <span style=\"color: #00af00; text-decoration-color: #00af00\">0</span> │\n",
              "├─────────────────────────────────┼────────────────────────┼───────────────┤\n",
              "│ embedding_7 (<span style=\"color: #0087ff; text-decoration-color: #0087ff\">Embedding</span>)         │ (<span style=\"color: #00d7ff; text-decoration-color: #00d7ff\">None</span>, <span style=\"color: #00af00; text-decoration-color: #00af00\">12</span>, <span style=\"color: #00af00; text-decoration-color: #00af00\">64</span>)         │        <span style=\"color: #00af00; text-decoration-color: #00af00\">44,032</span> │\n",
              "├─────────────────────────────────┼────────────────────────┼───────────────┤\n",
              "│ lstm_8 (<span style=\"color: #0087ff; text-decoration-color: #0087ff\">LSTM</span>)                   │ (<span style=\"color: #00d7ff; text-decoration-color: #00d7ff\">None</span>, <span style=\"color: #00af00; text-decoration-color: #00af00\">12</span>, <span style=\"color: #00af00; text-decoration-color: #00af00\">96</span>)         │        <span style=\"color: #00af00; text-decoration-color: #00af00\">61,824</span> │\n",
              "├─────────────────────────────────┼────────────────────────┼───────────────┤\n",
              "│ lstm_9 (<span style=\"color: #0087ff; text-decoration-color: #0087ff\">LSTM</span>)                   │ (<span style=\"color: #00d7ff; text-decoration-color: #00d7ff\">None</span>, <span style=\"color: #00af00; text-decoration-color: #00af00\">96</span>)             │        <span style=\"color: #00af00; text-decoration-color: #00af00\">74,112</span> │\n",
              "└─────────────────────────────────┴────────────────────────┴───────────────┘\n",
              "</pre>\n"
            ]
          },
          "metadata": {}
        },
        {
          "output_type": "display_data",
          "data": {
            "text/plain": [
              "\u001b[1m Total params: \u001b[0m\u001b[38;5;34m179,968\u001b[0m (703.00 KB)\n"
            ],
            "text/html": [
              "<pre style=\"white-space:pre;overflow-x:auto;line-height:normal;font-family:Menlo,'DejaVu Sans Mono',consolas,'Courier New',monospace\"><span style=\"font-weight: bold\"> Total params: </span><span style=\"color: #00af00; text-decoration-color: #00af00\">179,968</span> (703.00 KB)\n",
              "</pre>\n"
            ]
          },
          "metadata": {}
        },
        {
          "output_type": "display_data",
          "data": {
            "text/plain": [
              "\u001b[1m Trainable params: \u001b[0m\u001b[38;5;34m179,968\u001b[0m (703.00 KB)\n"
            ],
            "text/html": [
              "<pre style=\"white-space:pre;overflow-x:auto;line-height:normal;font-family:Menlo,'DejaVu Sans Mono',consolas,'Courier New',monospace\"><span style=\"font-weight: bold\"> Trainable params: </span><span style=\"color: #00af00; text-decoration-color: #00af00\">179,968</span> (703.00 KB)\n",
              "</pre>\n"
            ]
          },
          "metadata": {}
        },
        {
          "output_type": "display_data",
          "data": {
            "text/plain": [
              "\u001b[1m Non-trainable params: \u001b[0m\u001b[38;5;34m0\u001b[0m (0.00 B)\n"
            ],
            "text/html": [
              "<pre style=\"white-space:pre;overflow-x:auto;line-height:normal;font-family:Menlo,'DejaVu Sans Mono',consolas,'Courier New',monospace\"><span style=\"font-weight: bold\"> Non-trainable params: </span><span style=\"color: #00af00; text-decoration-color: #00af00\">0</span> (0.00 B)\n",
              "</pre>\n"
            ]
          },
          "metadata": {}
        },
        {
          "output_type": "stream",
          "name": "stdout",
          "text": [
            "Model lstm_deep_v1 weights loaded from cache\n",
            "Model lstm_deep_v1 history loaded from cache\n"
          ]
        },
        {
          "output_type": "stream",
          "name": "stderr",
          "text": [
            "/usr/local/lib/python3.12/dist-packages/keras/src/saving/saving_lib.py:802: UserWarning: Skipping variable loading for optimizer 'adam', because it has 2 variables whereas the saved optimizer has 16 variables. \n",
            "  saveable.load_own_variables(weights_store.get(inner_path))\n"
          ]
        }
      ]
    },
    {
      "cell_type": "code",
      "source": [
        "def build_model_3():\n",
        "    global models_list\n",
        "    NAME = \"lstm_shallow_attention_v1\"\n",
        "\n",
        "    #--- Feature Extractor ---\n",
        "    feature_extractor_input = Input(shape=(SENTENCE_MAX_WORDS_LEN,))\n",
        "\n",
        "    x = get_embedding_layer()(feature_extractor_input)\n",
        "\n",
        "    x = MultiHeadAttention(num_heads=4, key_dim=64)(x, x, x)\n",
        "\n",
        "    x = LSTM(64, return_sequences=False)(x)\n",
        "\n",
        "    feature_extractor = Model(feature_extractor_input, x, name=NAME + \"_feature_extractor\")\n",
        "    feature_extractor.summary()\n",
        "\n",
        "    #--- Train System ---\n",
        "    train_model_input_1 = Input(shape=(SENTENCE_MAX_WORDS_LEN,))\n",
        "    train_model_input_2 = Input(shape=(SENTENCE_MAX_WORDS_LEN,))\n",
        "\n",
        "    encoded_1 = feature_extractor(train_model_input_1)\n",
        "    encoded_2 = feature_extractor(train_model_input_2)\n",
        "\n",
        "    merged = Lambda(lambda x: K.stack(x, axis=1))([encoded_1, encoded_2])\n",
        "\n",
        "    train_model = Model([train_model_input_1, train_model_input_2], merged, name=NAME + \"_train_model\")\n",
        "\n",
        "    train_model.compile(optimizer='adam', loss=contrastive_loss(margin=1.0))\n",
        "\n",
        "    custom_model =  CustomModel(NAME, train_model, feature_extractor, 'Siamese_Loss (Margin=1.0)', siamese_data_gen, metric='euclidean')\n",
        "\n",
        "    models_list.append(custom_model)\n",
        "\n",
        "build_model_3()"
      ],
      "metadata": {
        "colab": {
          "base_uri": "https://localhost:8080/",
          "height": 410
        },
        "id": "v-7eylg5hRri",
        "outputId": "026f4dba-61b8-46ec-dbd6-a08d76f154ca"
      },
      "id": "v-7eylg5hRri",
      "execution_count": 161,
      "outputs": [
        {
          "output_type": "display_data",
          "data": {
            "text/plain": [
              "\u001b[1mModel: \"lstm_shallow_attention_v1_feature_extractor\"\u001b[0m\n"
            ],
            "text/html": [
              "<pre style=\"white-space:pre;overflow-x:auto;line-height:normal;font-family:Menlo,'DejaVu Sans Mono',consolas,'Courier New',monospace\"><span style=\"font-weight: bold\">Model: \"lstm_shallow_attention_v1_feature_extractor\"</span>\n",
              "</pre>\n"
            ]
          },
          "metadata": {}
        },
        {
          "output_type": "display_data",
          "data": {
            "text/plain": [
              "┏━━━━━━━━━━━━━━━━━━━━━┳━━━━━━━━━━━━━━━━━━━┳━━━━━━━━━━━━┳━━━━━━━━━━━━━━━━━━━┓\n",
              "┃\u001b[1m \u001b[0m\u001b[1mLayer (type)       \u001b[0m\u001b[1m \u001b[0m┃\u001b[1m \u001b[0m\u001b[1mOutput Shape     \u001b[0m\u001b[1m \u001b[0m┃\u001b[1m \u001b[0m\u001b[1m   Param #\u001b[0m\u001b[1m \u001b[0m┃\u001b[1m \u001b[0m\u001b[1mConnected to     \u001b[0m\u001b[1m \u001b[0m┃\n",
              "┡━━━━━━━━━━━━━━━━━━━━━╇━━━━━━━━━━━━━━━━━━━╇━━━━━━━━━━━━╇━━━━━━━━━━━━━━━━━━━┩\n",
              "│ input_layer_26      │ (\u001b[38;5;45mNone\u001b[0m, \u001b[38;5;34m12\u001b[0m)        │          \u001b[38;5;34m0\u001b[0m │ -                 │\n",
              "│ (\u001b[38;5;33mInputLayer\u001b[0m)        │                   │            │                   │\n",
              "├─────────────────────┼───────────────────┼────────────┼───────────────────┤\n",
              "│ embedding_8         │ (\u001b[38;5;45mNone\u001b[0m, \u001b[38;5;34m12\u001b[0m, \u001b[38;5;34m64\u001b[0m)    │     \u001b[38;5;34m44,032\u001b[0m │ input_layer_26[\u001b[38;5;34m0\u001b[0m… │\n",
              "│ (\u001b[38;5;33mEmbedding\u001b[0m)         │                   │            │                   │\n",
              "├─────────────────────┼───────────────────┼────────────┼───────────────────┤\n",
              "│ multi_head_attenti… │ (\u001b[38;5;45mNone\u001b[0m, \u001b[38;5;34m12\u001b[0m, \u001b[38;5;34m64\u001b[0m)    │     \u001b[38;5;34m66,368\u001b[0m │ embedding_8[\u001b[38;5;34m0\u001b[0m][\u001b[38;5;34m0\u001b[0m… │\n",
              "│ (\u001b[38;5;33mMultiHeadAttentio…\u001b[0m │                   │            │ embedding_8[\u001b[38;5;34m0\u001b[0m][\u001b[38;5;34m0\u001b[0m… │\n",
              "│                     │                   │            │ embedding_8[\u001b[38;5;34m0\u001b[0m][\u001b[38;5;34m0\u001b[0m] │\n",
              "├─────────────────────┼───────────────────┼────────────┼───────────────────┤\n",
              "│ lstm_10 (\u001b[38;5;33mLSTM\u001b[0m)      │ (\u001b[38;5;45mNone\u001b[0m, \u001b[38;5;34m64\u001b[0m)        │     \u001b[38;5;34m33,024\u001b[0m │ multi_head_atten… │\n",
              "└─────────────────────┴───────────────────┴────────────┴───────────────────┘\n"
            ],
            "text/html": [
              "<pre style=\"white-space:pre;overflow-x:auto;line-height:normal;font-family:Menlo,'DejaVu Sans Mono',consolas,'Courier New',monospace\">┏━━━━━━━━━━━━━━━━━━━━━┳━━━━━━━━━━━━━━━━━━━┳━━━━━━━━━━━━┳━━━━━━━━━━━━━━━━━━━┓\n",
              "┃<span style=\"font-weight: bold\"> Layer (type)        </span>┃<span style=\"font-weight: bold\"> Output Shape      </span>┃<span style=\"font-weight: bold\">    Param # </span>┃<span style=\"font-weight: bold\"> Connected to      </span>┃\n",
              "┡━━━━━━━━━━━━━━━━━━━━━╇━━━━━━━━━━━━━━━━━━━╇━━━━━━━━━━━━╇━━━━━━━━━━━━━━━━━━━┩\n",
              "│ input_layer_26      │ (<span style=\"color: #00d7ff; text-decoration-color: #00d7ff\">None</span>, <span style=\"color: #00af00; text-decoration-color: #00af00\">12</span>)        │          <span style=\"color: #00af00; text-decoration-color: #00af00\">0</span> │ -                 │\n",
              "│ (<span style=\"color: #0087ff; text-decoration-color: #0087ff\">InputLayer</span>)        │                   │            │                   │\n",
              "├─────────────────────┼───────────────────┼────────────┼───────────────────┤\n",
              "│ embedding_8         │ (<span style=\"color: #00d7ff; text-decoration-color: #00d7ff\">None</span>, <span style=\"color: #00af00; text-decoration-color: #00af00\">12</span>, <span style=\"color: #00af00; text-decoration-color: #00af00\">64</span>)    │     <span style=\"color: #00af00; text-decoration-color: #00af00\">44,032</span> │ input_layer_26[<span style=\"color: #00af00; text-decoration-color: #00af00\">0</span>… │\n",
              "│ (<span style=\"color: #0087ff; text-decoration-color: #0087ff\">Embedding</span>)         │                   │            │                   │\n",
              "├─────────────────────┼───────────────────┼────────────┼───────────────────┤\n",
              "│ multi_head_attenti… │ (<span style=\"color: #00d7ff; text-decoration-color: #00d7ff\">None</span>, <span style=\"color: #00af00; text-decoration-color: #00af00\">12</span>, <span style=\"color: #00af00; text-decoration-color: #00af00\">64</span>)    │     <span style=\"color: #00af00; text-decoration-color: #00af00\">66,368</span> │ embedding_8[<span style=\"color: #00af00; text-decoration-color: #00af00\">0</span>][<span style=\"color: #00af00; text-decoration-color: #00af00\">0</span>… │\n",
              "│ (<span style=\"color: #0087ff; text-decoration-color: #0087ff\">MultiHeadAttentio…</span> │                   │            │ embedding_8[<span style=\"color: #00af00; text-decoration-color: #00af00\">0</span>][<span style=\"color: #00af00; text-decoration-color: #00af00\">0</span>… │\n",
              "│                     │                   │            │ embedding_8[<span style=\"color: #00af00; text-decoration-color: #00af00\">0</span>][<span style=\"color: #00af00; text-decoration-color: #00af00\">0</span>] │\n",
              "├─────────────────────┼───────────────────┼────────────┼───────────────────┤\n",
              "│ lstm_10 (<span style=\"color: #0087ff; text-decoration-color: #0087ff\">LSTM</span>)      │ (<span style=\"color: #00d7ff; text-decoration-color: #00d7ff\">None</span>, <span style=\"color: #00af00; text-decoration-color: #00af00\">64</span>)        │     <span style=\"color: #00af00; text-decoration-color: #00af00\">33,024</span> │ multi_head_atten… │\n",
              "└─────────────────────┴───────────────────┴────────────┴───────────────────┘\n",
              "</pre>\n"
            ]
          },
          "metadata": {}
        },
        {
          "output_type": "display_data",
          "data": {
            "text/plain": [
              "\u001b[1m Total params: \u001b[0m\u001b[38;5;34m143,424\u001b[0m (560.25 KB)\n"
            ],
            "text/html": [
              "<pre style=\"white-space:pre;overflow-x:auto;line-height:normal;font-family:Menlo,'DejaVu Sans Mono',consolas,'Courier New',monospace\"><span style=\"font-weight: bold\"> Total params: </span><span style=\"color: #00af00; text-decoration-color: #00af00\">143,424</span> (560.25 KB)\n",
              "</pre>\n"
            ]
          },
          "metadata": {}
        },
        {
          "output_type": "display_data",
          "data": {
            "text/plain": [
              "\u001b[1m Trainable params: \u001b[0m\u001b[38;5;34m143,424\u001b[0m (560.25 KB)\n"
            ],
            "text/html": [
              "<pre style=\"white-space:pre;overflow-x:auto;line-height:normal;font-family:Menlo,'DejaVu Sans Mono',consolas,'Courier New',monospace\"><span style=\"font-weight: bold\"> Trainable params: </span><span style=\"color: #00af00; text-decoration-color: #00af00\">143,424</span> (560.25 KB)\n",
              "</pre>\n"
            ]
          },
          "metadata": {}
        },
        {
          "output_type": "display_data",
          "data": {
            "text/plain": [
              "\u001b[1m Non-trainable params: \u001b[0m\u001b[38;5;34m0\u001b[0m (0.00 B)\n"
            ],
            "text/html": [
              "<pre style=\"white-space:pre;overflow-x:auto;line-height:normal;font-family:Menlo,'DejaVu Sans Mono',consolas,'Courier New',monospace\"><span style=\"font-weight: bold\"> Non-trainable params: </span><span style=\"color: #00af00; text-decoration-color: #00af00\">0</span> (0.00 B)\n",
              "</pre>\n"
            ]
          },
          "metadata": {}
        },
        {
          "output_type": "stream",
          "name": "stdout",
          "text": [
            "Model lstm_shallow_attention_v1 weights loaded from cache\n",
            "Model lstm_shallow_attention_v1 history loaded from cache\n"
          ]
        },
        {
          "output_type": "stream",
          "name": "stderr",
          "text": [
            "/usr/local/lib/python3.12/dist-packages/keras/src/saving/saving_lib.py:802: UserWarning: Skipping variable loading for optimizer 'adam', because it has 2 variables whereas the saved optimizer has 26 variables. \n",
            "  saveable.load_own_variables(weights_store.get(inner_path))\n"
          ]
        }
      ]
    },
    {
      "cell_type": "code",
      "source": [
        "def build_model_4():\n",
        "    global models_list\n",
        "    NAME = \"lstm_deep_attention_v1\"\n",
        "\n",
        "    #--- Feature Extractor ---\n",
        "    feature_extractor_input = Input(shape=(SENTENCE_MAX_WORDS_LEN,))\n",
        "\n",
        "    x = get_embedding_layer()(feature_extractor_input)\n",
        "\n",
        "    x = LSTM(64, return_sequences=True)(x)\n",
        "\n",
        "    x = MultiHeadAttention(num_heads=4, key_dim=64)(x, x, x)\n",
        "\n",
        "    x = Flatten()(x)\n",
        "\n",
        "    x = Dense(512, activation=None)(x)\n",
        "\n",
        "    feature_extractor = Model(feature_extractor_input, x, name=NAME + \"_feature_extractor\")\n",
        "    feature_extractor.summary()\n",
        "\n",
        "    #--- Train System ---\n",
        "    train_model_input_1 = Input(shape=(SENTENCE_MAX_WORDS_LEN,))\n",
        "    train_model_input_2 = Input(shape=(SENTENCE_MAX_WORDS_LEN,))\n",
        "\n",
        "    encoded_1 = feature_extractor(train_model_input_1)\n",
        "    encoded_2 = feature_extractor(train_model_input_2)\n",
        "\n",
        "    merged = Lambda(lambda x: K.stack(x, axis=1))([encoded_1, encoded_2])\n",
        "\n",
        "    train_model = Model([train_model_input_1, train_model_input_2], merged, name=NAME + \"_train_model\")\n",
        "\n",
        "    train_model.compile(optimizer='adam', loss=contrastive_loss(margin=1.0))\n",
        "\n",
        "    custom_model =  CustomModel(NAME, train_model, feature_extractor, 'Siamese_Loss (Margin=1.0)', siamese_data_gen, metric='euclidean')\n",
        "\n",
        "    models_list.append(custom_model)\n",
        "\n",
        "build_model_4()"
      ],
      "metadata": {
        "colab": {
          "base_uri": "https://localhost:8080/",
          "height": 474
        },
        "id": "RKi4tcS15efT",
        "outputId": "87ab1436-66f6-4a5f-df4d-101abfca080b"
      },
      "id": "RKi4tcS15efT",
      "execution_count": 162,
      "outputs": [
        {
          "output_type": "display_data",
          "data": {
            "text/plain": [
              "\u001b[1mModel: \"lstm_deep_attention_v1_feature_extractor\"\u001b[0m\n"
            ],
            "text/html": [
              "<pre style=\"white-space:pre;overflow-x:auto;line-height:normal;font-family:Menlo,'DejaVu Sans Mono',consolas,'Courier New',monospace\"><span style=\"font-weight: bold\">Model: \"lstm_deep_attention_v1_feature_extractor\"</span>\n",
              "</pre>\n"
            ]
          },
          "metadata": {}
        },
        {
          "output_type": "display_data",
          "data": {
            "text/plain": [
              "┏━━━━━━━━━━━━━━━━━━━━━┳━━━━━━━━━━━━━━━━━━━┳━━━━━━━━━━━━┳━━━━━━━━━━━━━━━━━━━┓\n",
              "┃\u001b[1m \u001b[0m\u001b[1mLayer (type)       \u001b[0m\u001b[1m \u001b[0m┃\u001b[1m \u001b[0m\u001b[1mOutput Shape     \u001b[0m\u001b[1m \u001b[0m┃\u001b[1m \u001b[0m\u001b[1m   Param #\u001b[0m\u001b[1m \u001b[0m┃\u001b[1m \u001b[0m\u001b[1mConnected to     \u001b[0m\u001b[1m \u001b[0m┃\n",
              "┡━━━━━━━━━━━━━━━━━━━━━╇━━━━━━━━━━━━━━━━━━━╇━━━━━━━━━━━━╇━━━━━━━━━━━━━━━━━━━┩\n",
              "│ input_layer_29      │ (\u001b[38;5;45mNone\u001b[0m, \u001b[38;5;34m12\u001b[0m)        │          \u001b[38;5;34m0\u001b[0m │ -                 │\n",
              "│ (\u001b[38;5;33mInputLayer\u001b[0m)        │                   │            │                   │\n",
              "├─────────────────────┼───────────────────┼────────────┼───────────────────┤\n",
              "│ embedding_9         │ (\u001b[38;5;45mNone\u001b[0m, \u001b[38;5;34m12\u001b[0m, \u001b[38;5;34m64\u001b[0m)    │     \u001b[38;5;34m44,032\u001b[0m │ input_layer_29[\u001b[38;5;34m0\u001b[0m… │\n",
              "│ (\u001b[38;5;33mEmbedding\u001b[0m)         │                   │            │                   │\n",
              "├─────────────────────┼───────────────────┼────────────┼───────────────────┤\n",
              "│ lstm_11 (\u001b[38;5;33mLSTM\u001b[0m)      │ (\u001b[38;5;45mNone\u001b[0m, \u001b[38;5;34m12\u001b[0m, \u001b[38;5;34m64\u001b[0m)    │     \u001b[38;5;34m33,024\u001b[0m │ embedding_9[\u001b[38;5;34m0\u001b[0m][\u001b[38;5;34m0\u001b[0m] │\n",
              "├─────────────────────┼───────────────────┼────────────┼───────────────────┤\n",
              "│ multi_head_attenti… │ (\u001b[38;5;45mNone\u001b[0m, \u001b[38;5;34m12\u001b[0m, \u001b[38;5;34m64\u001b[0m)    │     \u001b[38;5;34m66,368\u001b[0m │ lstm_11[\u001b[38;5;34m0\u001b[0m][\u001b[38;5;34m0\u001b[0m],    │\n",
              "│ (\u001b[38;5;33mMultiHeadAttentio…\u001b[0m │                   │            │ lstm_11[\u001b[38;5;34m0\u001b[0m][\u001b[38;5;34m0\u001b[0m],    │\n",
              "│                     │                   │            │ lstm_11[\u001b[38;5;34m0\u001b[0m][\u001b[38;5;34m0\u001b[0m]     │\n",
              "├─────────────────────┼───────────────────┼────────────┼───────────────────┤\n",
              "│ flatten_1 (\u001b[38;5;33mFlatten\u001b[0m) │ (\u001b[38;5;45mNone\u001b[0m, \u001b[38;5;34m768\u001b[0m)       │          \u001b[38;5;34m0\u001b[0m │ multi_head_atten… │\n",
              "├─────────────────────┼───────────────────┼────────────┼───────────────────┤\n",
              "│ dense_1 (\u001b[38;5;33mDense\u001b[0m)     │ (\u001b[38;5;45mNone\u001b[0m, \u001b[38;5;34m512\u001b[0m)       │    \u001b[38;5;34m393,728\u001b[0m │ flatten_1[\u001b[38;5;34m0\u001b[0m][\u001b[38;5;34m0\u001b[0m]   │\n",
              "└─────────────────────┴───────────────────┴────────────┴───────────────────┘\n"
            ],
            "text/html": [
              "<pre style=\"white-space:pre;overflow-x:auto;line-height:normal;font-family:Menlo,'DejaVu Sans Mono',consolas,'Courier New',monospace\">┏━━━━━━━━━━━━━━━━━━━━━┳━━━━━━━━━━━━━━━━━━━┳━━━━━━━━━━━━┳━━━━━━━━━━━━━━━━━━━┓\n",
              "┃<span style=\"font-weight: bold\"> Layer (type)        </span>┃<span style=\"font-weight: bold\"> Output Shape      </span>┃<span style=\"font-weight: bold\">    Param # </span>┃<span style=\"font-weight: bold\"> Connected to      </span>┃\n",
              "┡━━━━━━━━━━━━━━━━━━━━━╇━━━━━━━━━━━━━━━━━━━╇━━━━━━━━━━━━╇━━━━━━━━━━━━━━━━━━━┩\n",
              "│ input_layer_29      │ (<span style=\"color: #00d7ff; text-decoration-color: #00d7ff\">None</span>, <span style=\"color: #00af00; text-decoration-color: #00af00\">12</span>)        │          <span style=\"color: #00af00; text-decoration-color: #00af00\">0</span> │ -                 │\n",
              "│ (<span style=\"color: #0087ff; text-decoration-color: #0087ff\">InputLayer</span>)        │                   │            │                   │\n",
              "├─────────────────────┼───────────────────┼────────────┼───────────────────┤\n",
              "│ embedding_9         │ (<span style=\"color: #00d7ff; text-decoration-color: #00d7ff\">None</span>, <span style=\"color: #00af00; text-decoration-color: #00af00\">12</span>, <span style=\"color: #00af00; text-decoration-color: #00af00\">64</span>)    │     <span style=\"color: #00af00; text-decoration-color: #00af00\">44,032</span> │ input_layer_29[<span style=\"color: #00af00; text-decoration-color: #00af00\">0</span>… │\n",
              "│ (<span style=\"color: #0087ff; text-decoration-color: #0087ff\">Embedding</span>)         │                   │            │                   │\n",
              "├─────────────────────┼───────────────────┼────────────┼───────────────────┤\n",
              "│ lstm_11 (<span style=\"color: #0087ff; text-decoration-color: #0087ff\">LSTM</span>)      │ (<span style=\"color: #00d7ff; text-decoration-color: #00d7ff\">None</span>, <span style=\"color: #00af00; text-decoration-color: #00af00\">12</span>, <span style=\"color: #00af00; text-decoration-color: #00af00\">64</span>)    │     <span style=\"color: #00af00; text-decoration-color: #00af00\">33,024</span> │ embedding_9[<span style=\"color: #00af00; text-decoration-color: #00af00\">0</span>][<span style=\"color: #00af00; text-decoration-color: #00af00\">0</span>] │\n",
              "├─────────────────────┼───────────────────┼────────────┼───────────────────┤\n",
              "│ multi_head_attenti… │ (<span style=\"color: #00d7ff; text-decoration-color: #00d7ff\">None</span>, <span style=\"color: #00af00; text-decoration-color: #00af00\">12</span>, <span style=\"color: #00af00; text-decoration-color: #00af00\">64</span>)    │     <span style=\"color: #00af00; text-decoration-color: #00af00\">66,368</span> │ lstm_11[<span style=\"color: #00af00; text-decoration-color: #00af00\">0</span>][<span style=\"color: #00af00; text-decoration-color: #00af00\">0</span>],    │\n",
              "│ (<span style=\"color: #0087ff; text-decoration-color: #0087ff\">MultiHeadAttentio…</span> │                   │            │ lstm_11[<span style=\"color: #00af00; text-decoration-color: #00af00\">0</span>][<span style=\"color: #00af00; text-decoration-color: #00af00\">0</span>],    │\n",
              "│                     │                   │            │ lstm_11[<span style=\"color: #00af00; text-decoration-color: #00af00\">0</span>][<span style=\"color: #00af00; text-decoration-color: #00af00\">0</span>]     │\n",
              "├─────────────────────┼───────────────────┼────────────┼───────────────────┤\n",
              "│ flatten_1 (<span style=\"color: #0087ff; text-decoration-color: #0087ff\">Flatten</span>) │ (<span style=\"color: #00d7ff; text-decoration-color: #00d7ff\">None</span>, <span style=\"color: #00af00; text-decoration-color: #00af00\">768</span>)       │          <span style=\"color: #00af00; text-decoration-color: #00af00\">0</span> │ multi_head_atten… │\n",
              "├─────────────────────┼───────────────────┼────────────┼───────────────────┤\n",
              "│ dense_1 (<span style=\"color: #0087ff; text-decoration-color: #0087ff\">Dense</span>)     │ (<span style=\"color: #00d7ff; text-decoration-color: #00d7ff\">None</span>, <span style=\"color: #00af00; text-decoration-color: #00af00\">512</span>)       │    <span style=\"color: #00af00; text-decoration-color: #00af00\">393,728</span> │ flatten_1[<span style=\"color: #00af00; text-decoration-color: #00af00\">0</span>][<span style=\"color: #00af00; text-decoration-color: #00af00\">0</span>]   │\n",
              "└─────────────────────┴───────────────────┴────────────┴───────────────────┘\n",
              "</pre>\n"
            ]
          },
          "metadata": {}
        },
        {
          "output_type": "display_data",
          "data": {
            "text/plain": [
              "\u001b[1m Total params: \u001b[0m\u001b[38;5;34m537,152\u001b[0m (2.05 MB)\n"
            ],
            "text/html": [
              "<pre style=\"white-space:pre;overflow-x:auto;line-height:normal;font-family:Menlo,'DejaVu Sans Mono',consolas,'Courier New',monospace\"><span style=\"font-weight: bold\"> Total params: </span><span style=\"color: #00af00; text-decoration-color: #00af00\">537,152</span> (2.05 MB)\n",
              "</pre>\n"
            ]
          },
          "metadata": {}
        },
        {
          "output_type": "display_data",
          "data": {
            "text/plain": [
              "\u001b[1m Trainable params: \u001b[0m\u001b[38;5;34m537,152\u001b[0m (2.05 MB)\n"
            ],
            "text/html": [
              "<pre style=\"white-space:pre;overflow-x:auto;line-height:normal;font-family:Menlo,'DejaVu Sans Mono',consolas,'Courier New',monospace\"><span style=\"font-weight: bold\"> Trainable params: </span><span style=\"color: #00af00; text-decoration-color: #00af00\">537,152</span> (2.05 MB)\n",
              "</pre>\n"
            ]
          },
          "metadata": {}
        },
        {
          "output_type": "display_data",
          "data": {
            "text/plain": [
              "\u001b[1m Non-trainable params: \u001b[0m\u001b[38;5;34m0\u001b[0m (0.00 B)\n"
            ],
            "text/html": [
              "<pre style=\"white-space:pre;overflow-x:auto;line-height:normal;font-family:Menlo,'DejaVu Sans Mono',consolas,'Courier New',monospace\"><span style=\"font-weight: bold\"> Non-trainable params: </span><span style=\"color: #00af00; text-decoration-color: #00af00\">0</span> (0.00 B)\n",
              "</pre>\n"
            ]
          },
          "metadata": {}
        },
        {
          "output_type": "stream",
          "name": "stderr",
          "text": [
            "/usr/local/lib/python3.12/dist-packages/keras/src/saving/saving_lib.py:802: UserWarning: Skipping variable loading for optimizer 'adam', because it has 2 variables whereas the saved optimizer has 30 variables. \n",
            "  saveable.load_own_variables(weights_store.get(inner_path))\n"
          ]
        },
        {
          "output_type": "stream",
          "name": "stdout",
          "text": [
            "Model lstm_deep_attention_v1 weights loaded from cache\n",
            "Model lstm_deep_attention_v1 history loaded from cache\n"
          ]
        }
      ]
    },
    {
      "cell_type": "code",
      "source": [
        "def build_model_5():\n",
        "    global models_list\n",
        "    NAME = \"lstm_shallow_attention_v2\"\n",
        "\n",
        "    #--- Feature Extractor ---\n",
        "    feature_extractor_input = Input(shape=(SENTENCE_MAX_WORDS_LEN,))\n",
        "\n",
        "    x = get_embedding_layer()(feature_extractor_input)\n",
        "\n",
        "    x = Activation('elu')(x)\n",
        "\n",
        "    x = MultiHeadAttention(num_heads=4, key_dim=64)(x, x, x)\n",
        "\n",
        "    x = LSTM(64, return_sequences=False)(x)\n",
        "\n",
        "    feature_extractor = Model(feature_extractor_input, x, name=NAME + \"_feature_extractor\")\n",
        "    feature_extractor.summary()\n",
        "\n",
        "    #--- Train System ---\n",
        "    train_model_input_1 = Input(shape=(SENTENCE_MAX_WORDS_LEN,))\n",
        "    train_model_input_2 = Input(shape=(SENTENCE_MAX_WORDS_LEN,))\n",
        "    train_model_input_3 = Input(shape=(SENTENCE_MAX_WORDS_LEN,))\n",
        "\n",
        "    encoded_1 = feature_extractor(train_model_input_1)\n",
        "    encoded_2 = feature_extractor(train_model_input_2)\n",
        "    encoded_3 = feature_extractor(train_model_input_3)\n",
        "\n",
        "    merged = Lambda(lambda x: K.stack(x, axis=1))([encoded_1, encoded_2, encoded_3])\n",
        "\n",
        "    train_model = Model([train_model_input_1, train_model_input_2, train_model_input_3], merged, name=NAME + \"_train_model\")\n",
        "\n",
        "    train_model.compile(optimizer='adam', loss=triplet_loss(margin=1.0))\n",
        "\n",
        "    custom_model =  CustomModel(NAME, train_model, feature_extractor, 'Triplet_Loss (Margin=1.0)', triplet_data_gen, metric='euclidean')\n",
        "\n",
        "    models_list.append(custom_model)\n",
        "\n",
        "build_model_5()"
      ],
      "metadata": {
        "colab": {
          "base_uri": "https://localhost:8080/",
          "height": 404
        },
        "id": "v3i3LWT28Svh",
        "outputId": "8ece828c-b4ff-4ad9-8f0a-27e58372dca4"
      },
      "id": "v3i3LWT28Svh",
      "execution_count": 163,
      "outputs": [
        {
          "output_type": "display_data",
          "data": {
            "text/plain": [
              "\u001b[1mModel: \"lstm_shallow_attention_v2_feature_extractor\"\u001b[0m\n"
            ],
            "text/html": [
              "<pre style=\"white-space:pre;overflow-x:auto;line-height:normal;font-family:Menlo,'DejaVu Sans Mono',consolas,'Courier New',monospace\"><span style=\"font-weight: bold\">Model: \"lstm_shallow_attention_v2_feature_extractor\"</span>\n",
              "</pre>\n"
            ]
          },
          "metadata": {}
        },
        {
          "output_type": "display_data",
          "data": {
            "text/plain": [
              "┏━━━━━━━━━━━━━━━━━━━━━┳━━━━━━━━━━━━━━━━━━━┳━━━━━━━━━━━━┳━━━━━━━━━━━━━━━━━━━┓\n",
              "┃\u001b[1m \u001b[0m\u001b[1mLayer (type)       \u001b[0m\u001b[1m \u001b[0m┃\u001b[1m \u001b[0m\u001b[1mOutput Shape     \u001b[0m\u001b[1m \u001b[0m┃\u001b[1m \u001b[0m\u001b[1m   Param #\u001b[0m\u001b[1m \u001b[0m┃\u001b[1m \u001b[0m\u001b[1mConnected to     \u001b[0m\u001b[1m \u001b[0m┃\n",
              "┡━━━━━━━━━━━━━━━━━━━━━╇━━━━━━━━━━━━━━━━━━━╇━━━━━━━━━━━━╇━━━━━━━━━━━━━━━━━━━┩\n",
              "│ input_layer_32      │ (\u001b[38;5;45mNone\u001b[0m, \u001b[38;5;34m12\u001b[0m)        │          \u001b[38;5;34m0\u001b[0m │ -                 │\n",
              "│ (\u001b[38;5;33mInputLayer\u001b[0m)        │                   │            │                   │\n",
              "├─────────────────────┼───────────────────┼────────────┼───────────────────┤\n",
              "│ embedding_10        │ (\u001b[38;5;45mNone\u001b[0m, \u001b[38;5;34m12\u001b[0m, \u001b[38;5;34m64\u001b[0m)    │     \u001b[38;5;34m44,032\u001b[0m │ input_layer_32[\u001b[38;5;34m0\u001b[0m… │\n",
              "│ (\u001b[38;5;33mEmbedding\u001b[0m)         │                   │            │                   │\n",
              "├─────────────────────┼───────────────────┼────────────┼───────────────────┤\n",
              "│ activation_2        │ (\u001b[38;5;45mNone\u001b[0m, \u001b[38;5;34m12\u001b[0m, \u001b[38;5;34m64\u001b[0m)    │          \u001b[38;5;34m0\u001b[0m │ embedding_10[\u001b[38;5;34m0\u001b[0m][\u001b[38;5;34m…\u001b[0m │\n",
              "│ (\u001b[38;5;33mActivation\u001b[0m)        │                   │            │                   │\n",
              "├─────────────────────┼───────────────────┼────────────┼───────────────────┤\n",
              "│ multi_head_attenti… │ (\u001b[38;5;45mNone\u001b[0m, \u001b[38;5;34m12\u001b[0m, \u001b[38;5;34m64\u001b[0m)    │     \u001b[38;5;34m66,368\u001b[0m │ activation_2[\u001b[38;5;34m0\u001b[0m][\u001b[38;5;34m…\u001b[0m │\n",
              "│ (\u001b[38;5;33mMultiHeadAttentio…\u001b[0m │                   │            │ activation_2[\u001b[38;5;34m0\u001b[0m][\u001b[38;5;34m…\u001b[0m │\n",
              "│                     │                   │            │ activation_2[\u001b[38;5;34m0\u001b[0m][\u001b[38;5;34m…\u001b[0m │\n",
              "├─────────────────────┼───────────────────┼────────────┼───────────────────┤\n",
              "│ lstm_12 (\u001b[38;5;33mLSTM\u001b[0m)      │ (\u001b[38;5;45mNone\u001b[0m, \u001b[38;5;34m64\u001b[0m)        │     \u001b[38;5;34m33,024\u001b[0m │ multi_head_atten… │\n",
              "└─────────────────────┴───────────────────┴────────────┴───────────────────┘\n"
            ],
            "text/html": [
              "<pre style=\"white-space:pre;overflow-x:auto;line-height:normal;font-family:Menlo,'DejaVu Sans Mono',consolas,'Courier New',monospace\">┏━━━━━━━━━━━━━━━━━━━━━┳━━━━━━━━━━━━━━━━━━━┳━━━━━━━━━━━━┳━━━━━━━━━━━━━━━━━━━┓\n",
              "┃<span style=\"font-weight: bold\"> Layer (type)        </span>┃<span style=\"font-weight: bold\"> Output Shape      </span>┃<span style=\"font-weight: bold\">    Param # </span>┃<span style=\"font-weight: bold\"> Connected to      </span>┃\n",
              "┡━━━━━━━━━━━━━━━━━━━━━╇━━━━━━━━━━━━━━━━━━━╇━━━━━━━━━━━━╇━━━━━━━━━━━━━━━━━━━┩\n",
              "│ input_layer_32      │ (<span style=\"color: #00d7ff; text-decoration-color: #00d7ff\">None</span>, <span style=\"color: #00af00; text-decoration-color: #00af00\">12</span>)        │          <span style=\"color: #00af00; text-decoration-color: #00af00\">0</span> │ -                 │\n",
              "│ (<span style=\"color: #0087ff; text-decoration-color: #0087ff\">InputLayer</span>)        │                   │            │                   │\n",
              "├─────────────────────┼───────────────────┼────────────┼───────────────────┤\n",
              "│ embedding_10        │ (<span style=\"color: #00d7ff; text-decoration-color: #00d7ff\">None</span>, <span style=\"color: #00af00; text-decoration-color: #00af00\">12</span>, <span style=\"color: #00af00; text-decoration-color: #00af00\">64</span>)    │     <span style=\"color: #00af00; text-decoration-color: #00af00\">44,032</span> │ input_layer_32[<span style=\"color: #00af00; text-decoration-color: #00af00\">0</span>… │\n",
              "│ (<span style=\"color: #0087ff; text-decoration-color: #0087ff\">Embedding</span>)         │                   │            │                   │\n",
              "├─────────────────────┼───────────────────┼────────────┼───────────────────┤\n",
              "│ activation_2        │ (<span style=\"color: #00d7ff; text-decoration-color: #00d7ff\">None</span>, <span style=\"color: #00af00; text-decoration-color: #00af00\">12</span>, <span style=\"color: #00af00; text-decoration-color: #00af00\">64</span>)    │          <span style=\"color: #00af00; text-decoration-color: #00af00\">0</span> │ embedding_10[<span style=\"color: #00af00; text-decoration-color: #00af00\">0</span>][<span style=\"color: #00af00; text-decoration-color: #00af00\">…</span> │\n",
              "│ (<span style=\"color: #0087ff; text-decoration-color: #0087ff\">Activation</span>)        │                   │            │                   │\n",
              "├─────────────────────┼───────────────────┼────────────┼───────────────────┤\n",
              "│ multi_head_attenti… │ (<span style=\"color: #00d7ff; text-decoration-color: #00d7ff\">None</span>, <span style=\"color: #00af00; text-decoration-color: #00af00\">12</span>, <span style=\"color: #00af00; text-decoration-color: #00af00\">64</span>)    │     <span style=\"color: #00af00; text-decoration-color: #00af00\">66,368</span> │ activation_2[<span style=\"color: #00af00; text-decoration-color: #00af00\">0</span>][<span style=\"color: #00af00; text-decoration-color: #00af00\">…</span> │\n",
              "│ (<span style=\"color: #0087ff; text-decoration-color: #0087ff\">MultiHeadAttentio…</span> │                   │            │ activation_2[<span style=\"color: #00af00; text-decoration-color: #00af00\">0</span>][<span style=\"color: #00af00; text-decoration-color: #00af00\">…</span> │\n",
              "│                     │                   │            │ activation_2[<span style=\"color: #00af00; text-decoration-color: #00af00\">0</span>][<span style=\"color: #00af00; text-decoration-color: #00af00\">…</span> │\n",
              "├─────────────────────┼───────────────────┼────────────┼───────────────────┤\n",
              "│ lstm_12 (<span style=\"color: #0087ff; text-decoration-color: #0087ff\">LSTM</span>)      │ (<span style=\"color: #00d7ff; text-decoration-color: #00d7ff\">None</span>, <span style=\"color: #00af00; text-decoration-color: #00af00\">64</span>)        │     <span style=\"color: #00af00; text-decoration-color: #00af00\">33,024</span> │ multi_head_atten… │\n",
              "└─────────────────────┴───────────────────┴────────────┴───────────────────┘\n",
              "</pre>\n"
            ]
          },
          "metadata": {}
        },
        {
          "output_type": "display_data",
          "data": {
            "text/plain": [
              "\u001b[1m Total params: \u001b[0m\u001b[38;5;34m143,424\u001b[0m (560.25 KB)\n"
            ],
            "text/html": [
              "<pre style=\"white-space:pre;overflow-x:auto;line-height:normal;font-family:Menlo,'DejaVu Sans Mono',consolas,'Courier New',monospace\"><span style=\"font-weight: bold\"> Total params: </span><span style=\"color: #00af00; text-decoration-color: #00af00\">143,424</span> (560.25 KB)\n",
              "</pre>\n"
            ]
          },
          "metadata": {}
        },
        {
          "output_type": "display_data",
          "data": {
            "text/plain": [
              "\u001b[1m Trainable params: \u001b[0m\u001b[38;5;34m143,424\u001b[0m (560.25 KB)\n"
            ],
            "text/html": [
              "<pre style=\"white-space:pre;overflow-x:auto;line-height:normal;font-family:Menlo,'DejaVu Sans Mono',consolas,'Courier New',monospace\"><span style=\"font-weight: bold\"> Trainable params: </span><span style=\"color: #00af00; text-decoration-color: #00af00\">143,424</span> (560.25 KB)\n",
              "</pre>\n"
            ]
          },
          "metadata": {}
        },
        {
          "output_type": "display_data",
          "data": {
            "text/plain": [
              "\u001b[1m Non-trainable params: \u001b[0m\u001b[38;5;34m0\u001b[0m (0.00 B)\n"
            ],
            "text/html": [
              "<pre style=\"white-space:pre;overflow-x:auto;line-height:normal;font-family:Menlo,'DejaVu Sans Mono',consolas,'Courier New',monospace\"><span style=\"font-weight: bold\"> Non-trainable params: </span><span style=\"color: #00af00; text-decoration-color: #00af00\">0</span> (0.00 B)\n",
              "</pre>\n"
            ]
          },
          "metadata": {}
        },
        {
          "output_type": "stream",
          "name": "stdout",
          "text": [
            "Model lstm_shallow_attention_v2 weights loaded from cache\n",
            "Model lstm_shallow_attention_v2 history loaded from cache\n"
          ]
        }
      ]
    },
    {
      "cell_type": "code",
      "source": [
        "def build_model_6():\n",
        "    global models_list\n",
        "    NAME = \"lstm_shallow_attention_v3\"\n",
        "\n",
        "    #--- Feature Extractor ---\n",
        "    feature_extractor_input = Input(shape=(SENTENCE_MAX_WORDS_LEN,))\n",
        "\n",
        "    x = get_embedding_layer()(feature_extractor_input)\n",
        "\n",
        "    x = Activation('elu')(x)\n",
        "\n",
        "    x = MultiHeadAttention(num_heads=4, key_dim=64)(x, x, x)\n",
        "\n",
        "    x = LSTM(64, return_sequences=False)(x)\n",
        "\n",
        "    feature_extractor = Model(feature_extractor_input, x, name=NAME + \"_feature_extractor\")\n",
        "    feature_extractor.summary()\n",
        "\n",
        "    #--- Train System ---\n",
        "    train_model_input_1 = Input(shape=(SENTENCE_MAX_WORDS_LEN,))\n",
        "    train_model_input_2 = Input(shape=(SENTENCE_MAX_WORDS_LEN,))\n",
        "    train_model_input_3 = Input(shape=(SENTENCE_MAX_WORDS_LEN,))\n",
        "\n",
        "    encoded_1 = feature_extractor(train_model_input_1)\n",
        "    encoded_2 = feature_extractor(train_model_input_2)\n",
        "    encoded_3 = feature_extractor(train_model_input_3)\n",
        "\n",
        "    merged = Lambda(lambda x: K.stack(x, axis=1))([encoded_1, encoded_2, encoded_3])\n",
        "\n",
        "    train_model = Model([train_model_input_1, train_model_input_2, train_model_input_3], merged, name=NAME + \"_train_model\")\n",
        "\n",
        "    train_model.compile(optimizer='adam', loss=triplet_cosine_loss(margin=1.0))\n",
        "\n",
        "    custom_model =  CustomModel(NAME, train_model, feature_extractor, 'Triplet_Cosine_Loss (Margin=1.0)', triplet_data_gen, metric='cosine')\n",
        "\n",
        "    models_list.append(custom_model)\n",
        "\n",
        "build_model_6()"
      ],
      "metadata": {
        "colab": {
          "base_uri": "https://localhost:8080/",
          "height": 404
        },
        "id": "H3S_KH_PTRy0",
        "outputId": "08b33c27-5d7e-448a-9bce-2f1539311a9c"
      },
      "id": "H3S_KH_PTRy0",
      "execution_count": 164,
      "outputs": [
        {
          "output_type": "display_data",
          "data": {
            "text/plain": [
              "\u001b[1mModel: \"lstm_shallow_attention_v3_feature_extractor\"\u001b[0m\n"
            ],
            "text/html": [
              "<pre style=\"white-space:pre;overflow-x:auto;line-height:normal;font-family:Menlo,'DejaVu Sans Mono',consolas,'Courier New',monospace\"><span style=\"font-weight: bold\">Model: \"lstm_shallow_attention_v3_feature_extractor\"</span>\n",
              "</pre>\n"
            ]
          },
          "metadata": {}
        },
        {
          "output_type": "display_data",
          "data": {
            "text/plain": [
              "┏━━━━━━━━━━━━━━━━━━━━━┳━━━━━━━━━━━━━━━━━━━┳━━━━━━━━━━━━┳━━━━━━━━━━━━━━━━━━━┓\n",
              "┃\u001b[1m \u001b[0m\u001b[1mLayer (type)       \u001b[0m\u001b[1m \u001b[0m┃\u001b[1m \u001b[0m\u001b[1mOutput Shape     \u001b[0m\u001b[1m \u001b[0m┃\u001b[1m \u001b[0m\u001b[1m   Param #\u001b[0m\u001b[1m \u001b[0m┃\u001b[1m \u001b[0m\u001b[1mConnected to     \u001b[0m\u001b[1m \u001b[0m┃\n",
              "┡━━━━━━━━━━━━━━━━━━━━━╇━━━━━━━━━━━━━━━━━━━╇━━━━━━━━━━━━╇━━━━━━━━━━━━━━━━━━━┩\n",
              "│ input_layer_36      │ (\u001b[38;5;45mNone\u001b[0m, \u001b[38;5;34m12\u001b[0m)        │          \u001b[38;5;34m0\u001b[0m │ -                 │\n",
              "│ (\u001b[38;5;33mInputLayer\u001b[0m)        │                   │            │                   │\n",
              "├─────────────────────┼───────────────────┼────────────┼───────────────────┤\n",
              "│ embedding_11        │ (\u001b[38;5;45mNone\u001b[0m, \u001b[38;5;34m12\u001b[0m, \u001b[38;5;34m64\u001b[0m)    │     \u001b[38;5;34m44,032\u001b[0m │ input_layer_36[\u001b[38;5;34m0\u001b[0m… │\n",
              "│ (\u001b[38;5;33mEmbedding\u001b[0m)         │                   │            │                   │\n",
              "├─────────────────────┼───────────────────┼────────────┼───────────────────┤\n",
              "│ activation_3        │ (\u001b[38;5;45mNone\u001b[0m, \u001b[38;5;34m12\u001b[0m, \u001b[38;5;34m64\u001b[0m)    │          \u001b[38;5;34m0\u001b[0m │ embedding_11[\u001b[38;5;34m0\u001b[0m][\u001b[38;5;34m…\u001b[0m │\n",
              "│ (\u001b[38;5;33mActivation\u001b[0m)        │                   │            │                   │\n",
              "├─────────────────────┼───────────────────┼────────────┼───────────────────┤\n",
              "│ multi_head_attenti… │ (\u001b[38;5;45mNone\u001b[0m, \u001b[38;5;34m12\u001b[0m, \u001b[38;5;34m64\u001b[0m)    │     \u001b[38;5;34m66,368\u001b[0m │ activation_3[\u001b[38;5;34m0\u001b[0m][\u001b[38;5;34m…\u001b[0m │\n",
              "│ (\u001b[38;5;33mMultiHeadAttentio…\u001b[0m │                   │            │ activation_3[\u001b[38;5;34m0\u001b[0m][\u001b[38;5;34m…\u001b[0m │\n",
              "│                     │                   │            │ activation_3[\u001b[38;5;34m0\u001b[0m][\u001b[38;5;34m…\u001b[0m │\n",
              "├─────────────────────┼───────────────────┼────────────┼───────────────────┤\n",
              "│ lstm_13 (\u001b[38;5;33mLSTM\u001b[0m)      │ (\u001b[38;5;45mNone\u001b[0m, \u001b[38;5;34m64\u001b[0m)        │     \u001b[38;5;34m33,024\u001b[0m │ multi_head_atten… │\n",
              "└─────────────────────┴───────────────────┴────────────┴───────────────────┘\n"
            ],
            "text/html": [
              "<pre style=\"white-space:pre;overflow-x:auto;line-height:normal;font-family:Menlo,'DejaVu Sans Mono',consolas,'Courier New',monospace\">┏━━━━━━━━━━━━━━━━━━━━━┳━━━━━━━━━━━━━━━━━━━┳━━━━━━━━━━━━┳━━━━━━━━━━━━━━━━━━━┓\n",
              "┃<span style=\"font-weight: bold\"> Layer (type)        </span>┃<span style=\"font-weight: bold\"> Output Shape      </span>┃<span style=\"font-weight: bold\">    Param # </span>┃<span style=\"font-weight: bold\"> Connected to      </span>┃\n",
              "┡━━━━━━━━━━━━━━━━━━━━━╇━━━━━━━━━━━━━━━━━━━╇━━━━━━━━━━━━╇━━━━━━━━━━━━━━━━━━━┩\n",
              "│ input_layer_36      │ (<span style=\"color: #00d7ff; text-decoration-color: #00d7ff\">None</span>, <span style=\"color: #00af00; text-decoration-color: #00af00\">12</span>)        │          <span style=\"color: #00af00; text-decoration-color: #00af00\">0</span> │ -                 │\n",
              "│ (<span style=\"color: #0087ff; text-decoration-color: #0087ff\">InputLayer</span>)        │                   │            │                   │\n",
              "├─────────────────────┼───────────────────┼────────────┼───────────────────┤\n",
              "│ embedding_11        │ (<span style=\"color: #00d7ff; text-decoration-color: #00d7ff\">None</span>, <span style=\"color: #00af00; text-decoration-color: #00af00\">12</span>, <span style=\"color: #00af00; text-decoration-color: #00af00\">64</span>)    │     <span style=\"color: #00af00; text-decoration-color: #00af00\">44,032</span> │ input_layer_36[<span style=\"color: #00af00; text-decoration-color: #00af00\">0</span>… │\n",
              "│ (<span style=\"color: #0087ff; text-decoration-color: #0087ff\">Embedding</span>)         │                   │            │                   │\n",
              "├─────────────────────┼───────────────────┼────────────┼───────────────────┤\n",
              "│ activation_3        │ (<span style=\"color: #00d7ff; text-decoration-color: #00d7ff\">None</span>, <span style=\"color: #00af00; text-decoration-color: #00af00\">12</span>, <span style=\"color: #00af00; text-decoration-color: #00af00\">64</span>)    │          <span style=\"color: #00af00; text-decoration-color: #00af00\">0</span> │ embedding_11[<span style=\"color: #00af00; text-decoration-color: #00af00\">0</span>][<span style=\"color: #00af00; text-decoration-color: #00af00\">…</span> │\n",
              "│ (<span style=\"color: #0087ff; text-decoration-color: #0087ff\">Activation</span>)        │                   │            │                   │\n",
              "├─────────────────────┼───────────────────┼────────────┼───────────────────┤\n",
              "│ multi_head_attenti… │ (<span style=\"color: #00d7ff; text-decoration-color: #00d7ff\">None</span>, <span style=\"color: #00af00; text-decoration-color: #00af00\">12</span>, <span style=\"color: #00af00; text-decoration-color: #00af00\">64</span>)    │     <span style=\"color: #00af00; text-decoration-color: #00af00\">66,368</span> │ activation_3[<span style=\"color: #00af00; text-decoration-color: #00af00\">0</span>][<span style=\"color: #00af00; text-decoration-color: #00af00\">…</span> │\n",
              "│ (<span style=\"color: #0087ff; text-decoration-color: #0087ff\">MultiHeadAttentio…</span> │                   │            │ activation_3[<span style=\"color: #00af00; text-decoration-color: #00af00\">0</span>][<span style=\"color: #00af00; text-decoration-color: #00af00\">…</span> │\n",
              "│                     │                   │            │ activation_3[<span style=\"color: #00af00; text-decoration-color: #00af00\">0</span>][<span style=\"color: #00af00; text-decoration-color: #00af00\">…</span> │\n",
              "├─────────────────────┼───────────────────┼────────────┼───────────────────┤\n",
              "│ lstm_13 (<span style=\"color: #0087ff; text-decoration-color: #0087ff\">LSTM</span>)      │ (<span style=\"color: #00d7ff; text-decoration-color: #00d7ff\">None</span>, <span style=\"color: #00af00; text-decoration-color: #00af00\">64</span>)        │     <span style=\"color: #00af00; text-decoration-color: #00af00\">33,024</span> │ multi_head_atten… │\n",
              "└─────────────────────┴───────────────────┴────────────┴───────────────────┘\n",
              "</pre>\n"
            ]
          },
          "metadata": {}
        },
        {
          "output_type": "display_data",
          "data": {
            "text/plain": [
              "\u001b[1m Total params: \u001b[0m\u001b[38;5;34m143,424\u001b[0m (560.25 KB)\n"
            ],
            "text/html": [
              "<pre style=\"white-space:pre;overflow-x:auto;line-height:normal;font-family:Menlo,'DejaVu Sans Mono',consolas,'Courier New',monospace\"><span style=\"font-weight: bold\"> Total params: </span><span style=\"color: #00af00; text-decoration-color: #00af00\">143,424</span> (560.25 KB)\n",
              "</pre>\n"
            ]
          },
          "metadata": {}
        },
        {
          "output_type": "display_data",
          "data": {
            "text/plain": [
              "\u001b[1m Trainable params: \u001b[0m\u001b[38;5;34m143,424\u001b[0m (560.25 KB)\n"
            ],
            "text/html": [
              "<pre style=\"white-space:pre;overflow-x:auto;line-height:normal;font-family:Menlo,'DejaVu Sans Mono',consolas,'Courier New',monospace\"><span style=\"font-weight: bold\"> Trainable params: </span><span style=\"color: #00af00; text-decoration-color: #00af00\">143,424</span> (560.25 KB)\n",
              "</pre>\n"
            ]
          },
          "metadata": {}
        },
        {
          "output_type": "display_data",
          "data": {
            "text/plain": [
              "\u001b[1m Non-trainable params: \u001b[0m\u001b[38;5;34m0\u001b[0m (0.00 B)\n"
            ],
            "text/html": [
              "<pre style=\"white-space:pre;overflow-x:auto;line-height:normal;font-family:Menlo,'DejaVu Sans Mono',consolas,'Courier New',monospace\"><span style=\"font-weight: bold\"> Non-trainable params: </span><span style=\"color: #00af00; text-decoration-color: #00af00\">0</span> (0.00 B)\n",
              "</pre>\n"
            ]
          },
          "metadata": {}
        },
        {
          "output_type": "stream",
          "name": "stdout",
          "text": [
            "Model lstm_shallow_attention_v3 weights loaded from cache\n",
            "Model lstm_shallow_attention_v3 history loaded from cache\n"
          ]
        }
      ]
    },
    {
      "cell_type": "code",
      "execution_count": 165,
      "id": "H7ZDrPy8lE_k",
      "metadata": {
        "id": "H7ZDrPy8lE_k"
      },
      "outputs": [],
      "source": [
        "for model in models_list:\n",
        "    if isinstance(model.training_model, tf.keras.Model):\n",
        "          keras_model = model.training_model\n",
        "\n",
        "          img_path = os.path.join(CACHE_MODELS_DIR_NAME,f'{model.name}_arch.png')\n",
        "\n",
        "          plot_model(\n",
        "              keras_model,\n",
        "              to_file= img_path,\n",
        "              show_shapes=True,\n",
        "              dpi =200,\n",
        "              show_layer_names=True,\n",
        "              expand_nested=True,\n",
        "              show_layer_activations=True,\n",
        "              show_trainable=True,\n",
        "              show_dtype=True,\n",
        "          )"
      ]
    },
    {
      "cell_type": "markdown",
      "id": "G_ZNAtH6krjm",
      "metadata": {
        "id": "G_ZNAtH6krjm"
      },
      "source": [
        "# Model Training"
      ]
    },
    {
      "cell_type": "markdown",
      "source": [
        "## Train"
      ],
      "metadata": {
        "id": "t8Wj3sP-F3m8"
      },
      "id": "t8Wj3sP-F3m8"
    },
    {
      "cell_type": "code",
      "execution_count": 166,
      "id": "JXP3kfmfkUyl",
      "metadata": {
        "colab": {
          "base_uri": "https://localhost:8080/"
        },
        "id": "JXP3kfmfkUyl",
        "outputId": "b45de707-49ac-4517-8a7d-8a72b0d67f45"
      },
      "outputs": [
        {
          "output_type": "stream",
          "name": "stdout",
          "text": [
            "1. Train: lstm_shallow_v1\n",
            "Model lstm_shallow_v1 history loaded from cache\n",
            "2. Train: lstm_deep_v1\n",
            "Model lstm_deep_v1 history loaded from cache\n",
            "3. Train: lstm_shallow_attention_v1\n",
            "Model lstm_shallow_attention_v1 history loaded from cache\n",
            "4. Train: lstm_deep_attention_v1\n",
            "Model lstm_deep_attention_v1 history loaded from cache\n",
            "5. Train: lstm_shallow_attention_v2\n",
            "Model lstm_shallow_attention_v2 history loaded from cache\n",
            "6. Train: lstm_shallow_attention_v3\n",
            "Model lstm_shallow_attention_v3 history loaded from cache\n"
          ]
        }
      ],
      "source": [
        "for i, model in enumerate(models_list):\n",
        "    print(f\"{i+1}. Train: {model.name}\")\n",
        "\n",
        "    model.fit(\n",
        "        model.data_gens[0],\n",
        "        validation_data=model.data_gens[1],\n",
        "        epochs = EPOCHS,\n",
        "        batch_size = BATCH_SIZE,\n",
        "        force_train= False\n",
        "    )\n",
        "\n",
        "    model.save_feature_extractor()"
      ]
    },
    {
      "cell_type": "markdown",
      "source": [
        "## Fine tune by hard margin"
      ],
      "metadata": {
        "id": "RRIUy7SXF4an"
      },
      "id": "RRIUy7SXF4an"
    },
    {
      "cell_type": "code",
      "source": [
        "for i, model in enumerate(models_list):\n",
        "    print(f\"{i+1}. Fine Tune: {model.name}\")\n",
        "\n",
        "    model.data_gens[0].set_feature_extractor(model.feature_extractor_model)\n",
        "\n",
        "    model.fit(\n",
        "        model.data_gens[0],\n",
        "        validation_data=model.data_gens[1],\n",
        "        epochs = math.ceil( EPOCHS * 0.25 ),\n",
        "        batch_size = BATCH_SIZE,\n",
        "        force_train= False\n",
        "    )\n",
        "\n",
        "    model.save_feature_extractor()"
      ],
      "metadata": {
        "id": "OQcViawqF6ur",
        "colab": {
          "base_uri": "https://localhost:8080/"
        },
        "outputId": "9e5c7436-53c0-49d0-8839-e423cbe36fce"
      },
      "id": "OQcViawqF6ur",
      "execution_count": 167,
      "outputs": [
        {
          "output_type": "stream",
          "name": "stdout",
          "text": [
            "1. Fine Tune: lstm_shallow_v1\n",
            "Model lstm_shallow_v1 history loaded from cache\n"
          ]
        },
        {
          "output_type": "stream",
          "name": "stderr",
          "text": [
            "/usr/local/lib/python3.12/dist-packages/keras/src/trainers/data_adapters/py_dataset_adapter.py:121: UserWarning: Your `PyDataset` class should call `super().__init__(**kwargs)` in its constructor. `**kwargs` can include `workers`, `use_multiprocessing`, `max_queue_size`. Do not pass these arguments to `fit()`, as they will be ignored.\n",
            "  self._warn_if_super_not_called()\n"
          ]
        },
        {
          "output_type": "stream",
          "name": "stdout",
          "text": [
            "Epoch 1/5\n",
            "\u001b[1m1422/1423\u001b[0m \u001b[32m━━━━━━━━━━━━━━━━━━━\u001b[0m\u001b[37m━\u001b[0m \u001b[1m0s\u001b[0m 36ms/step - loss: 0.2838\n",
            "Epoch 1: val_loss improved from inf to 0.30138, saving model to drive/MyDrive/chatbot_answerrr/train_cache/lstm_shallow_v1_training.weights.h5\n",
            "\u001b[1m1423/1423\u001b[0m \u001b[32m━━━━━━━━━━━━━━━━━━━━\u001b[0m\u001b[37m\u001b[0m \u001b[1m61s\u001b[0m 41ms/step - loss: 0.2838 - val_loss: 0.3014 - learning_rate: 0.0010\n",
            "Epoch 2/5\n",
            "\u001b[1m1423/1423\u001b[0m \u001b[32m━━━━━━━━━━━━━━━━━━━━\u001b[0m\u001b[37m\u001b[0m \u001b[1m0s\u001b[0m 35ms/step - loss: 0.2834\n",
            "Epoch 2: val_loss improved from 0.30138 to 0.29898, saving model to drive/MyDrive/chatbot_answerrr/train_cache/lstm_shallow_v1_training.weights.h5\n",
            "\u001b[1m1423/1423\u001b[0m \u001b[32m━━━━━━━━━━━━━━━━━━━━\u001b[0m\u001b[37m\u001b[0m \u001b[1m56s\u001b[0m 40ms/step - loss: 0.2834 - val_loss: 0.2990 - learning_rate: 0.0010\n",
            "Epoch 3/5\n",
            "\u001b[1m1423/1423\u001b[0m \u001b[32m━━━━━━━━━━━━━━━━━━━━\u001b[0m\u001b[37m\u001b[0m \u001b[1m0s\u001b[0m 35ms/step - loss: 0.2831\n",
            "Epoch 3: val_loss did not improve from 0.29898\n",
            "\u001b[1m1423/1423\u001b[0m \u001b[32m━━━━━━━━━━━━━━━━━━━━\u001b[0m\u001b[37m\u001b[0m \u001b[1m56s\u001b[0m 39ms/step - loss: 0.2831 - val_loss: 0.2990 - learning_rate: 0.0010\n",
            "Epoch 4/5\n",
            "\u001b[1m1423/1423\u001b[0m \u001b[32m━━━━━━━━━━━━━━━━━━━━\u001b[0m\u001b[37m\u001b[0m \u001b[1m0s\u001b[0m 34ms/step - loss: 0.2831\n",
            "Epoch 4: val_loss improved from 0.29898 to 0.29825, saving model to drive/MyDrive/chatbot_answerrr/train_cache/lstm_shallow_v1_training.weights.h5\n",
            "\u001b[1m1423/1423\u001b[0m \u001b[32m━━━━━━━━━━━━━━━━━━━━\u001b[0m\u001b[37m\u001b[0m \u001b[1m54s\u001b[0m 38ms/step - loss: 0.2831 - val_loss: 0.2982 - learning_rate: 0.0010\n",
            "Epoch 5/5\n",
            "\u001b[1m1423/1423\u001b[0m \u001b[32m━━━━━━━━━━━━━━━━━━━━\u001b[0m\u001b[37m\u001b[0m \u001b[1m0s\u001b[0m 34ms/step - loss: 0.2827\n",
            "Epoch 5: val_loss did not improve from 0.29825\n",
            "\u001b[1m1423/1423\u001b[0m \u001b[32m━━━━━━━━━━━━━━━━━━━━\u001b[0m\u001b[37m\u001b[0m \u001b[1m54s\u001b[0m 38ms/step - loss: 0.2827 - val_loss: 0.2990 - learning_rate: 0.0010\n",
            "Restoring model weights from the end of the best epoch: 4.\n",
            "2. Fine Tune: lstm_deep_v1\n",
            "Model lstm_deep_v1 history loaded from cache\n",
            "Epoch 1/5\n",
            "\u001b[1m1422/1423\u001b[0m \u001b[32m━━━━━━━━━━━━━━━━━━━\u001b[0m\u001b[37m━\u001b[0m \u001b[1m0s\u001b[0m 37ms/step - loss: 0.2831\n",
            "Epoch 1: val_loss improved from inf to 0.29868, saving model to drive/MyDrive/chatbot_answerrr/train_cache/lstm_deep_v1_training.weights.h5\n",
            "\u001b[1m1423/1423\u001b[0m \u001b[32m━━━━━━━━━━━━━━━━━━━━\u001b[0m\u001b[37m\u001b[0m \u001b[1m62s\u001b[0m 42ms/step - loss: 0.2831 - val_loss: 0.2987 - learning_rate: 0.0010\n",
            "Epoch 2/5\n",
            "\u001b[1m1422/1423\u001b[0m \u001b[32m━━━━━━━━━━━━━━━━━━━\u001b[0m\u001b[37m━\u001b[0m \u001b[1m0s\u001b[0m 36ms/step - loss: 0.2830\n",
            "Epoch 2: val_loss improved from 0.29868 to 0.29799, saving model to drive/MyDrive/chatbot_answerrr/train_cache/lstm_deep_v1_training.weights.h5\n",
            "\u001b[1m1423/1423\u001b[0m \u001b[32m━━━━━━━━━━━━━━━━━━━━\u001b[0m\u001b[37m\u001b[0m \u001b[1m59s\u001b[0m 41ms/step - loss: 0.2830 - val_loss: 0.2980 - learning_rate: 0.0010\n",
            "Epoch 3/5\n",
            "\u001b[1m1423/1423\u001b[0m \u001b[32m━━━━━━━━━━━━━━━━━━━━\u001b[0m\u001b[37m\u001b[0m \u001b[1m0s\u001b[0m 37ms/step - loss: 0.2827\n",
            "Epoch 3: val_loss improved from 0.29799 to 0.29687, saving model to drive/MyDrive/chatbot_answerrr/train_cache/lstm_deep_v1_training.weights.h5\n",
            "\u001b[1m1423/1423\u001b[0m \u001b[32m━━━━━━━━━━━━━━━━━━━━\u001b[0m\u001b[37m\u001b[0m \u001b[1m59s\u001b[0m 42ms/step - loss: 0.2827 - val_loss: 0.2969 - learning_rate: 0.0010\n",
            "Epoch 4/5\n",
            "\u001b[1m1422/1423\u001b[0m \u001b[32m━━━━━━━━━━━━━━━━━━━\u001b[0m\u001b[37m━\u001b[0m \u001b[1m0s\u001b[0m 37ms/step - loss: 0.2826\n",
            "Epoch 4: val_loss improved from 0.29687 to 0.29591, saving model to drive/MyDrive/chatbot_answerrr/train_cache/lstm_deep_v1_training.weights.h5\n",
            "\u001b[1m1423/1423\u001b[0m \u001b[32m━━━━━━━━━━━━━━━━━━━━\u001b[0m\u001b[37m\u001b[0m \u001b[1m59s\u001b[0m 42ms/step - loss: 0.2826 - val_loss: 0.2959 - learning_rate: 0.0010\n",
            "Epoch 5/5\n",
            "\u001b[1m1423/1423\u001b[0m \u001b[32m━━━━━━━━━━━━━━━━━━━━\u001b[0m\u001b[37m\u001b[0m \u001b[1m0s\u001b[0m 39ms/step - loss: 0.2827\n",
            "Epoch 5: val_loss did not improve from 0.29591\n",
            "\u001b[1m1423/1423\u001b[0m \u001b[32m━━━━━━━━━━━━━━━━━━━━\u001b[0m\u001b[37m\u001b[0m \u001b[1m62s\u001b[0m 43ms/step - loss: 0.2827 - val_loss: 0.2969 - learning_rate: 0.0010\n",
            "Restoring model weights from the end of the best epoch: 4.\n",
            "3. Fine Tune: lstm_shallow_attention_v1\n",
            "Model lstm_shallow_attention_v1 history loaded from cache\n",
            "Epoch 1/5\n",
            "\u001b[1m1422/1423\u001b[0m \u001b[32m━━━━━━━━━━━━━━━━━━━\u001b[0m\u001b[37m━\u001b[0m \u001b[1m0s\u001b[0m 46ms/step - loss: 0.2829\n",
            "Epoch 1: val_loss improved from inf to 0.29432, saving model to drive/MyDrive/chatbot_answerrr/train_cache/lstm_shallow_attention_v1_training.weights.h5\n",
            "\u001b[1m1423/1423\u001b[0m \u001b[32m━━━━━━━━━━━━━━━━━━━━\u001b[0m\u001b[37m\u001b[0m \u001b[1m78s\u001b[0m 51ms/step - loss: 0.2829 - val_loss: 0.2943 - learning_rate: 0.0010\n",
            "Epoch 2/5\n",
            "\u001b[1m1423/1423\u001b[0m \u001b[32m━━━━━━━━━━━━━━━━━━━━\u001b[0m\u001b[37m\u001b[0m \u001b[1m0s\u001b[0m 46ms/step - loss: 0.2827\n",
            "Epoch 2: val_loss did not improve from 0.29432\n",
            "\u001b[1m1423/1423\u001b[0m \u001b[32m━━━━━━━━━━━━━━━━━━━━\u001b[0m\u001b[37m\u001b[0m \u001b[1m71s\u001b[0m 50ms/step - loss: 0.2827 - val_loss: 0.2946 - learning_rate: 0.0010\n",
            "Epoch 3/5\n",
            "\u001b[1m1423/1423\u001b[0m \u001b[32m━━━━━━━━━━━━━━━━━━━━\u001b[0m\u001b[37m\u001b[0m \u001b[1m0s\u001b[0m 45ms/step - loss: 0.2825\n",
            "Epoch 3: val_loss did not improve from 0.29432\n",
            "\u001b[1m1423/1423\u001b[0m \u001b[32m━━━━━━━━━━━━━━━━━━━━\u001b[0m\u001b[37m\u001b[0m \u001b[1m70s\u001b[0m 49ms/step - loss: 0.2825 - val_loss: 0.2948 - learning_rate: 0.0010\n",
            "Epoch 4/5\n",
            "\u001b[1m1423/1423\u001b[0m \u001b[32m━━━━━━━━━━━━━━━━━━━━\u001b[0m\u001b[37m\u001b[0m \u001b[1m0s\u001b[0m 44ms/step - loss: 0.2825\n",
            "Epoch 4: val_loss did not improve from 0.29432\n",
            "\u001b[1m1423/1423\u001b[0m \u001b[32m━━━━━━━━━━━━━━━━━━━━\u001b[0m\u001b[37m\u001b[0m \u001b[1m69s\u001b[0m 48ms/step - loss: 0.2825 - val_loss: 0.2947 - learning_rate: 1.0000e-04\n",
            "Epoch 4: early stopping\n",
            "Restoring model weights from the end of the best epoch: 1.\n",
            "4. Fine Tune: lstm_deep_attention_v1\n",
            "Model lstm_deep_attention_v1 history loaded from cache\n",
            "Epoch 1/5\n",
            "\u001b[1m1423/1423\u001b[0m \u001b[32m━━━━━━━━━━━━━━━━━━━━\u001b[0m\u001b[37m\u001b[0m \u001b[1m0s\u001b[0m 45ms/step - loss: 0.2840\n",
            "Epoch 1: val_loss improved from inf to 0.30304, saving model to drive/MyDrive/chatbot_answerrr/train_cache/lstm_deep_attention_v1_training.weights.h5\n",
            "\u001b[1m1423/1423\u001b[0m \u001b[32m━━━━━━━━━━━━━━━━━━━━\u001b[0m\u001b[37m\u001b[0m \u001b[1m76s\u001b[0m 51ms/step - loss: 0.2840 - val_loss: 0.3030 - learning_rate: 0.0010\n",
            "Epoch 2/5\n",
            "\u001b[1m1423/1423\u001b[0m \u001b[32m━━━━━━━━━━━━━━━━━━━━\u001b[0m\u001b[37m\u001b[0m \u001b[1m0s\u001b[0m 45ms/step - loss: 0.2834\n",
            "Epoch 2: val_loss did not improve from 0.30304\n",
            "\u001b[1m1423/1423\u001b[0m \u001b[32m━━━━━━━━━━━━━━━━━━━━\u001b[0m\u001b[37m\u001b[0m \u001b[1m73s\u001b[0m 51ms/step - loss: 0.2834 - val_loss: 0.3097 - learning_rate: 0.0010\n",
            "Epoch 3/5\n",
            "\u001b[1m1422/1423\u001b[0m \u001b[32m━━━━━━━━━━━━━━━━━━━\u001b[0m\u001b[37m━\u001b[0m \u001b[1m0s\u001b[0m 45ms/step - loss: 0.2834\n",
            "Epoch 3: val_loss did not improve from 0.30304\n",
            "\u001b[1m1423/1423\u001b[0m \u001b[32m━━━━━━━━━━━━━━━━━━━━\u001b[0m\u001b[37m\u001b[0m \u001b[1m72s\u001b[0m 51ms/step - loss: 0.2834 - val_loss: 0.3043 - learning_rate: 0.0010\n",
            "Epoch 4/5\n",
            "\u001b[1m1423/1423\u001b[0m \u001b[32m━━━━━━━━━━━━━━━━━━━━\u001b[0m\u001b[37m\u001b[0m \u001b[1m0s\u001b[0m 48ms/step - loss: 0.2839\n",
            "Epoch 4: val_loss did not improve from 0.30304\n",
            "\u001b[1m1423/1423\u001b[0m \u001b[32m━━━━━━━━━━━━━━━━━━━━\u001b[0m\u001b[37m\u001b[0m \u001b[1m77s\u001b[0m 54ms/step - loss: 0.2839 - val_loss: 0.3062 - learning_rate: 1.0000e-04\n",
            "Epoch 4: early stopping\n",
            "Restoring model weights from the end of the best epoch: 1.\n",
            "5. Fine Tune: lstm_shallow_attention_v2\n",
            "Model lstm_shallow_attention_v2 history loaded from cache\n",
            "Epoch 1/5\n",
            "\u001b[1m1423/1423\u001b[0m \u001b[32m━━━━━━━━━━━━━━━━━━━━\u001b[0m\u001b[37m\u001b[0m \u001b[1m0s\u001b[0m 86ms/step - loss: 5.5863e-04\n",
            "Epoch 1: val_loss improved from inf to 0.23775, saving model to drive/MyDrive/chatbot_answerrr/train_cache/lstm_shallow_attention_v2_training.weights.h5\n",
            "\u001b[1m1423/1423\u001b[0m \u001b[32m━━━━━━━━━━━━━━━━━━━━\u001b[0m\u001b[37m\u001b[0m \u001b[1m142s\u001b[0m 97ms/step - loss: 5.5862e-04 - val_loss: 0.2378 - learning_rate: 0.0010\n",
            "Epoch 2/5\n",
            "\u001b[1m1423/1423\u001b[0m \u001b[32m━━━━━━━━━━━━━━━━━━━━\u001b[0m\u001b[37m\u001b[0m \u001b[1m0s\u001b[0m 86ms/step - loss: 6.4015e-04\n",
            "Epoch 2: val_loss improved from 0.23775 to 0.17986, saving model to drive/MyDrive/chatbot_answerrr/train_cache/lstm_shallow_attention_v2_training.weights.h5\n",
            "\u001b[1m1423/1423\u001b[0m \u001b[32m━━━━━━━━━━━━━━━━━━━━\u001b[0m\u001b[37m\u001b[0m \u001b[1m139s\u001b[0m 97ms/step - loss: 6.4008e-04 - val_loss: 0.1799 - learning_rate: 0.0010\n",
            "Epoch 3/5\n",
            "\u001b[1m1423/1423\u001b[0m \u001b[32m━━━━━━━━━━━━━━━━━━━━\u001b[0m\u001b[37m\u001b[0m \u001b[1m0s\u001b[0m 85ms/step - loss: 6.4181e-04\n",
            "Epoch 3: val_loss did not improve from 0.17986\n",
            "\u001b[1m1423/1423\u001b[0m \u001b[32m━━━━━━━━━━━━━━━━━━━━\u001b[0m\u001b[37m\u001b[0m \u001b[1m139s\u001b[0m 97ms/step - loss: 6.4190e-04 - val_loss: 0.2100 - learning_rate: 0.0010\n",
            "Epoch 4/5\n",
            "\u001b[1m1423/1423\u001b[0m \u001b[32m━━━━━━━━━━━━━━━━━━━━\u001b[0m\u001b[37m\u001b[0m \u001b[1m0s\u001b[0m 86ms/step - loss: 6.7197e-04\n",
            "Epoch 4: val_loss did not improve from 0.17986\n",
            "\u001b[1m1423/1423\u001b[0m \u001b[32m━━━━━━━━━━━━━━━━━━━━\u001b[0m\u001b[37m\u001b[0m \u001b[1m138s\u001b[0m 97ms/step - loss: 6.7203e-04 - val_loss: 0.2058 - learning_rate: 0.0010\n",
            "Epoch 5/5\n",
            "\u001b[1m1423/1423\u001b[0m \u001b[32m━━━━━━━━━━━━━━━━━━━━\u001b[0m\u001b[37m\u001b[0m \u001b[1m0s\u001b[0m 88ms/step - loss: 5.0391e-04\n",
            "Epoch 5: val_loss did not improve from 0.17986\n",
            "\u001b[1m1423/1423\u001b[0m \u001b[32m━━━━━━━━━━━━━━━━━━━━\u001b[0m\u001b[37m\u001b[0m \u001b[1m141s\u001b[0m 99ms/step - loss: 5.0383e-04 - val_loss: 0.1946 - learning_rate: 1.0000e-04\n",
            "Epoch 5: early stopping\n",
            "Restoring model weights from the end of the best epoch: 2.\n",
            "6. Fine Tune: lstm_shallow_attention_v3\n",
            "Model lstm_shallow_attention_v3 history loaded from cache\n",
            "Epoch 1/5\n",
            "\u001b[1m1423/1423\u001b[0m \u001b[32m━━━━━━━━━━━━━━━━━━━━\u001b[0m\u001b[37m\u001b[0m \u001b[1m0s\u001b[0m 89ms/step - loss: 0.0245\n",
            "Epoch 1: val_loss improved from inf to 0.12333, saving model to drive/MyDrive/chatbot_answerrr/train_cache/lstm_shallow_attention_v3_training.weights.h5\n",
            "\u001b[1m1423/1423\u001b[0m \u001b[32m━━━━━━━━━━━━━━━━━━━━\u001b[0m\u001b[37m\u001b[0m \u001b[1m147s\u001b[0m 101ms/step - loss: 0.0245 - val_loss: 0.1233 - learning_rate: 0.0010\n",
            "Epoch 2/5\n",
            "\u001b[1m1423/1423\u001b[0m \u001b[32m━━━━━━━━━━━━━━━━━━━━\u001b[0m\u001b[37m\u001b[0m \u001b[1m0s\u001b[0m 87ms/step - loss: 0.0210\n",
            "Epoch 2: val_loss improved from 0.12333 to 0.11816, saving model to drive/MyDrive/chatbot_answerrr/train_cache/lstm_shallow_attention_v3_training.weights.h5\n",
            "\u001b[1m1423/1423\u001b[0m \u001b[32m━━━━━━━━━━━━━━━━━━━━\u001b[0m\u001b[37m\u001b[0m \u001b[1m139s\u001b[0m 98ms/step - loss: 0.0210 - val_loss: 0.1182 - learning_rate: 0.0010\n",
            "Epoch 3/5\n",
            "\u001b[1m1423/1423\u001b[0m \u001b[32m━━━━━━━━━━━━━━━━━━━━\u001b[0m\u001b[37m\u001b[0m \u001b[1m0s\u001b[0m 87ms/step - loss: 0.0186\n",
            "Epoch 3: val_loss did not improve from 0.11816\n",
            "\u001b[1m1423/1423\u001b[0m \u001b[32m━━━━━━━━━━━━━━━━━━━━\u001b[0m\u001b[37m\u001b[0m \u001b[1m139s\u001b[0m 98ms/step - loss: 0.0186 - val_loss: 0.1191 - learning_rate: 0.0010\n",
            "Epoch 4/5\n",
            "\u001b[1m1423/1423\u001b[0m \u001b[32m━━━━━━━━━━━━━━━━━━━━\u001b[0m\u001b[37m\u001b[0m \u001b[1m0s\u001b[0m 87ms/step - loss: 0.0173\n",
            "Epoch 4: val_loss improved from 0.11816 to 0.11389, saving model to drive/MyDrive/chatbot_answerrr/train_cache/lstm_shallow_attention_v3_training.weights.h5\n",
            "\u001b[1m1423/1423\u001b[0m \u001b[32m━━━━━━━━━━━━━━━━━━━━\u001b[0m\u001b[37m\u001b[0m \u001b[1m139s\u001b[0m 98ms/step - loss: 0.0173 - val_loss: 0.1139 - learning_rate: 0.0010\n",
            "Epoch 5/5\n",
            "\u001b[1m1423/1423\u001b[0m \u001b[32m━━━━━━━━━━━━━━━━━━━━\u001b[0m\u001b[37m\u001b[0m \u001b[1m0s\u001b[0m 87ms/step - loss: 0.0181\n",
            "Epoch 5: val_loss improved from 0.11389 to 0.10730, saving model to drive/MyDrive/chatbot_answerrr/train_cache/lstm_shallow_attention_v3_training.weights.h5\n",
            "\u001b[1m1423/1423\u001b[0m \u001b[32m━━━━━━━━━━━━━━━━━━━━\u001b[0m\u001b[37m\u001b[0m \u001b[1m140s\u001b[0m 99ms/step - loss: 0.0181 - val_loss: 0.1073 - learning_rate: 0.0010\n",
            "Restoring model weights from the end of the best epoch: 5.\n"
          ]
        }
      ]
    },
    {
      "cell_type": "markdown",
      "id": "db05b486",
      "metadata": {
        "id": "db05b486"
      },
      "source": [
        "# History"
      ]
    },
    {
      "cell_type": "code",
      "execution_count": 168,
      "id": "f05bf3c8",
      "metadata": {
        "id": "f05bf3c8"
      },
      "outputs": [],
      "source": [
        "plt.style.use(plt.style.available[12])"
      ]
    },
    {
      "cell_type": "code",
      "execution_count": 169,
      "id": "Hz4K3Jslm4C_",
      "metadata": {
        "colab": {
          "base_uri": "https://localhost:8080/",
          "height": 1000
        },
        "id": "Hz4K3Jslm4C_",
        "outputId": "b5b98345-5188-40a0-f2eb-2b4cfd6bcdce"
      },
      "outputs": [
        {
          "output_type": "display_data",
          "data": {
            "text/plain": [
              "<Figure size 1000x200 with 1 Axes>"
            ],
            "image/png": "[encoded data removed]"
          },
          "metadata": {}
        },
        {
          "output_type": "display_data",
          "data": {
            "text/plain": [
              "<Figure size 1000x200 with 1 Axes>"
            ],
            "image/png": "[encoded data removed]"
          },
          "metadata": {}
        },
        {
          "output_type": "display_data",
          "data": {
            "text/plain": [
              "<Figure size 1000x200 with 1 Axes>"
            ],
            "image/png": "[encoded data removed]"
          },
          "metadata": {}
        },
        {
          "output_type": "display_data",
          "data": {
            "text/plain": [
              "<Figure size 1000x200 with 1 Axes>"
            ],
            "image/png": "[encoded data removed]"
          },
          "metadata": {}
        },
        {
          "output_type": "display_data",
          "data": {
            "text/plain": [
              "<Figure size 1000x200 with 1 Axes>"
            ],
            "image/png": "[encoded data removed]"
          },
          "metadata": {}
        },
        {
          "output_type": "display_data",
          "data": {
            "text/plain": [
              "<Figure size 1000x200 with 1 Axes>"
            ],
            "image/png": "[encoded data removed]"
          },
          "metadata": {}
        }
      ],
      "source": [
        "for i, model in enumerate(models_list):\n",
        "    plt.figure(figsize=(10,2))\n",
        "    plt.grid(True)\n",
        "    plt.title(f\"{model.name} Train loss\")\n",
        "    plt.ylabel('loss')\n",
        "    plt.xlabel('ephocs')\n",
        "    plt.plot(model.history['loss'], label='train')\n",
        "    plt.plot(model.history['val_loss'], label='val')\n",
        "    plt.legend(bbox_to_anchor=(1.05, 1),\n",
        "            loc=\"upper left\",)\n",
        "    plt.show()"
      ]
    },
    {
      "cell_type": "code",
      "execution_count": 170,
      "id": "84a6ffa1",
      "metadata": {
        "colab": {
          "base_uri": "https://localhost:8080/",
          "height": 246
        },
        "id": "84a6ffa1",
        "outputId": "4968a74d-04c3-4554-8288-80bad1088721"
      },
      "outputs": [
        {
          "output_type": "display_data",
          "data": {
            "text/plain": [
              "<Figure size 1000x200 with 1 Axes>"
            ],
            "image/png": "[encoded data removed]"
          },
          "metadata": {}
        }
      ],
      "source": [
        "plt.figure(figsize=(10,2))\n",
        "plt.title(f\"Models Train loss\")\n",
        "plt.grid(True)\n",
        "plt.ylabel('loss')\n",
        "plt.xlabel('ephocs')\n",
        "\n",
        "for i, model in enumerate(models_list):\n",
        "    plt.plot(model.history['loss'], label=model.name)\n",
        "\n",
        "plt.legend(bbox_to_anchor=(1.05, 1),\n",
        "            loc=\"upper left\",)\n",
        "plt.show()"
      ]
    },
    {
      "cell_type": "code",
      "execution_count": 171,
      "id": "dd3e38d4",
      "metadata": {
        "colab": {
          "base_uri": "https://localhost:8080/",
          "height": 246
        },
        "id": "dd3e38d4",
        "outputId": "8f5d319d-1842-4244-c817-b9c3dffe1743"
      },
      "outputs": [
        {
          "output_type": "display_data",
          "data": {
            "text/plain": [
              "<Figure size 1000x200 with 1 Axes>"
            ],
            "image/png": "[encoded data removed]"
          },
          "metadata": {}
        }
      ],
      "source": [
        "plt.figure(figsize=(10,2))\n",
        "plt.title(f\"Models Val loss\")\n",
        "plt.grid(True)\n",
        "plt.ylabel('loss')\n",
        "plt.xlabel('ephocs')\n",
        "\n",
        "for i, model in enumerate(models_list):\n",
        "    plt.plot(model.history['val_loss'], label=model.name)\n",
        "\n",
        "plt.legend(bbox_to_anchor=(1.05, 1),\n",
        "            loc=\"upper left\",)\n",
        "\n",
        "plt.show()"
      ]
    },
    {
      "cell_type": "markdown",
      "id": "0R_i58cqnT0U",
      "metadata": {
        "id": "0R_i58cqnT0U"
      },
      "source": [
        "# Model Eval"
      ]
    },
    {
      "cell_type": "markdown",
      "id": "37beb652",
      "metadata": {
        "id": "37beb652"
      },
      "source": [
        "silhouette score"
      ]
    },
    {
      "cell_type": "code",
      "execution_count": 172,
      "id": "6209600d",
      "metadata": {
        "id": "6209600d",
        "colab": {
          "base_uri": "https://localhost:8080/"
        },
        "outputId": "4be5ef86-8d09-4681-edd6-7262c068c20f"
      },
      "outputs": [
        {
          "output_type": "stream",
          "name": "stdout",
          "text": [
            "\u001b[1m38/38\u001b[0m \u001b[32m━━━━━━━━━━━━━━━━━━━━\u001b[0m\u001b[37m\u001b[0m \u001b[1m0s\u001b[0m 2ms/step\n",
            "\u001b[1m13/13\u001b[0m \u001b[32m━━━━━━━━━━━━━━━━━━━━\u001b[0m\u001b[37m\u001b[0m \u001b[1m0s\u001b[0m 3ms/step \n",
            "\u001b[1m13/13\u001b[0m \u001b[32m━━━━━━━━━━━━━━━━━━━━\u001b[0m\u001b[37m\u001b[0m \u001b[1m0s\u001b[0m 3ms/step \n",
            "Model Name: lstm_shallow_v1\n",
            "\u001b[1m38/38\u001b[0m \u001b[32m━━━━━━━━━━━━━━━━━━━━\u001b[0m\u001b[37m\u001b[0m \u001b[1m0s\u001b[0m 3ms/step\n",
            "\u001b[1m13/13\u001b[0m \u001b[32m━━━━━━━━━━━━━━━━━━━━\u001b[0m\u001b[37m\u001b[0m \u001b[1m0s\u001b[0m 3ms/step \n",
            "\u001b[1m13/13\u001b[0m \u001b[32m━━━━━━━━━━━━━━━━━━━━\u001b[0m\u001b[37m\u001b[0m \u001b[1m0s\u001b[0m 3ms/step \n",
            "Model Name: lstm_deep_v1\n",
            "\u001b[1m38/38\u001b[0m \u001b[32m━━━━━━━━━━━━━━━━━━━━\u001b[0m\u001b[37m\u001b[0m \u001b[1m0s\u001b[0m 3ms/step\n",
            "\u001b[1m13/13\u001b[0m \u001b[32m━━━━━━━━━━━━━━━━━━━━\u001b[0m\u001b[37m\u001b[0m \u001b[1m0s\u001b[0m 3ms/step \n",
            "\u001b[1m13/13\u001b[0m \u001b[32m━━━━━━━━━━━━━━━━━━━━\u001b[0m\u001b[37m\u001b[0m \u001b[1m0s\u001b[0m 3ms/step \n",
            "Model Name: lstm_shallow_attention_v1\n",
            "\u001b[1m38/38\u001b[0m \u001b[32m━━━━━━━━━━━━━━━━━━━━\u001b[0m\u001b[37m\u001b[0m \u001b[1m0s\u001b[0m 3ms/step\n",
            "\u001b[1m13/13\u001b[0m \u001b[32m━━━━━━━━━━━━━━━━━━━━\u001b[0m\u001b[37m\u001b[0m \u001b[1m0s\u001b[0m 3ms/step \n",
            "\u001b[1m13/13\u001b[0m \u001b[32m━━━━━━━━━━━━━━━━━━━━\u001b[0m\u001b[37m\u001b[0m \u001b[1m0s\u001b[0m 3ms/step \n",
            "Model Name: lstm_deep_attention_v1\n",
            "\u001b[1m38/38\u001b[0m \u001b[32m━━━━━━━━━━━━━━━━━━━━\u001b[0m\u001b[37m\u001b[0m \u001b[1m0s\u001b[0m 2ms/step\n",
            "\u001b[1m13/13\u001b[0m \u001b[32m━━━━━━━━━━━━━━━━━━━━\u001b[0m\u001b[37m\u001b[0m \u001b[1m0s\u001b[0m 3ms/step \n",
            "\u001b[1m13/13\u001b[0m \u001b[32m━━━━━━━━━━━━━━━━━━━━\u001b[0m\u001b[37m\u001b[0m \u001b[1m0s\u001b[0m 3ms/step \n",
            "Model Name: lstm_shallow_attention_v2\n",
            "\u001b[1m38/38\u001b[0m \u001b[32m━━━━━━━━━━━━━━━━━━━━\u001b[0m\u001b[37m\u001b[0m \u001b[1m0s\u001b[0m 3ms/step\n",
            "\u001b[1m13/13\u001b[0m \u001b[32m━━━━━━━━━━━━━━━━━━━━\u001b[0m\u001b[37m\u001b[0m \u001b[1m0s\u001b[0m 3ms/step \n",
            "\u001b[1m13/13\u001b[0m \u001b[32m━━━━━━━━━━━━━━━━━━━━\u001b[0m\u001b[37m\u001b[0m \u001b[1m0s\u001b[0m 3ms/step \n",
            "Model Name: lstm_shallow_attention_v3\n"
          ]
        }
      ],
      "source": [
        "eval_df = []\n",
        "\n",
        "for model in models_list:\n",
        "    metric = model.metric\n",
        "\n",
        "    # Extract embeddings\n",
        "    train_embedding = model.feature_extractor_model.predict(X_train)\n",
        "    val_embedding = model.feature_extractor_model.predict(X_val)\n",
        "    test_embedding = model.feature_extractor_model.predict(X_test)\n",
        "\n",
        "    # --- Silhouette score ---\n",
        "    train_score = silhouette_score(train_embedding, y_encoded_train, metric=metric)\n",
        "    val_score = silhouette_score(val_embedding, y_encoded_val, metric=metric)\n",
        "    test_score = silhouette_score(test_embedding, y_encoded_test, metric=metric)\n",
        "\n",
        "    # --- k-NN classification ---\n",
        "    knn_3 = KNeighborsClassifier(n_neighbors=3, metric=metric)\n",
        "    knn_3.fit(train_embedding, y_encoded_train)\n",
        "    val_acc_3NN = accuracy_score(y_encoded_val, knn_3.predict(val_embedding))\n",
        "    test_acc_3NN = accuracy_score(y_encoded_test, knn_3.predict(test_embedding))\n",
        "\n",
        "    print(f\"Model Name: {model.name}\")\n",
        "\n",
        "    eval_df.append({\n",
        "        \"Model Name\": model.name,\n",
        "        \"Train Type\": model.train_type,\n",
        "        \"Metric\": metric,\n",
        "        \"Silhouette Score Train\": train_score,\n",
        "        \"Silhouette Score Val\": val_score,\n",
        "        \"Silhouette Score Test\": test_score,\n",
        "        \"3-NN Accuracy Val\": val_acc_3NN,\n",
        "        \"3-NN Accuracy Test\": test_acc_3NN\n",
        "    })"
      ]
    },
    {
      "cell_type": "code",
      "execution_count": 173,
      "id": "7f3564bf",
      "metadata": {
        "id": "7f3564bf"
      },
      "outputs": [],
      "source": [
        "eval_df = pd.DataFrame(eval_df)\n",
        "\n",
        "eval_df.to_csv(\n",
        "    os.path.join(LOGGING_DIR_NAME, 'model_evaluation.csv'),\n",
        "    index=False)"
      ]
    },
    {
      "cell_type": "markdown",
      "id": "207edbeb",
      "metadata": {
        "id": "207edbeb"
      },
      "source": [
        "# Latent Space"
      ]
    },
    {
      "cell_type": "code",
      "execution_count": 178,
      "id": "54868c52",
      "metadata": {
        "id": "54868c52"
      },
      "outputs": [],
      "source": [
        "import matplotlib.patches as mpatches\n",
        "import matplotlib.pyplot as plt\n",
        "import numpy as np\n",
        "from sklearn.manifold import TSNE\n",
        "\n",
        "def get_plot_latent_space(feature_extractor, x_train, y_train, x_val, y_val, x_test, y_test, save_path, model_name, metric, top_n=10):\n",
        "    # Get base cmap and sample top_n colors\n",
        "    base_cmap = plt.colormaps.get_cmap(\"nipy_spectral\")\n",
        "    colors = base_cmap(np.linspace(0, 0.95, top_n))\n",
        "\n",
        "    plt.figure(figsize=(15, 5))\n",
        "\n",
        "\n",
        "    for i, (x_i, y_i, type_i) in enumerate(zip([x_train, x_val, x_test],\n",
        "                                              [y_train, y_val, y_test],\n",
        "                                              ['Train', 'Val', 'Test'])):\n",
        "      # Extract features\n",
        "      features = feature_extractor.predict(x_i)\n",
        "\n",
        "      # Run t-SNE\n",
        "      reducer = TSNE(n_components=2, perplexity=30, random_state=42, metric= metric)\n",
        "      features_2d = reducer.fit_transform(features)\n",
        "\n",
        "      plt.subplot(1, 3, i + 1)\n",
        "\n",
        "      # Scatter plot per class\n",
        "      for class_idx in range(top_n):\n",
        "          class_mask = (y_i == class_idx)\n",
        "          features_mask = features_2d[class_mask]\n",
        "          plt.scatter(features_mask[:, 0],\n",
        "                      features_mask[:, 1],\n",
        "                      color=colors[class_idx],\n",
        "                      label=f'{y_label_encoder.classes_[class_idx]}')\n",
        "\n",
        "      if i == 2:\n",
        "        # Legend\n",
        "        plt.legend(\n",
        "            bbox_to_anchor=(1.05, 1),\n",
        "            loc=\"upper left\",\n",
        "        )\n",
        "\n",
        "      plt.title(type_i)\n",
        "      plt.xlabel('Dimension 1')\n",
        "      plt.ylabel('Dimension 2')\n",
        "      plt.grid(True)\n",
        "\n",
        "    plt.suptitle(f't-SNE Visualization of Latent Space {model_name}, Metric: {metric}, TOP {top_n} Classes')\n",
        "    plt.savefig(save_path, dpi=300)\n",
        "    plt.show()\n"
      ]
    },
    {
      "cell_type": "code",
      "execution_count": 179,
      "id": "d71ba861",
      "metadata": {
        "colab": {
          "base_uri": "https://localhost:8080/"
        },
        "id": "d71ba861",
        "outputId": "e81b3d1d-37ed-4516-bc53-857e6bfaf30e"
      },
      "outputs": [
        {
          "output_type": "stream",
          "name": "stdout",
          "text": [
            "Skip lstm_shallow_v1, It is already in cache data\n",
            "Skip lstm_deep_v1, It is already in cache data\n",
            "Skip lstm_shallow_attention_v1, It is already in cache data\n",
            "Skip lstm_deep_attention_v1, It is already in cache data\n",
            "Skip lstm_shallow_attention_v2, It is already in cache data\n",
            "Skip lstm_shallow_attention_v3, It is already in cache data\n"
          ]
        }
      ],
      "source": [
        "for model in models_list:\n",
        "    m = model.feature_extractor_model\n",
        "\n",
        "    dir_save = os.path.join(BASE_DIR, 'latent_space')\n",
        "    os.makedirs(dir_save, exist_ok=True)\n",
        "    save_path = os.path.join(dir_save, f'{model.name} latent space.png')\n",
        "\n",
        "    if os.path.exists(save_path) == True:\n",
        "        print(f'Skip {model.name}, It is already in cache data')\n",
        "        continue\n",
        "\n",
        "    get_plot_latent_space(m,\n",
        "                          X_train, y_encoded_train,\n",
        "                          X_val, y_encoded_val,\n",
        "                          X_test, y_encoded_test,\n",
        "                          save_path, model.name,\n",
        "                          metric = model.metric,\n",
        "                          top_n = 10)"
      ]
    },
    {
      "cell_type": "markdown",
      "source": [
        "# Cache"
      ],
      "metadata": {
        "id": "ewSh7g9JK7e2"
      },
      "id": "ewSh7g9JK7e2"
    },
    {
      "cell_type": "code",
      "source": [
        "save_obj(x_tokenizer, TOKENIZER_PATH)"
      ],
      "metadata": {
        "id": "C4F1YA1OK7PV"
      },
      "id": "C4F1YA1OK7PV",
      "execution_count": 180,
      "outputs": []
    }
  ],
  "metadata": {
    "accelerator": "GPU",
    "colab": {
      "gpuType": "T4",
      "provenance": [],
      "toc_visible": true
    },
    "kernelspec": {
      "display_name": "Python 3",
      "name": "python3"
    },
    "language_info": {
      "codemirror_mode": {
        "name": "ipython",
        "version": 3
      },
      "file_extension": ".py",
      "mimetype": "text/x-python",
      "name": "python",
      "nbconvert_exporter": "python",
      "pygments_lexer": "ipython3",
      "version": "3.10.13"
    }
  },
  "nbformat": 4,
  "nbformat_minor": 5
}